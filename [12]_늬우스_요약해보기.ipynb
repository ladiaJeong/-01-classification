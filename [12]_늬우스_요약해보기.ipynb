{
  "cells": [
    {
      "cell_type": "markdown",
      "metadata": {
        "id": "view-in-github",
        "colab_type": "text"
      },
      "source": [
        "<a href=\"https://colab.research.google.com/github/ladiaJeong/-01-classification/blob/master/%5B12%5D_%EB%8A%AC%EC%9A%B0%EC%8A%A4_%EC%9A%94%EC%95%BD%ED%95%B4%EB%B3%B4%EA%B8%B0.ipynb\" target=\"_parent\"><img src=\"https://colab.research.google.com/assets/colab-badge.svg\" alt=\"Open In Colab\"/></a>"
      ]
    },
    {
      "cell_type": "code",
      "execution_count": null,
      "id": "ab005498",
      "metadata": {
        "id": "ab005498",
        "outputId": "57323cb1-3bfd-44aa-b54d-34775811733c"
      },
      "outputs": [
        {
          "name": "stdout",
          "output_type": "stream",
          "text": [
            "3.6.5\n",
            "2.6.0\n",
            "1.2.0\n"
          ]
        }
      ],
      "source": [
        "from importlib.metadata import version\n",
        "import nltk\n",
        "import tensorflow\n",
        "import summa\n",
        "\n",
        "print(nltk.__version__)\n",
        "print(tensorflow.__version__)\n",
        "print(version('summa'))"
      ]
    },
    {
      "cell_type": "code",
      "execution_count": null,
      "id": "0cbc7341",
      "metadata": {
        "id": "0cbc7341",
        "outputId": "9121febe-2071-4212-a7ce-67e5b605b599"
      },
      "outputs": [
        {
          "name": "stderr",
          "output_type": "stream",
          "text": [
            "[nltk_data] Downloading package stopwords to /aiffel/nltk_data...\n",
            "[nltk_data]   Unzipping corpora/stopwords.zip.\n"
          ]
        },
        {
          "name": "stdout",
          "output_type": "stream",
          "text": [
            "=3\n"
          ]
        }
      ],
      "source": [
        "import nltk\n",
        "nltk.download('stopwords')\n",
        "\n",
        "import numpy as np\n",
        "import pandas as pd\n",
        "import os\n",
        "import re\n",
        "import matplotlib.pyplot as plt\n",
        "from nltk.corpus import stopwords\n",
        "from bs4 import BeautifulSoup \n",
        "from tensorflow.keras.preprocessing.text import Tokenizer \n",
        "from tensorflow.keras.preprocessing.sequence import pad_sequences\n",
        "import urllib.request\n",
        "import warnings\n",
        "warnings.filterwarnings(\"ignore\", category=UserWarning, module='bs4')\n",
        "\n",
        "print('=3')"
      ]
    },
    {
      "cell_type": "markdown",
      "id": "93f4528e",
      "metadata": {
        "id": "93f4528e"
      },
      "source": [
        "#### Step 1. 데이터 수집하기"
      ]
    },
    {
      "cell_type": "code",
      "execution_count": null,
      "id": "b3c58c22",
      "metadata": {
        "id": "b3c58c22"
      },
      "outputs": [],
      "source": [
        "import urllib.request\n",
        "urllib.request.urlretrieve(\"https://raw.githubusercontent.com/sunnysai12345/News_Summary/master/news_summary_more.csv\", filename=\"news_summary_more.csv\")\n",
        "data = pd.read_csv('news_summary_more.csv', encoding='iso-8859-1')"
      ]
    },
    {
      "cell_type": "code",
      "execution_count": null,
      "id": "46d15ab4",
      "metadata": {
        "id": "46d15ab4",
        "outputId": "e9ca6929-75a4-4dbe-b986-d93c01d6c1ca"
      },
      "outputs": [
        {
          "data": {
            "text/html": [
              "<div>\n",
              "<style scoped>\n",
              "    .dataframe tbody tr th:only-of-type {\n",
              "        vertical-align: middle;\n",
              "    }\n",
              "\n",
              "    .dataframe tbody tr th {\n",
              "        vertical-align: top;\n",
              "    }\n",
              "\n",
              "    .dataframe thead th {\n",
              "        text-align: right;\n",
              "    }\n",
              "</style>\n",
              "<table border=\"1\" class=\"dataframe\">\n",
              "  <thead>\n",
              "    <tr style=\"text-align: right;\">\n",
              "      <th></th>\n",
              "      <th>headlines</th>\n",
              "      <th>text</th>\n",
              "    </tr>\n",
              "  </thead>\n",
              "  <tbody>\n",
              "    <tr>\n",
              "      <th>72895</th>\n",
              "      <td>FreshWorks buys Chennai-based Zarget in 9th ac...</td>\n",
              "      <td>Customer engagement platform Freshworks, forme...</td>\n",
              "    </tr>\n",
              "    <tr>\n",
              "      <th>65666</th>\n",
              "      <td>French agent accidentally texts jihadist he wa...</td>\n",
              "      <td>A French intelligence agent who was tasked wit...</td>\n",
              "    </tr>\n",
              "    <tr>\n",
              "      <th>17729</th>\n",
              "      <td>Nun's rape story a blackmail for better positi...</td>\n",
              "      <td>The Bishop accused of raping a Kerala nun has ...</td>\n",
              "    </tr>\n",
              "    <tr>\n",
              "      <th>64178</th>\n",
              "      <td>Apple Retail boss calls reports of her being n...</td>\n",
              "      <td>Apple's Senior Vice President of Retail Angela...</td>\n",
              "    </tr>\n",
              "    <tr>\n",
              "      <th>3076</th>\n",
              "      <td>20 crore workers join 2-day nationwide strike ...</td>\n",
              "      <td>Around 20 crore workers of the central trade u...</td>\n",
              "    </tr>\n",
              "    <tr>\n",
              "      <th>79271</th>\n",
              "      <td>Ram Temple should be constructed in legal mann...</td>\n",
              "      <td>BJP National President Amit Shah said on Satur...</td>\n",
              "    </tr>\n",
              "    <tr>\n",
              "      <th>61498</th>\n",
              "      <td>Alibaba posts record Singles' Day sales of $25...</td>\n",
              "      <td>Chinese e-commerce giant Alibaba generated a r...</td>\n",
              "    </tr>\n",
              "    <tr>\n",
              "      <th>28623</th>\n",
              "      <td>Takes courage, humility: Cong on Indira's Emer...</td>\n",
              "      <td>The Congress on Monday tweeted former PM Indir...</td>\n",
              "    </tr>\n",
              "    <tr>\n",
              "      <th>54208</th>\n",
              "      <td>Vidarbha beat 7-time champs Delhi to win maide...</td>\n",
              "      <td>Vidarbha won their first ever Ranji Trophy tit...</td>\n",
              "    </tr>\n",
              "    <tr>\n",
              "      <th>34495</th>\n",
              "      <td>Air India ceiling &amp; window panels break off am...</td>\n",
              "      <td>Three passengers were injured and the inner pa...</td>\n",
              "    </tr>\n",
              "  </tbody>\n",
              "</table>\n",
              "</div>"
            ],
            "text/plain": [
              "                                               headlines  \\\n",
              "72895  FreshWorks buys Chennai-based Zarget in 9th ac...   \n",
              "65666  French agent accidentally texts jihadist he wa...   \n",
              "17729  Nun's rape story a blackmail for better positi...   \n",
              "64178  Apple Retail boss calls reports of her being n...   \n",
              "3076   20 crore workers join 2-day nationwide strike ...   \n",
              "79271  Ram Temple should be constructed in legal mann...   \n",
              "61498  Alibaba posts record Singles' Day sales of $25...   \n",
              "28623  Takes courage, humility: Cong on Indira's Emer...   \n",
              "54208  Vidarbha beat 7-time champs Delhi to win maide...   \n",
              "34495  Air India ceiling & window panels break off am...   \n",
              "\n",
              "                                                    text  \n",
              "72895  Customer engagement platform Freshworks, forme...  \n",
              "65666  A French intelligence agent who was tasked wit...  \n",
              "17729  The Bishop accused of raping a Kerala nun has ...  \n",
              "64178  Apple's Senior Vice President of Retail Angela...  \n",
              "3076   Around 20 crore workers of the central trade u...  \n",
              "79271  BJP National President Amit Shah said on Satur...  \n",
              "61498  Chinese e-commerce giant Alibaba generated a r...  \n",
              "28623  The Congress on Monday tweeted former PM Indir...  \n",
              "54208  Vidarbha won their first ever Ranji Trophy tit...  \n",
              "34495  Three passengers were injured and the inner pa...  "
            ]
          },
          "execution_count": 4,
          "metadata": {},
          "output_type": "execute_result"
        }
      ],
      "source": [
        "data.sample(10)"
      ]
    },
    {
      "cell_type": "markdown",
      "id": "a4ff7496",
      "metadata": {
        "id": "a4ff7496"
      },
      "source": [
        "#### Step 2. 데이터 전처리하기 (추상적 요약)"
      ]
    },
    {
      "cell_type": "code",
      "execution_count": null,
      "id": "985c9602",
      "metadata": {
        "id": "985c9602",
        "outputId": "baf353b6-4399-4b9a-925f-ea111b623a3c"
      },
      "outputs": [
        {
          "name": "stdout",
          "output_type": "stream",
          "text": [
            "전체 샘플수 : 98401\n"
          ]
        }
      ],
      "source": [
        "print('전체 샘플수 :', (len(data)))"
      ]
    },
    {
      "cell_type": "code",
      "execution_count": null,
      "id": "19943dd9",
      "metadata": {
        "id": "19943dd9",
        "outputId": "a46f5b76-ed63-4985-8053-69ae98077220"
      },
      "outputs": [
        {
          "data": {
            "text/html": [
              "<div>\n",
              "<style scoped>\n",
              "    .dataframe tbody tr th:only-of-type {\n",
              "        vertical-align: middle;\n",
              "    }\n",
              "\n",
              "    .dataframe tbody tr th {\n",
              "        vertical-align: top;\n",
              "    }\n",
              "\n",
              "    .dataframe thead th {\n",
              "        text-align: right;\n",
              "    }\n",
              "</style>\n",
              "<table border=\"1\" class=\"dataframe\">\n",
              "  <thead>\n",
              "    <tr style=\"text-align: right;\">\n",
              "      <th></th>\n",
              "      <th>headlines</th>\n",
              "      <th>text</th>\n",
              "    </tr>\n",
              "  </thead>\n",
              "  <tbody>\n",
              "    <tr>\n",
              "      <th>0</th>\n",
              "      <td>upGrad learner switches to career in ML &amp; Al w...</td>\n",
              "      <td>Saurav Kant, an alumnus of upGrad and IIIT-B's...</td>\n",
              "    </tr>\n",
              "    <tr>\n",
              "      <th>1</th>\n",
              "      <td>Delhi techie wins free food from Swiggy for on...</td>\n",
              "      <td>Kunal Shah's credit card bill payment platform...</td>\n",
              "    </tr>\n",
              "    <tr>\n",
              "      <th>2</th>\n",
              "      <td>New Zealand end Rohit Sharma-led India's 12-ma...</td>\n",
              "      <td>New Zealand defeated India by 8 wickets in the...</td>\n",
              "    </tr>\n",
              "    <tr>\n",
              "      <th>3</th>\n",
              "      <td>Aegon life iTerm insurance plan helps customer...</td>\n",
              "      <td>With Aegon Life iTerm Insurance plan, customer...</td>\n",
              "    </tr>\n",
              "    <tr>\n",
              "      <th>4</th>\n",
              "      <td>Have known Hirani for yrs, what if MeToo claim...</td>\n",
              "      <td>Speaking about the sexual harassment allegatio...</td>\n",
              "    </tr>\n",
              "  </tbody>\n",
              "</table>\n",
              "</div>"
            ],
            "text/plain": [
              "                                           headlines  \\\n",
              "0  upGrad learner switches to career in ML & Al w...   \n",
              "1  Delhi techie wins free food from Swiggy for on...   \n",
              "2  New Zealand end Rohit Sharma-led India's 12-ma...   \n",
              "3  Aegon life iTerm insurance plan helps customer...   \n",
              "4  Have known Hirani for yrs, what if MeToo claim...   \n",
              "\n",
              "                                                text  \n",
              "0  Saurav Kant, an alumnus of upGrad and IIIT-B's...  \n",
              "1  Kunal Shah's credit card bill payment platform...  \n",
              "2  New Zealand defeated India by 8 wickets in the...  \n",
              "3  With Aegon Life iTerm Insurance plan, customer...  \n",
              "4  Speaking about the sexual harassment allegatio...  "
            ]
          },
          "execution_count": 6,
          "metadata": {},
          "output_type": "execute_result"
        }
      ],
      "source": [
        "data.head()"
      ]
    },
    {
      "cell_type": "code",
      "execution_count": null,
      "id": "efd5f473",
      "metadata": {
        "id": "efd5f473"
      },
      "outputs": [],
      "source": [
        "# column name 수정\n",
        "data.columns = ['Summary', 'Text']\n",
        "data['original'] = data['Text']"
      ]
    },
    {
      "cell_type": "code",
      "execution_count": null,
      "id": "64417452",
      "metadata": {
        "id": "64417452",
        "outputId": "10dd3004-6d38-4f80-fa40-72d1dd0c7a4a"
      },
      "outputs": [
        {
          "data": {
            "text/html": [
              "<div>\n",
              "<style scoped>\n",
              "    .dataframe tbody tr th:only-of-type {\n",
              "        vertical-align: middle;\n",
              "    }\n",
              "\n",
              "    .dataframe tbody tr th {\n",
              "        vertical-align: top;\n",
              "    }\n",
              "\n",
              "    .dataframe thead th {\n",
              "        text-align: right;\n",
              "    }\n",
              "</style>\n",
              "<table border=\"1\" class=\"dataframe\">\n",
              "  <thead>\n",
              "    <tr style=\"text-align: right;\">\n",
              "      <th></th>\n",
              "      <th>Summary</th>\n",
              "      <th>Text</th>\n",
              "      <th>original</th>\n",
              "    </tr>\n",
              "  </thead>\n",
              "  <tbody>\n",
              "    <tr>\n",
              "      <th>0</th>\n",
              "      <td>upGrad learner switches to career in ML &amp; Al w...</td>\n",
              "      <td>Saurav Kant, an alumnus of upGrad and IIIT-B's...</td>\n",
              "      <td>Saurav Kant, an alumnus of upGrad and IIIT-B's...</td>\n",
              "    </tr>\n",
              "    <tr>\n",
              "      <th>1</th>\n",
              "      <td>Delhi techie wins free food from Swiggy for on...</td>\n",
              "      <td>Kunal Shah's credit card bill payment platform...</td>\n",
              "      <td>Kunal Shah's credit card bill payment platform...</td>\n",
              "    </tr>\n",
              "    <tr>\n",
              "      <th>2</th>\n",
              "      <td>New Zealand end Rohit Sharma-led India's 12-ma...</td>\n",
              "      <td>New Zealand defeated India by 8 wickets in the...</td>\n",
              "      <td>New Zealand defeated India by 8 wickets in the...</td>\n",
              "    </tr>\n",
              "    <tr>\n",
              "      <th>3</th>\n",
              "      <td>Aegon life iTerm insurance plan helps customer...</td>\n",
              "      <td>With Aegon Life iTerm Insurance plan, customer...</td>\n",
              "      <td>With Aegon Life iTerm Insurance plan, customer...</td>\n",
              "    </tr>\n",
              "    <tr>\n",
              "      <th>4</th>\n",
              "      <td>Have known Hirani for yrs, what if MeToo claim...</td>\n",
              "      <td>Speaking about the sexual harassment allegatio...</td>\n",
              "      <td>Speaking about the sexual harassment allegatio...</td>\n",
              "    </tr>\n",
              "    <tr>\n",
              "      <th>5</th>\n",
              "      <td>Rahat Fateh Ali Khan denies getting notice for...</td>\n",
              "      <td>Pakistani singer Rahat Fateh Ali Khan has deni...</td>\n",
              "      <td>Pakistani singer Rahat Fateh Ali Khan has deni...</td>\n",
              "    </tr>\n",
              "    <tr>\n",
              "      <th>6</th>\n",
              "      <td>India get all out for 92, their lowest ODI tot...</td>\n",
              "      <td>India recorded their lowest ODI total in New Z...</td>\n",
              "      <td>India recorded their lowest ODI total in New Z...</td>\n",
              "    </tr>\n",
              "    <tr>\n",
              "      <th>7</th>\n",
              "      <td>Govt directs Alok Verma to join work 1 day bef...</td>\n",
              "      <td>Weeks after ex-CBI Director Alok Verma told th...</td>\n",
              "      <td>Weeks after ex-CBI Director Alok Verma told th...</td>\n",
              "    </tr>\n",
              "    <tr>\n",
              "      <th>8</th>\n",
              "      <td>Called PM Modi 'sir' 10 times to satisfy his e...</td>\n",
              "      <td>Andhra Pradesh CM N Chandrababu Naidu has said...</td>\n",
              "      <td>Andhra Pradesh CM N Chandrababu Naidu has said...</td>\n",
              "    </tr>\n",
              "    <tr>\n",
              "      <th>9</th>\n",
              "      <td>Cong wins Ramgarh bypoll in Rajasthan, takes t...</td>\n",
              "      <td>Congress candidate Shafia Zubair won the Ramga...</td>\n",
              "      <td>Congress candidate Shafia Zubair won the Ramga...</td>\n",
              "    </tr>\n",
              "  </tbody>\n",
              "</table>\n",
              "</div>"
            ],
            "text/plain": [
              "                                             Summary  \\\n",
              "0  upGrad learner switches to career in ML & Al w...   \n",
              "1  Delhi techie wins free food from Swiggy for on...   \n",
              "2  New Zealand end Rohit Sharma-led India's 12-ma...   \n",
              "3  Aegon life iTerm insurance plan helps customer...   \n",
              "4  Have known Hirani for yrs, what if MeToo claim...   \n",
              "5  Rahat Fateh Ali Khan denies getting notice for...   \n",
              "6  India get all out for 92, their lowest ODI tot...   \n",
              "7  Govt directs Alok Verma to join work 1 day bef...   \n",
              "8  Called PM Modi 'sir' 10 times to satisfy his e...   \n",
              "9  Cong wins Ramgarh bypoll in Rajasthan, takes t...   \n",
              "\n",
              "                                                Text  \\\n",
              "0  Saurav Kant, an alumnus of upGrad and IIIT-B's...   \n",
              "1  Kunal Shah's credit card bill payment platform...   \n",
              "2  New Zealand defeated India by 8 wickets in the...   \n",
              "3  With Aegon Life iTerm Insurance plan, customer...   \n",
              "4  Speaking about the sexual harassment allegatio...   \n",
              "5  Pakistani singer Rahat Fateh Ali Khan has deni...   \n",
              "6  India recorded their lowest ODI total in New Z...   \n",
              "7  Weeks after ex-CBI Director Alok Verma told th...   \n",
              "8  Andhra Pradesh CM N Chandrababu Naidu has said...   \n",
              "9  Congress candidate Shafia Zubair won the Ramga...   \n",
              "\n",
              "                                            original  \n",
              "0  Saurav Kant, an alumnus of upGrad and IIIT-B's...  \n",
              "1  Kunal Shah's credit card bill payment platform...  \n",
              "2  New Zealand defeated India by 8 wickets in the...  \n",
              "3  With Aegon Life iTerm Insurance plan, customer...  \n",
              "4  Speaking about the sexual harassment allegatio...  \n",
              "5  Pakistani singer Rahat Fateh Ali Khan has deni...  \n",
              "6  India recorded their lowest ODI total in New Z...  \n",
              "7  Weeks after ex-CBI Director Alok Verma told th...  \n",
              "8  Andhra Pradesh CM N Chandrababu Naidu has said...  \n",
              "9  Congress candidate Shafia Zubair won the Ramga...  "
            ]
          },
          "execution_count": 8,
          "metadata": {},
          "output_type": "execute_result"
        }
      ],
      "source": [
        "# data = data[['Text','Summary']]\n",
        "data.head(10)"
      ]
    },
    {
      "cell_type": "code",
      "execution_count": null,
      "id": "2a0a242d",
      "metadata": {
        "id": "2a0a242d",
        "outputId": "5ace9795-fded-4f7c-88ca-8fd3c7347ba2"
      },
      "outputs": [
        {
          "name": "stdout",
          "output_type": "stream",
          "text": [
            "Text 열에서 중복을 배제한 유일한 샘플의 수 : 98360\n",
            "Summary 열에서 중복을 배제한 유일한 샘플의 수 : 98280\n"
          ]
        }
      ],
      "source": [
        "# 중복 값 확인\n",
        "print('Text 열에서 중복을 배제한 유일한 샘플의 수 :', data['Text'].nunique())\n",
        "print('Summary 열에서 중복을 배제한 유일한 샘플의 수 :', data['Summary'].nunique())"
      ]
    },
    {
      "cell_type": "code",
      "execution_count": null,
      "id": "ed0c2225",
      "metadata": {
        "id": "ed0c2225",
        "outputId": "3b3ef1c4-e8ba-49ae-e25a-ec3e2098a691"
      },
      "outputs": [
        {
          "name": "stdout",
          "output_type": "stream",
          "text": [
            "전체 샘플수 : 98360\n"
          ]
        }
      ],
      "source": [
        "# inplace=True 를 설정하면 DataFrame 타입 값을 return 하지 않고 data 내부를 직접적으로 바꿉니다\n",
        "data.drop_duplicates(subset = ['Text'], inplace=True)\n",
        "print('전체 샘플수 :', (len(data)))"
      ]
    },
    {
      "cell_type": "code",
      "execution_count": null,
      "id": "820a278f",
      "metadata": {
        "id": "820a278f",
        "outputId": "eedecbc3-b8db-4fdc-ed9b-2913c0501281"
      },
      "outputs": [
        {
          "name": "stdout",
          "output_type": "stream",
          "text": [
            "Summary     0\n",
            "Text        0\n",
            "original    0\n",
            "dtype: int64\n"
          ]
        }
      ],
      "source": [
        "#null값 확인\n",
        "print(data.isnull().sum())"
      ]
    },
    {
      "cell_type": "code",
      "execution_count": null,
      "id": "e27b3ead",
      "metadata": {
        "id": "e27b3ead",
        "outputId": "1ecc42d4-2006-4eda-f29c-fc380e649f25"
      },
      "outputs": [
        {
          "name": "stdout",
          "output_type": "stream",
          "text": [
            "전체 샘플수 : 98360\n"
          ]
        }
      ],
      "source": [
        "data.dropna(axis=0, inplace=True)\n",
        "print('전체 샘플수 :', (len(data)))"
      ]
    },
    {
      "cell_type": "code",
      "execution_count": null,
      "id": "a9d0be47",
      "metadata": {
        "id": "a9d0be47",
        "outputId": "8f012991-ce94-4654-d9ca-0c54b24011cb"
      },
      "outputs": [
        {
          "name": "stdout",
          "output_type": "stream",
          "text": [
            "정규화 사전의 수:  120\n"
          ]
        }
      ],
      "source": [
        "contractions = {\"ain't\": \"is not\", \"aren't\": \"are not\",\"can't\": \"cannot\", \"'cause\": \"because\", \"could've\": \"could have\", \"couldn't\": \"could not\",\n",
        "                           \"didn't\": \"did not\",  \"doesn't\": \"does not\", \"don't\": \"do not\", \"hadn't\": \"had not\", \"hasn't\": \"has not\", \"haven't\": \"have not\",\n",
        "                           \"he'd\": \"he would\",\"he'll\": \"he will\", \"he's\": \"he is\", \"how'd\": \"how did\", \"how'd'y\": \"how do you\", \"how'll\": \"how will\", \"how's\": \"how is\",\n",
        "                           \"I'd\": \"I would\", \"I'd've\": \"I would have\", \"I'll\": \"I will\", \"I'll've\": \"I will have\",\"I'm\": \"I am\", \"I've\": \"I have\", \"i'd\": \"i would\",\n",
        "                           \"i'd've\": \"i would have\", \"i'll\": \"i will\",  \"i'll've\": \"i will have\",\"i'm\": \"i am\", \"i've\": \"i have\", \"isn't\": \"is not\", \"it'd\": \"it would\",\n",
        "                           \"it'd've\": \"it would have\", \"it'll\": \"it will\", \"it'll've\": \"it will have\",\"it's\": \"it is\", \"let's\": \"let us\", \"ma'am\": \"madam\",\n",
        "                           \"mayn't\": \"may not\", \"might've\": \"might have\",\"mightn't\": \"might not\",\"mightn't've\": \"might not have\", \"must've\": \"must have\",\n",
        "                           \"mustn't\": \"must not\", \"mustn't've\": \"must not have\", \"needn't\": \"need not\", \"needn't've\": \"need not have\",\"o'clock\": \"of the clock\",\n",
        "                           \"oughtn't\": \"ought not\", \"oughtn't've\": \"ought not have\", \"shan't\": \"shall not\", \"sha'n't\": \"shall not\", \"shan't've\": \"shall not have\",\n",
        "                           \"she'd\": \"she would\", \"she'd've\": \"she would have\", \"she'll\": \"she will\", \"she'll've\": \"she will have\", \"she's\": \"she is\",\n",
        "                           \"should've\": \"should have\", \"shouldn't\": \"should not\", \"shouldn't've\": \"should not have\", \"so've\": \"so have\",\"so's\": \"so as\",\n",
        "                           \"this's\": \"this is\",\"that'd\": \"that would\", \"that'd've\": \"that would have\", \"that's\": \"that is\", \"there'd\": \"there would\",\n",
        "                           \"there'd've\": \"there would have\", \"there's\": \"there is\", \"here's\": \"here is\",\"they'd\": \"they would\", \"they'd've\": \"they would have\",\n",
        "                           \"they'll\": \"they will\", \"they'll've\": \"they will have\", \"they're\": \"they are\", \"they've\": \"they have\", \"to've\": \"to have\",\n",
        "                           \"wasn't\": \"was not\", \"we'd\": \"we would\", \"we'd've\": \"we would have\", \"we'll\": \"we will\", \"we'll've\": \"we will have\", \"we're\": \"we are\",\n",
        "                           \"we've\": \"we have\", \"weren't\": \"were not\", \"what'll\": \"what will\", \"what'll've\": \"what will have\", \"what're\": \"what are\",\n",
        "                           \"what's\": \"what is\", \"what've\": \"what have\", \"when's\": \"when is\", \"when've\": \"when have\", \"where'd\": \"where did\", \"where's\": \"where is\",\n",
        "                           \"where've\": \"where have\", \"who'll\": \"who will\", \"who'll've\": \"who will have\", \"who's\": \"who is\", \"who've\": \"who have\",\n",
        "                           \"why's\": \"why is\", \"why've\": \"why have\", \"will've\": \"will have\", \"won't\": \"will not\", \"won't've\": \"will not have\",\n",
        "                           \"would've\": \"would have\", \"wouldn't\": \"would not\", \"wouldn't've\": \"would not have\", \"y'all\": \"you all\",\n",
        "                           \"y'all'd\": \"you all would\",\"y'all'd've\": \"you all would have\",\"y'all're\": \"you all are\",\"y'all've\": \"you all have\",\n",
        "                           \"you'd\": \"you would\", \"you'd've\": \"you would have\", \"you'll\": \"you will\", \"you'll've\": \"you will have\",\n",
        "                           \"you're\": \"you are\", \"you've\": \"you have\"}\n",
        "\n",
        "print(\"정규화 사전의 수: \", len(contractions))"
      ]
    },
    {
      "cell_type": "code",
      "execution_count": null,
      "id": "547384b1",
      "metadata": {
        "id": "547384b1",
        "outputId": "1fb2a08e-fc75-47c4-a09b-55834d52002b"
      },
      "outputs": [
        {
          "name": "stdout",
          "output_type": "stream",
          "text": [
            "불용어 개수 : 179\n",
            "['i', 'me', 'my', 'myself', 'we', 'our', 'ours', 'ourselves', 'you', \"you're\", \"you've\", \"you'll\", \"you'd\", 'your', 'yours', 'yourself', 'yourselves', 'he', 'him', 'his', 'himself', 'she', \"she's\", 'her', 'hers', 'herself', 'it', \"it's\", 'its', 'itself', 'they', 'them', 'their', 'theirs', 'themselves', 'what', 'which', 'who', 'whom', 'this', 'that', \"that'll\", 'these', 'those', 'am', 'is', 'are', 'was', 'were', 'be', 'been', 'being', 'have', 'has', 'had', 'having', 'do', 'does', 'did', 'doing', 'a', 'an', 'the', 'and', 'but', 'if', 'or', 'because', 'as', 'until', 'while', 'of', 'at', 'by', 'for', 'with', 'about', 'against', 'between', 'into', 'through', 'during', 'before', 'after', 'above', 'below', 'to', 'from', 'up', 'down', 'in', 'out', 'on', 'off', 'over', 'under', 'again', 'further', 'then', 'once', 'here', 'there', 'when', 'where', 'why', 'how', 'all', 'any', 'both', 'each', 'few', 'more', 'most', 'other', 'some', 'such', 'no', 'nor', 'not', 'only', 'own', 'same', 'so', 'than', 'too', 'very', 's', 't', 'can', 'will', 'just', 'don', \"don't\", 'should', \"should've\", 'now', 'd', 'll', 'm', 'o', 're', 've', 'y', 'ain', 'aren', \"aren't\", 'couldn', \"couldn't\", 'didn', \"didn't\", 'doesn', \"doesn't\", 'hadn', \"hadn't\", 'hasn', \"hasn't\", 'haven', \"haven't\", 'isn', \"isn't\", 'ma', 'mightn', \"mightn't\", 'mustn', \"mustn't\", 'needn', \"needn't\", 'shan', \"shan't\", 'shouldn', \"shouldn't\", 'wasn', \"wasn't\", 'weren', \"weren't\", 'won', \"won't\", 'wouldn', \"wouldn't\"]\n"
          ]
        }
      ],
      "source": [
        "print('불용어 개수 :', len(stopwords.words('english') ))\n",
        "print(stopwords.words('english'))"
      ]
    },
    {
      "cell_type": "code",
      "execution_count": null,
      "id": "492d1b3e",
      "metadata": {
        "id": "492d1b3e",
        "outputId": "3b10b518-ce10-44fd-cff6-1232e7729b8c"
      },
      "outputs": [
        {
          "name": "stdout",
          "output_type": "stream",
          "text": [
            "=3\n"
          ]
        }
      ],
      "source": [
        "# 데이터 전처리 함수\n",
        "def preprocess_sentence(sentence, remove_stopwords=True):\n",
        "    sentence = sentence.lower() # 텍스트 소문자화\n",
        "    sentence = BeautifulSoup(sentence, \"lxml\").text # html 태그 제거\n",
        "    sentence = re.sub(r'\\([^)]*\\)', '', sentence) # 괄호로 닫힌 문자열 (...) 제거 Ex) my husband (and myself!) for => my husband for\n",
        "    sentence = re.sub('\"','', sentence) # 쌍따옴표 \" 제거\n",
        "    sentence = ' '.join([contractions[t] if t in contractions else t for t in sentence.split(\" \")]) # 약어 정규화\n",
        "    sentence = re.sub(r\"'s\\b\",\"\", sentence) # 소유격 제거. Ex) roland's -> roland\n",
        "    sentence = re.sub(\"[^a-zA-Z]\", \" \", sentence) # 영어 외 문자(숫자, 특수문자 등) 공백으로 변환\n",
        "    sentence = re.sub('[m]{2,}', 'mm', sentence) # m이 3개 이상이면 2개로 변경. Ex) ummmmmmm yeah -> umm yeah\n",
        "    \n",
        "    # 불용어 제거 (Text)\n",
        "    if remove_stopwords:\n",
        "        tokens = ' '.join(word for word in sentence.split() if not word in stopwords.words('english') if len(word) > 1)\n",
        "    # 불용어 미제거 (Summary)\n",
        "    else:\n",
        "        tokens = ' '.join(word for word in sentence.split() if len(word) > 1)\n",
        "    return tokens\n",
        "print('=3')"
      ]
    },
    {
      "cell_type": "code",
      "execution_count": null,
      "id": "6d859e61",
      "metadata": {
        "id": "6d859e61",
        "outputId": "efc69fdc-cda4-4de4-9f0c-84b5cf355aaf"
      },
      "outputs": [
        {
          "name": "stdout",
          "output_type": "stream",
          "text": [
            "text:  everything bought great infact ordered twice third ordered wasfor mother father\n",
            "summary: great way to start the day\n"
          ]
        }
      ],
      "source": [
        "temp_text = 'Everything I bought was great, infact I ordered twice and the third ordered was<br />for my mother and father.'\n",
        "temp_summary = 'Great way to start (or finish) the day!!!'\n",
        "\n",
        "print(\"text: \", preprocess_sentence(temp_text))\n",
        "print(\"summary:\", preprocess_sentence(temp_summary, False))  # 불용어를 제거하지 않습니다."
      ]
    },
    {
      "cell_type": "code",
      "execution_count": null,
      "id": "717c8987",
      "metadata": {
        "id": "717c8987",
        "outputId": "6f1c9386-c6ae-411c-cf0d-88aa251f7e3e"
      },
      "outputs": [
        {
          "name": "stdout",
          "output_type": "stream",
          "text": [
            "Text 전처리 후 결과:  ['saurav kant alumnus upgrad iiit pg program machine learning artificial intelligence sr systems engineer infosys almost years work experience program upgrad degree career support helped transition data scientist tech mahindra salary hike upgrad online power learning powered lakh careers', 'kunal shah credit card bill payment platform cred gave users chance win free food swiggy one year pranav kaushik delhi techie bagged reward spending cred coins users get one cred coin per rupee bill paid used avail rewards brands like ixigo bookmyshow ubereats cult fit', 'new zealand defeated india wickets fourth odi hamilton thursday win first match five match odi series india lost international match rohit sharma captaincy consecutive victories dating back march match witnessed india getting seventh lowest total odi cricket history', 'aegon life iterm insurance plan customers enjoy tax benefits premiums paid save taxes plan provides life cover age years also customers options insure critical illnesses disability accidental death benefit rider life cover age years', 'speaking sexual harassment allegations rajkumar hirani sonam kapoor said known hirani many years true metoo movement get derailed metoo movement always believe woman case need reserve judgment added hirani accused assistant worked sanju']\n"
          ]
        }
      ],
      "source": [
        "clean_text = []\n",
        "# 전체 Text 데이터에 대한 전처리 : 10분 이상 시간이 걸릴 수 있습니다. \n",
        "for s in data['Text']:\n",
        "    clean_text.append(preprocess_sentence(s))\n",
        "\n",
        "# 전처리 후 출력\n",
        "print(\"Text 전처리 후 결과: \", clean_text[:5])"
      ]
    },
    {
      "cell_type": "code",
      "execution_count": null,
      "id": "0ce9e5ab",
      "metadata": {
        "id": "0ce9e5ab",
        "outputId": "c4d9ab9b-11c7-4877-de64-74b9f80a2072"
      },
      "outputs": [
        {
          "name": "stdout",
          "output_type": "stream",
          "text": [
            "Summary 전처리 후 결과:  ['upgrad learner switches to career in ml al with salary hike', 'delhi techie wins free food from swiggy for one year on cred', 'new zealand end rohit sharma led india match winning streak', 'aegon life iterm insurance plan helps customers save tax', 'have known hirani for yrs what if metoo claims are not true sonam']\n"
          ]
        }
      ],
      "source": [
        "clean_summary = []\n",
        "# 전체 Summary 데이터에 대한 전처리 : 5분 이상 시간이 걸릴 수 있습니다. \n",
        "for s in data['Summary']:\n",
        "    clean_summary.append(preprocess_sentence(s, False))\n",
        "\n",
        "print(\"Summary 전처리 후 결과: \", clean_summary[:5])"
      ]
    },
    {
      "cell_type": "code",
      "execution_count": null,
      "id": "91e09c4d",
      "metadata": {
        "id": "91e09c4d",
        "outputId": "f7a14569-10e0-411f-8d51-00bc6a1e1035"
      },
      "outputs": [
        {
          "name": "stdout",
          "output_type": "stream",
          "text": [
            "=3\n"
          ]
        }
      ],
      "source": [
        "data['Text'] = clean_text\n",
        "data['Summary'] = clean_summary\n",
        "\n",
        "# 빈 값을 Null 값으로 변환\n",
        "data.replace('', np.nan, inplace=True)\n",
        "print('=3')"
      ]
    },
    {
      "cell_type": "code",
      "execution_count": null,
      "id": "4666b2bb",
      "metadata": {
        "id": "4666b2bb",
        "outputId": "60671655-0b37-4afd-dd17-5b0f17e7a3a9"
      },
      "outputs": [
        {
          "data": {
            "text/plain": [
              "Summary     0\n",
              "Text        0\n",
              "original    0\n",
              "dtype: int64"
            ]
          },
          "execution_count": 20,
          "metadata": {},
          "output_type": "execute_result"
        }
      ],
      "source": [
        "data.isnull().sum()"
      ]
    },
    {
      "cell_type": "code",
      "execution_count": null,
      "id": "118c0893",
      "metadata": {
        "id": "118c0893",
        "outputId": "9c355380-da40-4a0a-e7f3-769951f50ce9"
      },
      "outputs": [
        {
          "name": "stdout",
          "output_type": "stream",
          "text": [
            "전체 샘플수 : 98360\n"
          ]
        }
      ],
      "source": [
        "data.dropna(axis=0, inplace=True)\n",
        "print('전체 샘플수 :', (len(data)))"
      ]
    },
    {
      "cell_type": "markdown",
      "id": "12fcf3bb",
      "metadata": {
        "id": "12fcf3bb"
      },
      "source": [
        "#### 훈련데이터와 테스트데이터 나누기"
      ]
    },
    {
      "cell_type": "code",
      "execution_count": null,
      "id": "02fec751",
      "metadata": {
        "id": "02fec751",
        "outputId": "06c67e19-8a92-4c82-d8c9-329e647db7d3"
      },
      "outputs": [
        {
          "name": "stdout",
          "output_type": "stream",
          "text": [
            "텍스트의 최소 길이 : 1\n",
            "텍스트의 최대 길이 : 60\n",
            "텍스트의 평균 길이 : 35.09968483123221\n",
            "요약의 최소 길이 : 1\n",
            "요약의 최대 길이 : 16\n",
            "요약의 평균 길이 : 9.299532330215534\n"
          ]
        },
        {
          "data": {
            "image/png": "[encoded data removed]",
            "text/plain": [
              "<Figure size 432x288 with 2 Axes>"
            ]
          },
          "metadata": {
            "needs_background": "light"
          },
          "output_type": "display_data"
        },
        {
          "data": {
            "image/png": "[encoded data removed]",
            "text/plain": [
              "<Figure size 432x288 with 1 Axes>"
            ]
          },
          "metadata": {
            "needs_background": "light"
          },
          "output_type": "display_data"
        },
        {
          "data": {
            "image/png": "[encoded data removed]",
            "text/plain": [
              "<Figure size 432x288 with 1 Axes>"
            ]
          },
          "metadata": {
            "needs_background": "light"
          },
          "output_type": "display_data"
        }
      ],
      "source": [
        "# 길이 분포 출력\n",
        "import matplotlib.pyplot as plt\n",
        "\n",
        "text_len = [len(s.split()) for s in data['Text']]\n",
        "summary_len = [len(s.split()) for s in data['Summary']]\n",
        "\n",
        "print('텍스트의 최소 길이 : {}'.format(np.min(text_len)))\n",
        "print('텍스트의 최대 길이 : {}'.format(np.max(text_len)))\n",
        "print('텍스트의 평균 길이 : {}'.format(np.mean(text_len)))\n",
        "print('요약의 최소 길이 : {}'.format(np.min(summary_len)))\n",
        "print('요약의 최대 길이 : {}'.format(np.max(summary_len)))\n",
        "print('요약의 평균 길이 : {}'.format(np.mean(summary_len)))\n",
        "\n",
        "plt.subplot(1,2,1)\n",
        "plt.boxplot(text_len)\n",
        "plt.title('Text')\n",
        "plt.subplot(1,2,2)\n",
        "plt.boxplot(summary_len)\n",
        "plt.title('Summary')\n",
        "plt.tight_layout()\n",
        "plt.show()\n",
        "\n",
        "plt.title('Text')\n",
        "plt.hist(text_len, bins = 40)\n",
        "plt.xlabel('length of samples')\n",
        "plt.ylabel('number of samples')\n",
        "plt.show()\n",
        "\n",
        "plt.title('Summary')\n",
        "plt.hist(summary_len, bins = 40)\n",
        "plt.xlabel('length of samples')\n",
        "plt.ylabel('number of samples')\n",
        "plt.show()"
      ]
    },
    {
      "cell_type": "code",
      "execution_count": null,
      "id": "646d588b",
      "metadata": {
        "id": "646d588b",
        "outputId": "06c1e240-9dae-4403-e129-f86c93462f81"
      },
      "outputs": [
        {
          "name": "stdout",
          "output_type": "stream",
          "text": [
            "=3\n"
          ]
        }
      ],
      "source": [
        "text_max_len = 50\n",
        "summary_max_len = 15\n",
        "print('=3')"
      ]
    },
    {
      "cell_type": "code",
      "execution_count": null,
      "id": "dbf135b8",
      "metadata": {
        "id": "dbf135b8",
        "outputId": "e34687ba-ce2d-4ff7-8225-446e4ac02ea6"
      },
      "outputs": [
        {
          "name": "stdout",
          "output_type": "stream",
          "text": [
            "=3\n"
          ]
        }
      ],
      "source": [
        "def below_threshold_len(max_len, nested_list):\n",
        "    cnt = 0\n",
        "    for s in nested_list:\n",
        "        if(len(s.split()) <= max_len):\n",
        "            cnt = cnt + 1\n",
        "    print('전체 샘플 중 길이가 %s 이하인 샘플의 비율: %s'%(max_len, (cnt / len(nested_list))))\n",
        "print('=3')"
      ]
    },
    {
      "cell_type": "code",
      "execution_count": null,
      "id": "62f9f665",
      "metadata": {
        "id": "62f9f665",
        "outputId": "40c3d608-0f9b-4674-ee84-c0e144263f6b"
      },
      "outputs": [
        {
          "name": "stdout",
          "output_type": "stream",
          "text": [
            "전체 샘플 중 길이가 50 이하인 샘플의 비율: 0.9998576657177715\n",
            "전체 샘플 중 길이가 15 이하인 샘플의 비율: 0.9999694997966653\n"
          ]
        }
      ],
      "source": [
        "below_threshold_len(text_max_len, data['Text'])\n",
        "below_threshold_len(summary_max_len,  data['Summary'])"
      ]
    },
    {
      "cell_type": "code",
      "execution_count": null,
      "id": "72fd5b9a",
      "metadata": {
        "id": "72fd5b9a",
        "outputId": "bf313a2e-7ba5-414d-9dec-37ea4e6f6884"
      },
      "outputs": [
        {
          "name": "stdout",
          "output_type": "stream",
          "text": [
            "전체 샘플수 : 98343\n"
          ]
        }
      ],
      "source": [
        "data = data[data['Text'].apply(lambda x: len(x.split()) <= text_max_len)]\n",
        "data = data[data['Summary'].apply(lambda x: len(x.split()) <= summary_max_len)]\n",
        "print('전체 샘플수 :', (len(data)))"
      ]
    },
    {
      "cell_type": "code",
      "execution_count": null,
      "id": "15223baa",
      "metadata": {
        "id": "15223baa",
        "outputId": "e56d2f06-d2b9-42d6-9d84-7d1b6a019808"
      },
      "outputs": [
        {
          "data": {
            "text/html": [
              "<div>\n",
              "<style scoped>\n",
              "    .dataframe tbody tr th:only-of-type {\n",
              "        vertical-align: middle;\n",
              "    }\n",
              "\n",
              "    .dataframe tbody tr th {\n",
              "        vertical-align: top;\n",
              "    }\n",
              "\n",
              "    .dataframe thead th {\n",
              "        text-align: right;\n",
              "    }\n",
              "</style>\n",
              "<table border=\"1\" class=\"dataframe\">\n",
              "  <thead>\n",
              "    <tr style=\"text-align: right;\">\n",
              "      <th></th>\n",
              "      <th>Summary</th>\n",
              "      <th>Text</th>\n",
              "      <th>original</th>\n",
              "      <th>decoder_input</th>\n",
              "      <th>decoder_target</th>\n",
              "    </tr>\n",
              "  </thead>\n",
              "  <tbody>\n",
              "    <tr>\n",
              "      <th>0</th>\n",
              "      <td>upgrad learner switches to career in ml al wit...</td>\n",
              "      <td>saurav kant alumnus upgrad iiit pg program mac...</td>\n",
              "      <td>Saurav Kant, an alumnus of upGrad and IIIT-B's...</td>\n",
              "      <td>sostoken upgrad learner switches to career in ...</td>\n",
              "      <td>upgrad learner switches to career in ml al wit...</td>\n",
              "    </tr>\n",
              "    <tr>\n",
              "      <th>1</th>\n",
              "      <td>delhi techie wins free food from swiggy for on...</td>\n",
              "      <td>kunal shah credit card bill payment platform c...</td>\n",
              "      <td>Kunal Shah's credit card bill payment platform...</td>\n",
              "      <td>sostoken delhi techie wins free food from swig...</td>\n",
              "      <td>delhi techie wins free food from swiggy for on...</td>\n",
              "    </tr>\n",
              "    <tr>\n",
              "      <th>2</th>\n",
              "      <td>new zealand end rohit sharma led india match w...</td>\n",
              "      <td>new zealand defeated india wickets fourth odi ...</td>\n",
              "      <td>New Zealand defeated India by 8 wickets in the...</td>\n",
              "      <td>sostoken new zealand end rohit sharma led indi...</td>\n",
              "      <td>new zealand end rohit sharma led india match w...</td>\n",
              "    </tr>\n",
              "    <tr>\n",
              "      <th>3</th>\n",
              "      <td>aegon life iterm insurance plan helps customer...</td>\n",
              "      <td>aegon life iterm insurance plan customers enjo...</td>\n",
              "      <td>With Aegon Life iTerm Insurance plan, customer...</td>\n",
              "      <td>sostoken aegon life iterm insurance plan helps...</td>\n",
              "      <td>aegon life iterm insurance plan helps customer...</td>\n",
              "    </tr>\n",
              "    <tr>\n",
              "      <th>4</th>\n",
              "      <td>have known hirani for yrs what if metoo claims...</td>\n",
              "      <td>speaking sexual harassment allegations rajkuma...</td>\n",
              "      <td>Speaking about the sexual harassment allegatio...</td>\n",
              "      <td>sostoken have known hirani for yrs what if met...</td>\n",
              "      <td>have known hirani for yrs what if metoo claims...</td>\n",
              "    </tr>\n",
              "  </tbody>\n",
              "</table>\n",
              "</div>"
            ],
            "text/plain": [
              "                                             Summary  \\\n",
              "0  upgrad learner switches to career in ml al wit...   \n",
              "1  delhi techie wins free food from swiggy for on...   \n",
              "2  new zealand end rohit sharma led india match w...   \n",
              "3  aegon life iterm insurance plan helps customer...   \n",
              "4  have known hirani for yrs what if metoo claims...   \n",
              "\n",
              "                                                Text  \\\n",
              "0  saurav kant alumnus upgrad iiit pg program mac...   \n",
              "1  kunal shah credit card bill payment platform c...   \n",
              "2  new zealand defeated india wickets fourth odi ...   \n",
              "3  aegon life iterm insurance plan customers enjo...   \n",
              "4  speaking sexual harassment allegations rajkuma...   \n",
              "\n",
              "                                            original  \\\n",
              "0  Saurav Kant, an alumnus of upGrad and IIIT-B's...   \n",
              "1  Kunal Shah's credit card bill payment platform...   \n",
              "2  New Zealand defeated India by 8 wickets in the...   \n",
              "3  With Aegon Life iTerm Insurance plan, customer...   \n",
              "4  Speaking about the sexual harassment allegatio...   \n",
              "\n",
              "                                       decoder_input  \\\n",
              "0  sostoken upgrad learner switches to career in ...   \n",
              "1  sostoken delhi techie wins free food from swig...   \n",
              "2  sostoken new zealand end rohit sharma led indi...   \n",
              "3  sostoken aegon life iterm insurance plan helps...   \n",
              "4  sostoken have known hirani for yrs what if met...   \n",
              "\n",
              "                                      decoder_target  \n",
              "0  upgrad learner switches to career in ml al wit...  \n",
              "1  delhi techie wins free food from swiggy for on...  \n",
              "2  new zealand end rohit sharma led india match w...  \n",
              "3  aegon life iterm insurance plan helps customer...  \n",
              "4  have known hirani for yrs what if metoo claims...  "
            ]
          },
          "execution_count": 27,
          "metadata": {},
          "output_type": "execute_result"
        }
      ],
      "source": [
        "# 요약 데이터에는 시작 토큰과 종료 토큰을 추가한다.\n",
        "data['decoder_input'] = data['Summary'].apply(lambda x : 'sostoken '+ x)\n",
        "data['decoder_target'] = data['Summary'].apply(lambda x : x + ' eostoken')\n",
        "data.head()"
      ]
    },
    {
      "cell_type": "code",
      "execution_count": null,
      "id": "c2dc911c",
      "metadata": {
        "id": "c2dc911c",
        "outputId": "e1adebda-e98a-4542-b44b-8857d2bb8faa"
      },
      "outputs": [
        {
          "name": "stdout",
          "output_type": "stream",
          "text": [
            "=3\n"
          ]
        }
      ],
      "source": [
        "encoder_input = np.array(data['Text']) # 인코더의 입력\n",
        "decoder_input = np.array(data['decoder_input']) # 디코더의 입력\n",
        "decoder_target = np.array(data['decoder_target']) # 디코더의 레이블\n",
        "print('=3')"
      ]
    },
    {
      "cell_type": "code",
      "execution_count": null,
      "id": "3a87868a",
      "metadata": {
        "id": "3a87868a",
        "outputId": "c4a3dcdb-1ba6-4539-f1b7-2d3957bd1ae9"
      },
      "outputs": [
        {
          "name": "stdout",
          "output_type": "stream",
          "text": [
            "[79533 37085 65529 ... 44242 31506 12979]\n"
          ]
        }
      ],
      "source": [
        "indices = np.arange(encoder_input.shape[0])\n",
        "np.random.shuffle(indices)\n",
        "print(indices)"
      ]
    },
    {
      "cell_type": "code",
      "execution_count": null,
      "id": "d6be2a17",
      "metadata": {
        "id": "d6be2a17",
        "outputId": "018ecfbe-c986-4fb7-bd5e-3e9d9fe60dd8"
      },
      "outputs": [
        {
          "name": "stdout",
          "output_type": "stream",
          "text": [
            "=3\n"
          ]
        }
      ],
      "source": [
        "encoder_input = encoder_input[indices]\n",
        "decoder_input = decoder_input[indices]\n",
        "decoder_target = decoder_target[indices]\n",
        "print('=3')"
      ]
    },
    {
      "cell_type": "code",
      "execution_count": null,
      "id": "01240b9d",
      "metadata": {
        "id": "01240b9d",
        "outputId": "c0b2154f-517a-4f53-9cc7-da54941d113b"
      },
      "outputs": [
        {
          "name": "stdout",
          "output_type": "stream",
          "text": [
            "테스트 데이터의 수 : 19668\n"
          ]
        }
      ],
      "source": [
        "n_of_val = int(len(encoder_input)*0.2)\n",
        "print('테스트 데이터의 수 :', n_of_val)"
      ]
    },
    {
      "cell_type": "code",
      "execution_count": null,
      "id": "83299d44",
      "metadata": {
        "id": "83299d44",
        "outputId": "3dc34ee4-6149-4e74-c16f-d3edeb41eb53"
      },
      "outputs": [
        {
          "name": "stdout",
          "output_type": "stream",
          "text": [
            "훈련 데이터의 개수 : 78675\n",
            "훈련 레이블의 개수 : 78675\n",
            "테스트 데이터의 개수 : 19668\n",
            "테스트 레이블의 개수 : 19668\n"
          ]
        }
      ],
      "source": [
        "encoder_input_train = encoder_input[:-n_of_val]\n",
        "decoder_input_train = decoder_input[:-n_of_val]\n",
        "decoder_target_train = decoder_target[:-n_of_val]\n",
        "\n",
        "encoder_input_test = encoder_input[-n_of_val:]\n",
        "decoder_input_test = decoder_input[-n_of_val:]\n",
        "decoder_target_test = decoder_target[-n_of_val:]\n",
        "\n",
        "print('훈련 데이터의 개수 :', len(encoder_input_train))\n",
        "print('훈련 레이블의 개수 :', len(decoder_input_train))\n",
        "print('테스트 데이터의 개수 :', len(encoder_input_test))\n",
        "print('테스트 레이블의 개수 :', len(decoder_input_test))"
      ]
    },
    {
      "cell_type": "code",
      "execution_count": null,
      "id": "d21db179",
      "metadata": {
        "id": "d21db179",
        "outputId": "022e3e71-a80f-4dda-c128-e52faef44fb7"
      },
      "outputs": [
        {
          "name": "stdout",
          "output_type": "stream",
          "text": [
            "=3\n"
          ]
        }
      ],
      "source": [
        "#정수 인코딩 \n",
        "src_tokenizer = Tokenizer() # 토크나이저 정의\n",
        "src_tokenizer.fit_on_texts(encoder_input_train) # 입력된 데이터로부터 단어 집합 생성\n",
        "print('=3')"
      ]
    },
    {
      "cell_type": "code",
      "execution_count": null,
      "id": "e6984f57",
      "metadata": {
        "id": "e6984f57",
        "outputId": "d6774e76-7ad3-40c8-f09d-a1579aeab5f5"
      },
      "outputs": [
        {
          "name": "stdout",
          "output_type": "stream",
          "text": [
            "단어 집합(vocabulary)의 크기 : 69667\n",
            "등장 빈도가 6번 이하인 희귀 단어의 수: 47477\n",
            "단어 집합에서 희귀 단어를 제외시킬 경우의 단어 집합의 크기 22190\n",
            "단어 집합에서 희귀 단어의 비율: 68.14847775847961\n",
            "전체 등장 빈도에서 희귀 단어 등장 빈도 비율: 3.486280991256685\n"
          ]
        }
      ],
      "source": [
        "threshold = 7\n",
        "total_cnt = len(src_tokenizer.word_index) # 단어의 수\n",
        "rare_cnt = 0 # 등장 빈도수가 threshold보다 작은 단어의 개수를 카운트\n",
        "total_freq = 0 # 훈련 데이터의 전체 단어 빈도수 총 합\n",
        "rare_freq = 0 # 등장 빈도수가 threshold보다 작은 단어의 등장 빈도수의 총 합\n",
        "\n",
        "# 단어와 빈도수의 쌍(pair)을 key와 value로 받는다.\n",
        "for key, value in src_tokenizer.word_counts.items():\n",
        "    total_freq = total_freq + value\n",
        "\n",
        "    # 단어의 등장 빈도수가 threshold보다 작으면\n",
        "    if(value < threshold):\n",
        "        rare_cnt = rare_cnt + 1\n",
        "        rare_freq = rare_freq + value\n",
        "\n",
        "print('단어 집합(vocabulary)의 크기 :', total_cnt)\n",
        "print('등장 빈도가 %s번 이하인 희귀 단어의 수: %s'%(threshold - 1, rare_cnt))\n",
        "print('단어 집합에서 희귀 단어를 제외시킬 경우의 단어 집합의 크기 %s'%(total_cnt - rare_cnt))\n",
        "print(\"단어 집합에서 희귀 단어의 비율:\", (rare_cnt / total_cnt)*100)\n",
        "print(\"전체 등장 빈도에서 희귀 단어 등장 빈도 비율:\", (rare_freq / total_freq)*100)"
      ]
    },
    {
      "cell_type": "code",
      "execution_count": null,
      "id": "3609e335",
      "metadata": {
        "id": "3609e335",
        "outputId": "35cd4b20-f2d9-4075-eefe-eb2e9609b350"
      },
      "outputs": [
        {
          "name": "stdout",
          "output_type": "stream",
          "text": [
            "=3\n"
          ]
        }
      ],
      "source": [
        "src_vocab = 30000\n",
        "src_tokenizer = Tokenizer(num_words=src_vocab) # 단어 집합의 크기를 10,000으로 제한\n",
        "src_tokenizer.fit_on_texts(encoder_input_train) # 단어 집합 재생성\n",
        "print('=3')"
      ]
    },
    {
      "cell_type": "code",
      "execution_count": null,
      "id": "89567f9b",
      "metadata": {
        "id": "89567f9b",
        "outputId": "50cae600-102a-4c03-ace6-2c6ca544a102"
      },
      "outputs": [
        {
          "name": "stdout",
          "output_type": "stream",
          "text": [
            "[[3692, 1738, 2, 14749, 889, 29674, 69, 1, 3692, 320, 333, 742, 700, 54, 3216, 1231, 1001, 8017, 1192, 615, 15, 1978, 1471, 191, 590, 1105, 3216, 985, 742, 849, 1274, 3692, 1094], [295, 8994, 11868, 811, 236, 19, 5730, 1706, 4962, 236, 955, 5190, 5191, 5191, 17, 6709, 4962, 1410, 3664, 17506, 4842, 955, 10488, 2908, 140, 24021, 6710, 8269, 3174, 955, 9825, 2622, 3891, 143, 3130, 2623], [86, 10, 254, 110, 1218, 2696, 264, 21, 38, 16, 3454, 3760, 1, 36, 8, 264, 406, 438, 77, 2348, 1377, 265, 586, 171, 345, 46, 15, 2348, 1, 3760, 15348, 666, 68, 2696, 38, 8]]\n"
          ]
        }
      ],
      "source": [
        "# 텍스트 시퀀스를 정수 시퀀스로 변환\n",
        "encoder_input_train = src_tokenizer.texts_to_sequences(encoder_input_train) \n",
        "encoder_input_test = src_tokenizer.texts_to_sequences(encoder_input_test)\n",
        "\n",
        "# 잘 진행되었는지 샘플 출력\n",
        "print(encoder_input_train[:3])"
      ]
    },
    {
      "cell_type": "code",
      "execution_count": null,
      "id": "4067dc2f",
      "metadata": {
        "id": "4067dc2f",
        "outputId": "d4260c60-96ce-49f0-93c2-1402e25fd620"
      },
      "outputs": [
        {
          "name": "stdout",
          "output_type": "stream",
          "text": [
            "=3\n"
          ]
        }
      ],
      "source": [
        "tar_tokenizer = Tokenizer()\n",
        "tar_tokenizer.fit_on_texts(decoder_input_train)\n",
        "print('=3')"
      ]
    },
    {
      "cell_type": "code",
      "execution_count": null,
      "id": "2329f365",
      "metadata": {
        "id": "2329f365",
        "outputId": "823c4a7c-5b7b-401e-8c77-26e7ab123f5f"
      },
      "outputs": [
        {
          "name": "stdout",
          "output_type": "stream",
          "text": [
            "단어 집합(vocabulary)의 크기 : 30141\n",
            "등장 빈도가 5번 이하인 희귀 단어의 수: 19735\n",
            "단어 집합에서 희귀 단어를 제외시킬 경우의 단어 집합의 크기 10406\n",
            "단어 집합에서 희귀 단어의 비율: 65.475598022627\n",
            "전체 등장 빈도에서 희귀 단어 등장 빈도 비율: 4.656969532402293\n"
          ]
        }
      ],
      "source": [
        "threshold = 6\n",
        "total_cnt = len(tar_tokenizer.word_index) # 단어의 수\n",
        "rare_cnt = 0 # 등장 빈도수가 threshold보다 작은 단어의 개수를 카운트\n",
        "total_freq = 0 # 훈련 데이터의 전체 단어 빈도수 총 합\n",
        "rare_freq = 0 # 등장 빈도수가 threshold보다 작은 단어의 등장 빈도수의 총 합\n",
        "\n",
        "# 단어와 빈도수의 쌍(pair)을 key와 value로 받는다.\n",
        "for key, value in tar_tokenizer.word_counts.items():\n",
        "    total_freq = total_freq + value\n",
        "\n",
        "    # 단어의 등장 빈도수가 threshold보다 작으면\n",
        "    if(value < threshold):\n",
        "        rare_cnt = rare_cnt + 1\n",
        "        rare_freq = rare_freq + value\n",
        "\n",
        "print('단어 집합(vocabulary)의 크기 :', total_cnt)\n",
        "print('등장 빈도가 %s번 이하인 희귀 단어의 수: %s'%(threshold - 1, rare_cnt))\n",
        "print('단어 집합에서 희귀 단어를 제외시킬 경우의 단어 집합의 크기 %s'%(total_cnt - rare_cnt))\n",
        "print(\"단어 집합에서 희귀 단어의 비율:\", (rare_cnt / total_cnt)*100)\n",
        "print(\"전체 등장 빈도에서 희귀 단어 등장 빈도 비율:\", (rare_freq / total_freq)*100)"
      ]
    },
    {
      "cell_type": "code",
      "execution_count": null,
      "id": "9c4cdde5",
      "metadata": {
        "id": "9c4cdde5",
        "outputId": "e7a54afc-14dc-42e9-809a-e3cbd8cb21f8"
      },
      "outputs": [
        {
          "name": "stdout",
          "output_type": "stream",
          "text": [
            "input\n",
            "input  [[1, 45, 3902, 169, 403, 424, 4, 1095, 4834, 1641], [1, 28, 3593, 2588, 6196, 137, 11565, 6, 5638, 103], [1, 329, 34, 2589, 5, 581, 958, 96, 3801], [1, 1037, 973, 411, 21, 651, 8187, 2037], [1, 5220, 5392, 837, 4, 510, 859, 2020, 12, 27, 1321, 173, 4835]]\n",
            "target\n",
            "decoder  [[45, 3902, 169, 403, 424, 4, 1095, 4834, 1641, 2], [28, 3593, 2588, 6196, 137, 11565, 6, 5638, 103, 2], [329, 34, 2589, 5, 581, 958, 96, 3801, 2], [1037, 973, 411, 21, 651, 8187, 2037, 2], [5220, 5392, 837, 4, 510, 859, 2020, 12, 27, 1321, 173, 4835, 2]]\n"
          ]
        }
      ],
      "source": [
        "tar_vocab = 20000\n",
        "tar_tokenizer = Tokenizer(num_words=tar_vocab) \n",
        "tar_tokenizer.fit_on_texts(decoder_input_train)\n",
        "tar_tokenizer.fit_on_texts(decoder_target_train)\n",
        "\n",
        "# 텍스트 시퀀스를 정수 시퀀스로 변환\n",
        "decoder_input_train = tar_tokenizer.texts_to_sequences(decoder_input_train) \n",
        "decoder_target_train = tar_tokenizer.texts_to_sequences(decoder_target_train)\n",
        "decoder_input_test = tar_tokenizer.texts_to_sequences(decoder_input_test)\n",
        "decoder_target_test = tar_tokenizer.texts_to_sequences(decoder_target_test)\n",
        "\n",
        "# 잘 변환되었는지 확인\n",
        "print('input')\n",
        "print('input ',decoder_input_train[:5])\n",
        "print('target')\n",
        "print('decoder ',decoder_target_train[:5])"
      ]
    },
    {
      "cell_type": "code",
      "execution_count": null,
      "id": "2fe9c1e6",
      "metadata": {
        "id": "2fe9c1e6",
        "outputId": "e8874690-589a-4e7e-ed0a-be1caa629b64"
      },
      "outputs": [
        {
          "name": "stdout",
          "output_type": "stream",
          "text": [
            "삭제할 훈련 데이터의 개수 : 0\n",
            "삭제할 테스트 데이터의 개수 : 0\n",
            "훈련 데이터의 개수 : 78675\n",
            "훈련 레이블의 개수 : 78675\n",
            "테스트 데이터의 개수 : 19668\n",
            "테스트 레이블의 개수 : 19668\n"
          ]
        }
      ],
      "source": [
        "drop_train = [index for index, sentence in enumerate(decoder_input_train) if len(sentence) == 1]\n",
        "drop_test = [index for index, sentence in enumerate(decoder_input_test) if len(sentence) == 1]\n",
        "\n",
        "print('삭제할 훈련 데이터의 개수 :', len(drop_train))\n",
        "print('삭제할 테스트 데이터의 개수 :', len(drop_test))\n",
        "\n",
        "encoder_input_train = [sentence for index, sentence in enumerate(encoder_input_train) if index not in drop_train]\n",
        "decoder_input_train = [sentence for index, sentence in enumerate(decoder_input_train) if index not in drop_train]\n",
        "decoder_target_train = [sentence for index, sentence in enumerate(decoder_target_train) if index not in drop_train]\n",
        "\n",
        "encoder_input_test = [sentence for index, sentence in enumerate(encoder_input_test) if index not in drop_test]\n",
        "decoder_input_test = [sentence for index, sentence in enumerate(decoder_input_test) if index not in drop_test]\n",
        "decoder_target_test = [sentence for index, sentence in enumerate(decoder_target_test) if index not in drop_test]\n",
        "\n",
        "print('훈련 데이터의 개수 :', len(encoder_input_train))\n",
        "print('훈련 레이블의 개수 :', len(decoder_input_train))\n",
        "print('테스트 데이터의 개수 :', len(encoder_input_test))\n",
        "print('테스트 레이블의 개수 :', len(decoder_input_test))"
      ]
    },
    {
      "cell_type": "code",
      "execution_count": null,
      "id": "4d91fbdb",
      "metadata": {
        "id": "4d91fbdb",
        "outputId": "91253e8f-da8c-4cf5-fff3-64e8c0374149"
      },
      "outputs": [
        {
          "name": "stdout",
          "output_type": "stream",
          "text": [
            "=3\n"
          ]
        }
      ],
      "source": [
        "# add padding\n",
        "encoder_input_train = pad_sequences(encoder_input_train, maxlen=text_max_len, padding='post')\n",
        "encoder_input_test = pad_sequences(encoder_input_test, maxlen=text_max_len, padding='post')\n",
        "decoder_input_train = pad_sequences(decoder_input_train, maxlen=summary_max_len, padding='post')\n",
        "decoder_target_train = pad_sequences(decoder_target_train, maxlen=summary_max_len, padding='post')\n",
        "decoder_input_test = pad_sequences(decoder_input_test, maxlen=summary_max_len, padding='post')\n",
        "decoder_target_test = pad_sequences(decoder_target_test, maxlen=summary_max_len, padding='post')\n",
        "print('=3')"
      ]
    },
    {
      "cell_type": "markdown",
      "id": "f1fcacda",
      "metadata": {
        "id": "f1fcacda"
      },
      "source": [
        "#### Step 3. 어텐션 메커니즘 사용하기 (추상적 요약)"
      ]
    },
    {
      "cell_type": "code",
      "execution_count": null,
      "id": "255dc638",
      "metadata": {
        "id": "255dc638"
      },
      "outputs": [],
      "source": [
        "from tensorflow.keras.layers import Input, LSTM, Embedding, Dense, Concatenate, TimeDistributed\n",
        "from tensorflow.keras.models import Model\n",
        "from tensorflow.keras.callbacks import EarlyStopping, ModelCheckpoint\n",
        "\n",
        "\n",
        "# 인코더 설계 시작\n",
        "embedding_dim = 128\n",
        "hidden_size = 512\n",
        "\n",
        "# 인코더\n",
        "encoder_inputs = Input(shape=(text_max_len,))\n",
        "\n",
        "# 인코더의 임베딩 층\n",
        "enc_emb = Embedding(src_vocab, embedding_dim)(encoder_inputs)\n",
        "\n",
        "# 인코더의 LSTM 1\n",
        "# encoder_lstm1 = LSTM(hidden_size, return_sequences=True, return_state=True ,dropout = 0.4, recurrent_dropout = 0.4)\n",
        "encoder_lstm1 = LSTM(hidden_size, return_sequences=True, return_state=True ,dropout = 0.4)\n",
        "encoder_output1, state_h1, state_c1 = encoder_lstm1(enc_emb)\n",
        "\n",
        "# 인코더의 LSTM 2\n",
        "# encoder_lstm2 = LSTM(hidden_size, return_sequences=True, return_state=True, dropout=0.4, recurrent_dropout=0.4)\n",
        "encoder_lstm2 = LSTM(hidden_size, return_sequences=True, return_state=True, dropout=0.4)\n",
        "encoder_output2, state_h2, state_c2 = encoder_lstm2(encoder_output1)\n",
        "\n",
        "# 인코더의 LSTM 3\n",
        "# encoder_lstm3 = LSTM(hidden_size, return_state=True, return_sequences=True, dropout=0.4, recurrent_dropout=0.4)\n",
        "encoder_lstm3 = LSTM(hidden_size, return_state=True, return_sequences=True, dropout=0.4)\n",
        "encoder_outputs, state_h, state_c= encoder_lstm3(encoder_output2)"
      ]
    },
    {
      "cell_type": "code",
      "execution_count": null,
      "id": "feab083b",
      "metadata": {
        "id": "feab083b"
      },
      "outputs": [],
      "source": [
        "# 디코더 설계\n",
        "decoder_inputs = Input(shape=(None,))\n",
        "\n",
        "# 디코더의 임베딩 층\n",
        "dec_emb_layer = Embedding(tar_vocab, embedding_dim)\n",
        "dec_emb = dec_emb_layer(decoder_inputs)\n",
        "\n",
        "# 디코더의 LSTM\n",
        "# decoder_lstm = LSTM(hidden_size, return_sequences=True, return_state=True, dropout=0.4, recurrent_dropout=0.2)\n",
        "decoder_lstm = LSTM(hidden_size, return_sequences=True, return_state=True, dropout=0.4)\n",
        "decoder_outputs, _, _ = decoder_lstm(dec_emb, initial_state=[state_h, state_c])"
      ]
    },
    {
      "cell_type": "code",
      "execution_count": null,
      "id": "195691a3",
      "metadata": {
        "id": "195691a3",
        "outputId": "56de01b2-04ec-4912-f2fe-7820c1b6f60b"
      },
      "outputs": [
        {
          "name": "stdout",
          "output_type": "stream",
          "text": [
            "Model: \"model\"\n",
            "__________________________________________________________________________________________________\n",
            "Layer (type)                    Output Shape         Param #     Connected to                     \n",
            "==================================================================================================\n",
            "input_1 (InputLayer)            [(None, 50)]         0                                            \n",
            "__________________________________________________________________________________________________\n",
            "embedding (Embedding)           (None, 50, 128)      3840000     input_1[0][0]                    \n",
            "__________________________________________________________________________________________________\n",
            "lstm (LSTM)                     [(None, 50, 512), (N 1312768     embedding[0][0]                  \n",
            "__________________________________________________________________________________________________\n",
            "input_2 (InputLayer)            [(None, None)]       0                                            \n",
            "__________________________________________________________________________________________________\n",
            "lstm_1 (LSTM)                   [(None, 50, 512), (N 2099200     lstm[0][0]                       \n",
            "__________________________________________________________________________________________________\n",
            "embedding_1 (Embedding)         (None, None, 128)    2560000     input_2[0][0]                    \n",
            "__________________________________________________________________________________________________\n",
            "lstm_2 (LSTM)                   [(None, 50, 512), (N 2099200     lstm_1[0][0]                     \n",
            "__________________________________________________________________________________________________\n",
            "lstm_3 (LSTM)                   [(None, None, 512),  1312768     embedding_1[0][0]                \n",
            "                                                                 lstm_2[0][1]                     \n",
            "                                                                 lstm_2[0][2]                     \n",
            "__________________________________________________________________________________________________\n",
            "dense (Dense)                   (None, None, 20000)  10260000    lstm_3[0][0]                     \n",
            "==================================================================================================\n",
            "Total params: 23,483,936\n",
            "Trainable params: 23,483,936\n",
            "Non-trainable params: 0\n",
            "__________________________________________________________________________________________________\n"
          ]
        }
      ],
      "source": [
        "# 디코더의 출력층\n",
        "decoder_softmax_layer = Dense(tar_vocab, activation='softmax')\n",
        "decoder_softmax_outputs = decoder_softmax_layer(decoder_outputs) \n",
        "\n",
        "# 모델 정의\n",
        "model = Model([encoder_inputs, decoder_inputs], decoder_softmax_outputs)\n",
        "model.summary()"
      ]
    },
    {
      "cell_type": "code",
      "execution_count": null,
      "id": "1c2b564d",
      "metadata": {
        "id": "1c2b564d",
        "outputId": "60b4f282-b23f-471e-b7bb-a923cee96f50"
      },
      "outputs": [
        {
          "name": "stdout",
          "output_type": "stream",
          "text": [
            "Model: \"model_1\"\n",
            "__________________________________________________________________________________________________\n",
            "Layer (type)                    Output Shape         Param #     Connected to                     \n",
            "==================================================================================================\n",
            "input_1 (InputLayer)            [(None, 50)]         0                                            \n",
            "__________________________________________________________________________________________________\n",
            "embedding (Embedding)           (None, 50, 128)      3840000     input_1[0][0]                    \n",
            "__________________________________________________________________________________________________\n",
            "lstm (LSTM)                     [(None, 50, 512), (N 1312768     embedding[0][0]                  \n",
            "__________________________________________________________________________________________________\n",
            "input_2 (InputLayer)            [(None, None)]       0                                            \n",
            "__________________________________________________________________________________________________\n",
            "lstm_1 (LSTM)                   [(None, 50, 512), (N 2099200     lstm[0][0]                       \n",
            "__________________________________________________________________________________________________\n",
            "embedding_1 (Embedding)         (None, None, 128)    2560000     input_2[0][0]                    \n",
            "__________________________________________________________________________________________________\n",
            "lstm_2 (LSTM)                   [(None, 50, 512), (N 2099200     lstm_1[0][0]                     \n",
            "__________________________________________________________________________________________________\n",
            "lstm_3 (LSTM)                   [(None, None, 512),  1312768     embedding_1[0][0]                \n",
            "                                                                 lstm_2[0][1]                     \n",
            "                                                                 lstm_2[0][2]                     \n",
            "__________________________________________________________________________________________________\n",
            "attention_layer (AdditiveAttent (None, None, 512)    512         lstm_3[0][0]                     \n",
            "                                                                 lstm_2[0][0]                     \n",
            "__________________________________________________________________________________________________\n",
            "concat_layer (Concatenate)      (None, None, 1024)   0           lstm_3[0][0]                     \n",
            "                                                                 attention_layer[0][0]            \n",
            "__________________________________________________________________________________________________\n",
            "dense_1 (Dense)                 (None, None, 20000)  20500000    concat_layer[0][0]               \n",
            "==================================================================================================\n",
            "Total params: 33,724,448\n",
            "Trainable params: 33,724,448\n",
            "Non-trainable params: 0\n",
            "__________________________________________________________________________________________________\n"
          ]
        }
      ],
      "source": [
        "from tensorflow.keras.layers import AdditiveAttention\n",
        "\n",
        "# 어텐션 층(어텐션 함수)\n",
        "attn_layer = AdditiveAttention(name='attention_layer')\n",
        "\n",
        "# 인코더와 디코더의 모든 time step의 hidden state를 어텐션 층에 전달하고 결과를 리턴\n",
        "attn_out = attn_layer([decoder_outputs, encoder_outputs])\n",
        "\n",
        "\n",
        "# 어텐션의 결과와 디코더의 hidden state들을 연결\n",
        "decoder_concat_input = Concatenate(axis=-1, name='concat_layer')([decoder_outputs, attn_out])\n",
        "\n",
        "# 디코더의 출력층\n",
        "decoder_softmax_layer = Dense(tar_vocab, activation='softmax')\n",
        "decoder_softmax_outputs = decoder_softmax_layer(decoder_concat_input)\n",
        "\n",
        "# 모델 정의\n",
        "model = Model([encoder_inputs, decoder_inputs], decoder_softmax_outputs)\n",
        "model.summary()"
      ]
    },
    {
      "cell_type": "code",
      "execution_count": null,
      "id": "85eca3ad",
      "metadata": {
        "id": "85eca3ad",
        "outputId": "f21d2966-9cd7-4c1b-dd53-4642f2a68048"
      },
      "outputs": [
        {
          "name": "stdout",
          "output_type": "stream",
          "text": [
            "Epoch 1/30\n",
            "154/154 [==============================] - 106s 647ms/step - loss: 5.0800 - val_loss: 4.6084\n",
            "Epoch 2/30\n",
            "154/154 [==============================] - 109s 708ms/step - loss: 4.5595 - val_loss: 4.3459\n",
            "Epoch 3/30\n",
            "154/154 [==============================] - 110s 714ms/step - loss: 4.2564 - val_loss: 4.0719\n",
            "Epoch 4/30\n",
            "154/154 [==============================] - 110s 714ms/step - loss: 3.9748 - val_loss: 3.8770\n",
            "Epoch 5/30\n",
            "154/154 [==============================] - 110s 713ms/step - loss: 3.7432 - val_loss: 3.7194\n",
            "Epoch 6/30\n",
            "154/154 [==============================] - 110s 716ms/step - loss: 3.5345 - val_loss: 3.5863\n",
            "Epoch 7/30\n",
            "154/154 [==============================] - 110s 715ms/step - loss: 3.3493 - val_loss: 3.5206\n",
            "Epoch 8/30\n",
            "154/154 [==============================] - 110s 717ms/step - loss: 3.1844 - val_loss: 3.4231\n",
            "Epoch 9/30\n",
            "154/154 [==============================] - 110s 714ms/step - loss: 3.0360 - val_loss: 3.3697\n",
            "Epoch 10/30\n",
            "154/154 [==============================] - 110s 715ms/step - loss: 2.9011 - val_loss: 3.3285\n",
            "Epoch 11/30\n",
            "154/154 [==============================] - 110s 715ms/step - loss: 2.7768 - val_loss: 3.3033\n",
            "Epoch 12/30\n",
            "154/154 [==============================] - 110s 717ms/step - loss: 2.6609 - val_loss: 3.2942\n",
            "Epoch 13/30\n",
            "154/154 [==============================] - 110s 715ms/step - loss: 2.5533 - val_loss: 3.2684\n",
            "Epoch 14/30\n",
            "154/154 [==============================] - 110s 716ms/step - loss: 2.4510 - val_loss: 3.2618\n",
            "Epoch 15/30\n",
            "154/154 [==============================] - 110s 715ms/step - loss: 2.3563 - val_loss: 3.2580\n",
            "Epoch 16/30\n",
            "154/154 [==============================] - 110s 715ms/step - loss: 2.2678 - val_loss: 3.2630\n",
            "Epoch 17/30\n",
            "154/154 [==============================] - 110s 714ms/step - loss: 2.1825 - val_loss: 3.2597\n",
            "Restoring model weights from the end of the best epoch.\n",
            "Epoch 00017: early stopping\n"
          ]
        }
      ],
      "source": [
        "model.compile(optimizer='rmsprop', loss='sparse_categorical_crossentropy')\n",
        "es = EarlyStopping(monitor='val_loss', patience=2, verbose=1, restore_best_weights=True)\n",
        "history = model.fit(x=[encoder_input_train, decoder_input_train], y=decoder_target_train, \\\n",
        "          validation_data=([encoder_input_test, decoder_input_test], decoder_target_test), \\\n",
        "          batch_size=512, callbacks=[es], epochs=30)"
      ]
    },
    {
      "cell_type": "code",
      "execution_count": null,
      "id": "4fc6484c",
      "metadata": {
        "id": "4fc6484c",
        "outputId": "9d3c193d-da69-4e60-af4c-77283ac358f7"
      },
      "outputs": [
        {
          "data": {
            "image/png": "[encoded data removed]",
            "text/plain": [
              "<Figure size 432x288 with 1 Axes>"
            ]
          },
          "metadata": {
            "needs_background": "light"
          },
          "output_type": "display_data"
        }
      ],
      "source": [
        "plt.plot(history.history['loss'], label='train')\n",
        "plt.plot(history.history['val_loss'], label='test')\n",
        "plt.legend()\n",
        "plt.show()"
      ]
    },
    {
      "cell_type": "markdown",
      "id": "0bef99b8",
      "metadata": {
        "id": "0bef99b8"
      },
      "source": [
        "#### Step 4. 실제 결과와 요약문 비교하기 (추상적 요약)"
      ]
    },
    {
      "cell_type": "code",
      "execution_count": null,
      "id": "bce3ed4a",
      "metadata": {
        "id": "bce3ed4a",
        "outputId": "6b9ba3d5-06ba-4f2b-e0ac-2b8530129fb3"
      },
      "outputs": [
        {
          "name": "stdout",
          "output_type": "stream",
          "text": [
            "=3\n"
          ]
        }
      ],
      "source": [
        "src_index_to_word = src_tokenizer.index_word # 원문 단어 집합에서 정수 -> 단어를 얻음\n",
        "tar_word_to_index = tar_tokenizer.word_index # 요약 단어 집합에서 단어 -> 정수를 얻음\n",
        "tar_index_to_word = tar_tokenizer.index_word # 요약 단어 집합에서 정수 -> 단어를 얻음\n",
        "\n",
        "print('=3')"
      ]
    },
    {
      "cell_type": "code",
      "execution_count": null,
      "id": "171426bf",
      "metadata": {
        "id": "171426bf",
        "outputId": "5a35f636-b11f-4358-b7c0-21333fb9b2be"
      },
      "outputs": [
        {
          "name": "stdout",
          "output_type": "stream",
          "text": [
            "=3\n"
          ]
        }
      ],
      "source": [
        "# 인코더 설계\n",
        "encoder_model = Model(inputs=encoder_inputs, outputs=[encoder_outputs, state_h, state_c])\n",
        "\n",
        "# 이전 시점의 상태들을 저장하는 텐서\n",
        "decoder_state_input_h = Input(shape=(hidden_size,))\n",
        "decoder_state_input_c = Input(shape=(hidden_size,))\n",
        "\n",
        "dec_emb2 = dec_emb_layer(decoder_inputs)\n",
        "\n",
        "# 문장의 다음 단어를 예측하기 위해서 초기 상태(initial_state)를 이전 시점의 상태로 사용. 이는 뒤의 함수 decode_sequence()에 구현\n",
        "# 훈련 과정에서와 달리 LSTM의 리턴하는 은닉 상태와 셀 상태인 state_h와 state_c를 버리지 않음.\n",
        "decoder_outputs2, state_h2, state_c2 = decoder_lstm(dec_emb2, initial_state=[decoder_state_input_h, decoder_state_input_c])\n",
        "\n",
        "print('=3')"
      ]
    },
    {
      "cell_type": "code",
      "execution_count": null,
      "id": "a2709bab",
      "metadata": {
        "id": "a2709bab",
        "outputId": "3294d911-597a-4556-e958-7a961ea4cad5"
      },
      "outputs": [
        {
          "name": "stdout",
          "output_type": "stream",
          "text": [
            "=3\n"
          ]
        }
      ],
      "source": [
        "# 어텐션 함수\n",
        "decoder_hidden_state_input = Input(shape=(text_max_len, hidden_size))\n",
        "attn_out_inf = attn_layer([decoder_outputs2, decoder_hidden_state_input])\n",
        "decoder_inf_concat = Concatenate(axis=-1, name='concat')([decoder_outputs2, attn_out_inf])\n",
        "\n",
        "# 디코더의 출력층\n",
        "decoder_outputs2 = decoder_softmax_layer(decoder_inf_concat) \n",
        "\n",
        "# 최종 디코더 모델\n",
        "decoder_model = Model(\n",
        "    [decoder_inputs] + [decoder_hidden_state_input,decoder_state_input_h, decoder_state_input_c],\n",
        "    [decoder_outputs2] + [state_h2, state_c2])\n",
        "\n",
        "print('=3')"
      ]
    },
    {
      "cell_type": "code",
      "execution_count": null,
      "id": "ee0cf3de",
      "metadata": {
        "id": "ee0cf3de",
        "outputId": "0f2de854-18ec-4efb-a7f4-6cc8c219a637"
      },
      "outputs": [
        {
          "name": "stdout",
          "output_type": "stream",
          "text": [
            "=3\n"
          ]
        }
      ],
      "source": [
        "def decode_sequence(input_seq):\n",
        "    # 입력으로부터 인코더의 상태를 얻음\n",
        "    e_out, e_h, e_c = encoder_model.predict(input_seq)\n",
        "\n",
        "     # 에 해당하는 토큰 생성\n",
        "    target_seq = np.zeros((1,1))\n",
        "    target_seq[0, 0] = tar_word_to_index['sostoken']\n",
        "\n",
        "    stop_condition = False\n",
        "    decoded_sentence = ''\n",
        "    while not stop_condition: # stop_condition이 True가 될 때까지 루프 반복\n",
        "\n",
        "        output_tokens, h, c = decoder_model.predict([target_seq] + [e_out, e_h, e_c])\n",
        "        sampled_token_index = np.argmax(output_tokens[0, -1, :])\n",
        "        sampled_token = tar_index_to_word[sampled_token_index]\n",
        "\n",
        "        if (sampled_token!='eostoken'):\n",
        "            decoded_sentence += ' '+sampled_token\n",
        "\n",
        "        #  에 도달하거나 최대 길이를 넘으면 중단.\n",
        "        if (sampled_token == 'eostoken'  or len(decoded_sentence.split()) >= (summary_max_len-1)):\n",
        "            stop_condition = True\n",
        "\n",
        "        # 길이가 1인 타겟 시퀀스를 업데이트\n",
        "        target_seq = np.zeros((1,1))\n",
        "        target_seq[0, 0] = sampled_token_index\n",
        "\n",
        "        # 상태를 업데이트 합니다.\n",
        "        e_h, e_c = h, c\n",
        "\n",
        "    return decoded_sentence\n",
        "print('=3')"
      ]
    },
    {
      "cell_type": "code",
      "execution_count": null,
      "id": "549cd3f1",
      "metadata": {
        "id": "549cd3f1",
        "outputId": "29fa3c30-19ba-4c45-da8b-b8248421b9d1"
      },
      "outputs": [
        {
          "name": "stdout",
          "output_type": "stream",
          "text": [
            "=3\n"
          ]
        }
      ],
      "source": [
        "# 원문의 정수 시퀀스를 텍스트 시퀀스로 변환\n",
        "def seq2text(input_seq):\n",
        "    temp=''\n",
        "    for i in input_seq:\n",
        "        if (i!=0):\n",
        "            temp = temp + src_index_to_word[i]+' '\n",
        "    return temp\n",
        "\n",
        "# 요약문의 정수 시퀀스를 텍스트 시퀀스로 변환\n",
        "def seq2summary(input_seq):\n",
        "    temp=''\n",
        "    for i in input_seq:\n",
        "        if ((i!=0 and i!=tar_word_to_index['sostoken']) and i!=tar_word_to_index['eostoken']):\n",
        "            temp = temp + tar_index_to_word[i] + ' '\n",
        "    return temp\n",
        "\n",
        "print('=3')"
      ]
    },
    {
      "cell_type": "code",
      "execution_count": null,
      "id": "1d2d4f31",
      "metadata": {
        "id": "1d2d4f31",
        "outputId": "41782f7f-78d6-4951-b754-eea07f6d096d"
      },
      "outputs": [
        {
          "name": "stdout",
          "output_type": "stream",
          "text": [
            "원문 : accused jharkhand gangrape case revealed statement wanted teach five ngo activists lesson said police women abducted gangraped performing street play village school incident filmed threaten six accused two arrested \n",
            "실제 요약 : wanted to teach women lesson accused in khand gangrape \n",
            "예측 요약 :  rape accused in bihar rape case after rape violence\n",
            "\n",
            "\n",
            "원문 : people killed injured dust thunderstorms across states india sunday according home ministry officials victims killed uttar pradesh least killed west bengal india meteorological department issued severe weather warning across states next hours \n",
            "실제 요약 : death toll in storms across states rises to \n",
            "예측 요약 :  killed in explosion in bangladesh in bangladesh\n",
            "\n",
            "\n",
            "원문 : germany interior minister said religion islam belong country would implement master plan quicker deportations however muslims living germany belong country added message muslims need live us next us us said \n",
            "실제 요약 : islam does not belong to germany interior minister \n",
            "예측 요약 :  will not allow to be part of emergency in venezuela\n",
            "\n",
            "\n",
            "원문 : bengaluru woman accused furniture startup firing channel claimed married another woman showing blurred pictures facebook profile allegedly told ousted hr knew making rounds media legal action wrongful termination initiated startup \n",
            "실제 요약 : woman claims startup fired her on reports of lesbian wedding \n",
            "예측 요약 :  woman claims woman to woman who tried to know her on phone\n",
            "\n",
            "\n",
            "원문 : occasion social media day saturday pm narendra modi urged youth continue using medium express discuss ideas freely world social media played key role discourse giving platform millions express views showcase creativity tweeted \n",
            "실제 요약 : continue freely pm modi on social media day \n",
            "예측 요약 :  modi urges pm modi to make hindi speech in hindi speech\n",
            "\n",
            "\n"
          ]
        }
      ],
      "source": [
        "for i in range(0, 5):\n",
        "    print(\"원문 :\", seq2text(encoder_input_test[i]))\n",
        "    print(\"실제 요약 :\", seq2summary(decoder_input_test[i]))\n",
        "    print(\"예측 요약 :\", decode_sequence(encoder_input_test[i].reshape(1, text_max_len)))\n",
        "    print(\"\\n\")"
      ]
    },
    {
      "cell_type": "markdown",
      "id": "5c7a69f7",
      "metadata": {
        "id": "5c7a69f7"
      },
      "source": [
        "#### Step 5. Summa을 이용해서 추출적 요약해보기"
      ]
    },
    {
      "cell_type": "code",
      "execution_count": null,
      "id": "a4112124",
      "metadata": {
        "id": "a4112124"
      },
      "outputs": [],
      "source": [
        "import requests\n",
        "from summa.summarizer import summarize"
      ]
    },
    {
      "cell_type": "code",
      "execution_count": null,
      "id": "7a84bea9",
      "metadata": {
        "id": "7a84bea9"
      },
      "outputs": [],
      "source": [
        "# Summarize 사용하기"
      ]
    },
    {
      "cell_type": "code",
      "execution_count": null,
      "id": "fd9794dc",
      "metadata": {
        "id": "fd9794dc"
      },
      "outputs": [],
      "source": [
        "summidx = data.iloc[indices[-n_of_val:-n_of_val+5]].index # raw 데이터 비교를 위해 본 데이터 이용; 인덱스 저장"
      ]
    },
    {
      "cell_type": "code",
      "execution_count": null,
      "id": "5eca0d76",
      "metadata": {
        "id": "5eca0d76",
        "outputId": "bf8b11a7-8620-4026-995e-0266fc55244d"
      },
      "outputs": [
        {
          "name": "stdout",
          "output_type": "stream",
          "text": [
            "원문 : The accused in the Jharkhand gangrape case have revealed in their statement that they wanted to teach the five NGO activists a lesson, said the police. The women were abducted and gangraped when they were performing a street play in a village school and the incident was filmed to threaten them. Out of the six accused, two have been arrested.\n",
            "\n",
            "\n",
            "실제 요약 : wanted to teach women lesson accused in khand gangrape \n",
            "예측 요약 :  rape accused in bihar rape case after rape violence\n",
            "예측 요약 : The accused in the Jharkhand gangrape case have revealed in their statement that they wanted to teach the five NGO activists a lesson, said the police.\n",
            "---------------------------------\n",
            "\n",
            "원문 : Over 70 people were killed and 96 injured in dust and thunderstorms across 6 states in India on Sunday, according to Home Ministry officials. While 42 victims were killed in Uttar Pradesh, at least 14 were killed in West Bengal. The India Meteorological Department has issued a severe weather warning across most states for the next 48 to 72 hours.\n",
            "\n",
            "\n",
            "실제 요약 : death toll in storms across states rises to \n",
            "예측 요약 :  killed in explosion in bangladesh in bangladesh\n",
            "예측 요약 : Over 70 people were killed and 96 injured in dust and thunderstorms across 6 states in India on Sunday, according to Home Ministry officials.\n",
            "---------------------------------\n",
            "\n",
            "원문 : Germany's Interior Minister Horst Seehofer has said that the religion of Islam does not belong to his country and he would implement a master plan for quicker deportations. However, Muslims living in Germany do belong to the country, he added. \"My message is: Muslims need to live with us, not next to us or against us,\" he further said.\n",
            "\n",
            "\n",
            "실제 요약 : islam does not belong to germany interior minister \n",
            "예측 요약 :  will not allow to be part of emergency in venezuela\n",
            "예측 요약 : However, Muslims living in Germany do belong to the country, he added.\n",
            "---------------------------------\n",
            "\n",
            "원문 : A Bengaluru woman has accused furniture startup Zefo of firing her after a channel claimed she had married another woman, showing blurred pictures from her Facebook profile. Zefo allegedly told her she was being ousted as the HR knew it was her who was \"making rounds in media\". Legal action for wrongful termination has been initiated against the startup.\n",
            "\n",
            "\n",
            "실제 요약 : woman claims startup fired her on reports of lesbian wedding \n",
            "예측 요약 :  woman claims woman to woman who tried to know her on phone\n",
            "예측 요약 : A Bengaluru woman has accused furniture startup Zefo of firing her after a channel claimed she had married another woman, showing blurred pictures from her Facebook profile.\n",
            "---------------------------------\n",
            "\n",
            "원문 : On the occasion of Social Media Day on Saturday, PM Narendra Modi urged the youth to continue using the medium to express and discuss their ideas freely. \"The world of social media has played a key role in democratising our discourse and giving a platform to millions...to express their views and showcase their creativity,\" he tweeted. \n",
            "\n",
            "\n",
            "실제 요약 : continue freely pm modi on social media day \n",
            "예측 요약 :  modi urges pm modi to make hindi speech in hindi speech\n",
            "예측 요약 : On the occasion of Social Media Day on Saturday, PM Narendra Modi urged the youth to continue using the medium to express and discuss their ideas freely.\n",
            "---------------------------------\n",
            "\n"
          ]
        }
      ],
      "source": [
        "original = data.loc[summidx,'original'].values # raw 원문 \n",
        "\n",
        "for i in range(0, 5):\n",
        "    print('원문 :' , original[i])\n",
        "    print(\"\\n\")\n",
        "    print(\"실제 요약 :\", seq2summary(decoder_input_test[i]))\n",
        "    print(\"예측 요약 :\", decode_sequence(encoder_input_test[i].reshape(1, text_max_len)))\n",
        "    print(\"예측 요약 :\", summarize(original[i],ratio=0.5))\n",
        "    print(\"---------------------------------\\n\")"
      ]
    },
    {
      "cell_type": "markdown",
      "id": "0e6fcfa6",
      "metadata": {
        "id": "0e6fcfa6"
      },
      "source": [
        "#### 회고 "
      ]
    },
    {
      "cell_type": "markdown",
      "id": "2552a24c",
      "metadata": {
        "id": "2552a24c"
      },
      "source": [
        "##### 1. 추출적 요약과 추상적 요약을 해보았다. 추상적 요약을 하는 경우에는 text를 본문, headlines를 이미 요약된 데이터로 삼아서 학습, 추출적 요약을 하는 경우에는 오직 text열만을 사용하게된다.\n",
        "\n",
        "##### 2. 두 요약에 결과를 비교해 보면 추상적 요약이 더 바람직 한것 같다. 보다 높은 정확도를 위한 전처리과정이나 하이퍼 파라미터 조절, 모델학습을 시키면 좋을 것 같다. 실제 사람들이 요약하는 방식과 비슷하다. 다양한 데이터로 학습을 잘 시키면 고급 단어들을 사용하여 충분이 의미를 비슷하게 전달 할 수 있을 것이라 판단된다. \n",
        "\n",
        "##### 3. 반면 추출적 요약은 문장안에 있는 컨텐츠를 그대로 반영해서 오류가 적을 것 같지만, 문장이 품은 의미는 같은 단어를 쓴다고 같은 의미를 띄는 것은 결코 아니기 때문에 결과값이 다고 어색하고 적절해 보이지는 않는다. 마치 어린아이가 요약을 한것 같다. \n",
        "\n",
        "##### 4. 시퀀스투시퀀스, 어텐션 등을 이용해 보았다. 모델의 특징을 완전히 소화하지 못하고 쓰니 찝찝하다. 방학기간동안 책을 좀 읽고 복습을 하는 시간을 가져야겠다. "
      ]
    },
    {
      "cell_type": "code",
      "execution_count": null,
      "id": "94a73abe",
      "metadata": {
        "id": "94a73abe"
      },
      "outputs": [],
      "source": []
    },
    {
      "cell_type": "code",
      "execution_count": null,
      "id": "ee338148",
      "metadata": {
        "id": "ee338148"
      },
      "outputs": [],
      "source": []
    }
  ],
  "metadata": {
    "kernelspec": {
      "display_name": "Python 3 (ipykernel)",
      "language": "python",
      "name": "python3"
    },
    "language_info": {
      "codemirror_mode": {
        "name": "ipython",
        "version": 3
      },
      "file_extension": ".py",
      "mimetype": "text/x-python",
      "name": "python",
      "nbconvert_exporter": "python",
      "pygments_lexer": "ipython3",
      "version": "3.9.7"
    },
    "colab": {
      "provenance": [],
      "include_colab_link": true
    }
  },
  "nbformat": 4,
  "nbformat_minor": 5
}