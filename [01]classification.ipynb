{
  "cells": [
    {
      "cell_type": "markdown",
      "metadata": {
        "id": "view-in-github",
        "colab_type": "text"
      },
      "source": [
        "<a href=\"https://colab.research.google.com/github/ladiaJeong/-01-classification/blob/master/%5B01%5Dclassification.ipynb\" target=\"_parent\"><img src=\"https://colab.research.google.com/assets/colab-badge.svg\" alt=\"Open In Colab\"/></a>"
      ]
    },
    {
      "cell_type": "markdown",
      "id": "3a26b66a",
      "metadata": {
        "id": "3a26b66a"
      },
      "source": [
        "## 1) load_digits : 손글씨를 분류해 봅시다"
      ]
    },
    {
      "cell_type": "code",
      "execution_count": null,
      "id": "5df68a6e",
      "metadata": {
        "id": "5df68a6e",
        "outputId": "dd96ba99-5b49-40c4-9888-13b84a321ed5"
      },
      "outputs": [
        {
          "name": "stdout",
          "output_type": "stream",
          "text": [
            "1.0\n"
          ]
        }
      ],
      "source": [
        "import sklearn\n",
        "\n",
        "print(sklearn.__version__)\n"
      ]
    },
    {
      "cell_type": "markdown",
      "id": "42a8299e",
      "metadata": {
        "id": "42a8299e"
      },
      "source": [
        "### (1) 필요한 모듈 import하기"
      ]
    },
    {
      "cell_type": "code",
      "execution_count": null,
      "id": "bb49e831",
      "metadata": {
        "id": "bb49e831"
      },
      "outputs": [],
      "source": [
        "from sklearn.datasets import load_digits\n",
        "from sklearn.model_selection import train_test_split\n",
        "from sklearn.metrics import classification_report"
      ]
    },
    {
      "cell_type": "markdown",
      "id": "c78d5e47",
      "metadata": {
        "id": "c78d5e47"
      },
      "source": [
        "### (2) 데이터 준비"
      ]
    },
    {
      "cell_type": "code",
      "execution_count": null,
      "id": "b2fe5126",
      "metadata": {
        "id": "b2fe5126",
        "outputId": "81196f67-8309-42e7-99fc-6ff983b7d770"
      },
      "outputs": [
        {
          "name": "stdout",
          "output_type": "stream",
          "text": [
            "['DESCR', 'data', 'feature_names', 'frame', 'images', 'target', 'target_names']\n"
          ]
        }
      ],
      "source": [
        "digits = load_digits()\n",
        "print(dir(digits))#Feature Data 지정하기"
      ]
    },
    {
      "cell_type": "markdown",
      "id": "bc7f6558",
      "metadata": {
        "id": "bc7f6558"
      },
      "source": [
        "### (3) 데이터 이해하기\n"
      ]
    },
    {
      "cell_type": "code",
      "execution_count": null,
      "id": "26216a24",
      "metadata": {
        "id": "26216a24",
        "outputId": "465f9397-feb3-40e6-f0d6-0a6dbe80f5ce"
      },
      "outputs": [
        {
          "name": "stdout",
          "output_type": "stream",
          "text": [
            "(1797, 64)\n"
          ]
        }
      ],
      "source": [
        "digits_data = digits.data\n",
        "print(digits_data.shape)"
      ]
    },
    {
      "cell_type": "code",
      "execution_count": null,
      "id": "2bd3586a",
      "metadata": {
        "id": "2bd3586a"
      },
      "outputs": [],
      "source": [
        "digits_label = digits.target #Label Data 지정하기"
      ]
    },
    {
      "cell_type": "code",
      "execution_count": null,
      "id": "c0cda4c0",
      "metadata": {
        "id": "c0cda4c0",
        "outputId": "b62c83b1-5f4c-4ead-d47c-8b22f0adffd4"
      },
      "outputs": [
        {
          "data": {
            "text/plain": [
              "array([0, 1, 2, 3, 4, 5, 6, 7, 8, 9])"
            ]
          },
          "execution_count": 6,
          "metadata": {},
          "output_type": "execute_result"
        }
      ],
      "source": [
        "digits.target_names #Target Names 출력해 보기"
      ]
    },
    {
      "cell_type": "code",
      "execution_count": null,
      "id": "5a838ec4",
      "metadata": {
        "id": "5a838ec4",
        "outputId": "356bd28e-5234-48e0-b95c-d4c66542fd78"
      },
      "outputs": [
        {
          "name": "stdout",
          "output_type": "stream",
          "text": [
            ".. _digits_dataset:\n",
            "\n",
            "Optical recognition of handwritten digits dataset\n",
            "--------------------------------------------------\n",
            "\n",
            "**Data Set Characteristics:**\n",
            "\n",
            "    :Number of Instances: 1797\n",
            "    :Number of Attributes: 64\n",
            "    :Attribute Information: 8x8 image of integer pixels in the range 0..16.\n",
            "    :Missing Attribute Values: None\n",
            "    :Creator: E. Alpaydin (alpaydin '@' boun.edu.tr)\n",
            "    :Date: July; 1998\n",
            "\n",
            "This is a copy of the test set of the UCI ML hand-written digits datasets\n",
            "https://archive.ics.uci.edu/ml/datasets/Optical+Recognition+of+Handwritten+Digits\n",
            "\n",
            "The data set contains images of hand-written digits: 10 classes where\n",
            "each class refers to a digit.\n",
            "\n",
            "Preprocessing programs made available by NIST were used to extract\n",
            "normalized bitmaps of handwritten digits from a preprinted form. From a\n",
            "total of 43 people, 30 contributed to the training set and different 13\n",
            "to the test set. 32x32 bitmaps are divided into nonoverlapping blocks of\n",
            "4x4 and the number of on pixels are counted in each block. This generates\n",
            "an input matrix of 8x8 where each element is an integer in the range\n",
            "0..16. This reduces dimensionality and gives invariance to small\n",
            "distortions.\n",
            "\n",
            "For info on NIST preprocessing routines, see M. D. Garris, J. L. Blue, G.\n",
            "T. Candela, D. L. Dimmick, J. Geist, P. J. Grother, S. A. Janet, and C.\n",
            "L. Wilson, NIST Form-Based Handprint Recognition System, NISTIR 5469,\n",
            "1994.\n",
            "\n",
            ".. topic:: References\n",
            "\n",
            "  - C. Kaynak (1995) Methods of Combining Multiple Classifiers and Their\n",
            "    Applications to Handwritten Digit Recognition, MSc Thesis, Institute of\n",
            "    Graduate Studies in Science and Engineering, Bogazici University.\n",
            "  - E. Alpaydin, C. Kaynak (1998) Cascading Classifiers, Kybernetika.\n",
            "  - Ken Tang and Ponnuthurai N. Suganthan and Xi Yao and A. Kai Qin.\n",
            "    Linear dimensionalityreduction using relevance weighted LDA. School of\n",
            "    Electrical and Electronic Engineering Nanyang Technological University.\n",
            "    2005.\n",
            "  - Claudio Gentile. A New Approximate Maximal Margin Classification\n",
            "    Algorithm. NIPS. 2000.\n",
            "\n"
          ]
        }
      ],
      "source": [
        "print(digits.DESCR) #데이터 Describe 해 보기"
      ]
    },
    {
      "cell_type": "markdown",
      "id": "77b608fc",
      "metadata": {
        "id": "77b608fc"
      },
      "source": [
        "### (4) train, test 데이터 분리"
      ]
    },
    {
      "cell_type": "code",
      "execution_count": null,
      "id": "e3fbc9f8",
      "metadata": {
        "id": "e3fbc9f8",
        "outputId": "33a33114-ebdb-4445-fa6d-112e4482249b"
      },
      "outputs": [
        {
          "name": "stdout",
          "output_type": "stream",
          "text": [
            "1.3.3\n"
          ]
        }
      ],
      "source": [
        "import pandas as pd\n",
        "\n",
        "print(pd.__version__)"
      ]
    },
    {
      "cell_type": "code",
      "execution_count": null,
      "id": "20fd0525",
      "metadata": {
        "id": "20fd0525",
        "outputId": "00bd72f2-d6f7-4e72-ce83-ff6a8b6ef9e6"
      },
      "outputs": [
        {
          "name": "stdout",
          "output_type": "stream",
          "text": [
            "X_train 개수:  1437 , X_test 개수:  360\n"
          ]
        }
      ],
      "source": [
        "from sklearn.model_selection import train_test_split\n",
        "X_train, X_test, y_train, y_test = train_test_split(digits_data,  #feature\n",
        "                                                    digits_label,  #label\n",
        "                                                    test_size=0.2,   #test dataset 크기\n",
        "                                                    random_state=7)  #데이터 분리 시 랜덤성\n",
        "\n",
        "print('X_train 개수: ', len(X_train),', X_test 개수: ', len(X_test))                                                   "
      ]
    },
    {
      "cell_type": "markdown",
      "id": "dfa5f394",
      "metadata": {
        "id": "dfa5f394"
      },
      "source": [
        "### (5) 다양한 모델로 학습시켜보기"
      ]
    },
    {
      "cell_type": "code",
      "execution_count": null,
      "id": "4dfe57ca",
      "metadata": {
        "id": "4dfe57ca",
        "outputId": "132c4a7e-f5ec-47b2-a9cb-ccc5276354b2"
      },
      "outputs": [
        {
          "name": "stdout",
          "output_type": "stream",
          "text": [
            "              precision    recall  f1-score   support\n",
            "\n",
            "           0       1.00      0.98      0.99        43\n",
            "           1       0.81      0.81      0.81        42\n",
            "           2       0.79      0.82      0.80        40\n",
            "           3       0.79      0.91      0.85        34\n",
            "           4       0.83      0.95      0.89        37\n",
            "           5       0.90      0.96      0.93        28\n",
            "           6       0.84      0.93      0.88        28\n",
            "           7       0.96      0.82      0.89        33\n",
            "           8       0.88      0.65      0.75        43\n",
            "           9       0.78      0.78      0.78        32\n",
            "\n",
            "    accuracy                           0.86       360\n",
            "   macro avg       0.86      0.86      0.86       360\n",
            "weighted avg       0.86      0.86      0.85       360\n",
            "\n",
            "0.8555555555555555\n"
          ]
        }
      ],
      "source": [
        "#Decision Tree 사용해 보기\n",
        "from sklearn.tree import DecisionTreeClassifier\n",
        "\n",
        "decision_tree = DecisionTreeClassifier(random_state=32)\n",
        "decision_tree.fit(X_train, y_train)\n",
        "y_pred = decision_tree.predict(X_test)\n",
        "\n",
        "print(classification_report(y_test, y_pred))\n",
        "\n",
        "from sklearn.metrics import accuracy_score\n",
        "print(accuracy_score(y_test, y_pred)) #정확도 확인"
      ]
    },
    {
      "cell_type": "code",
      "execution_count": null,
      "id": "a8aab789",
      "metadata": {
        "id": "a8aab789",
        "outputId": "ba2bf9fb-3804-4367-9d28-6fb25a45e31c"
      },
      "outputs": [
        {
          "name": "stdout",
          "output_type": "stream",
          "text": [
            "              precision    recall  f1-score   support\n",
            "\n",
            "           0       0.97      0.94      0.95        32\n",
            "           1       0.97      1.00      0.99        36\n",
            "           2       1.00      1.00      1.00        30\n",
            "           3       0.98      0.98      0.98        41\n",
            "           4       0.94      0.97      0.95        32\n",
            "           5       1.00      0.98      0.99        46\n",
            "           6       1.00      0.97      0.98        32\n",
            "           7       0.98      1.00      0.99        40\n",
            "           8       0.93      0.98      0.95        42\n",
            "           9       1.00      0.93      0.96        29\n",
            "\n",
            "    accuracy                           0.97       360\n",
            "   macro avg       0.98      0.97      0.97       360\n",
            "weighted avg       0.98      0.97      0.98       360\n",
            "\n",
            "0.975\n"
          ]
        }
      ],
      "source": [
        "#Random Forest 사용해 보기\n",
        "from sklearn.ensemble import RandomForestClassifier #랜덤포레스트라는 분류기를 사용하기 위해 import\n",
        "\n",
        "X_train, X_test, y_train, y_test = train_test_split(digits_data, # iris 데이터의 data 컬럼\n",
        "                                                    digits_label, # iris 데이터의 target 컬럼\n",
        "                                                    test_size=0.2, # test_size : train data와 test data를 몇대몇으로 나눌지 정하는 옵션\n",
        "                                                    random_state=21) # random_state : 랜덤 패턴의 값을 지정\n",
        "\n",
        "random_forest = RandomForestClassifier(random_state=32) # RandomForest분류기 객체를 생성\n",
        "random_forest.fit(X_train, y_train) # 훈련\n",
        "y_pred = random_forest.predict(X_test) # 예측\n",
        "\n",
        "print(classification_report(y_test, y_pred)) # 결과 지표를 확인\n",
        "\n",
        "from sklearn.metrics import accuracy_score\n",
        "print(accuracy_score(y_test, y_pred)) #정확도 확인"
      ]
    },
    {
      "cell_type": "code",
      "execution_count": null,
      "id": "013a3c49",
      "metadata": {
        "id": "013a3c49",
        "outputId": "251882d8-daf2-47de-9bd1-e5e87301a8c2"
      },
      "outputs": [
        {
          "name": "stdout",
          "output_type": "stream",
          "text": [
            "classifier\n",
            "              precision    recall  f1-score   support\n",
            "\n",
            "           0       1.00      0.97      0.98        32\n",
            "           1       0.95      1.00      0.97        36\n",
            "           2       1.00      1.00      1.00        30\n",
            "           3       1.00      1.00      1.00        41\n",
            "           4       0.97      1.00      0.98        32\n",
            "           5       0.98      1.00      0.99        46\n",
            "           6       1.00      1.00      1.00        32\n",
            "           7       1.00      1.00      1.00        40\n",
            "           8       0.98      0.95      0.96        42\n",
            "           9       1.00      0.93      0.96        29\n",
            "\n",
            "    accuracy                           0.99       360\n",
            "   macro avg       0.99      0.99      0.99       360\n",
            "weighted avg       0.99      0.99      0.99       360\n",
            "\n",
            "0.9861111111111112\n"
          ]
        }
      ],
      "source": [
        "#SVM 사용해 보기\n",
        "from sklearn import svm #Support Vector Machine을 사용하기 위해 import\n",
        "svm_model = svm.SVC() # 모델 객체를 만든다.\n",
        "\n",
        "print(svm_model._estimator_type) # 이 모델이 어떤 타입인지 확인한다.\n",
        "\n",
        "svm_model.fit(X_train, y_train) # 훈련\n",
        "y_pred = svm_model.predict(X_test) # 예측\n",
        "\n",
        "print(classification_report(y_test, y_pred)) # 결과 지표를 확인\n",
        "\n",
        "from sklearn.metrics import accuracy_score\n",
        "print(accuracy_score(y_test, y_pred)) #정확도 확인"
      ]
    },
    {
      "cell_type": "code",
      "execution_count": null,
      "id": "8a2fdd85",
      "metadata": {
        "id": "8a2fdd85",
        "outputId": "80c68d35-75e0-4da5-acdf-37264159a325"
      },
      "outputs": [
        {
          "name": "stdout",
          "output_type": "stream",
          "text": [
            "classifier\n",
            "              precision    recall  f1-score   support\n",
            "\n",
            "           0       1.00      0.94      0.97        32\n",
            "           1       0.92      0.92      0.92        36\n",
            "           2       1.00      1.00      1.00        30\n",
            "           3       0.93      1.00      0.96        41\n",
            "           4       0.91      1.00      0.96        32\n",
            "           5       0.98      0.98      0.98        46\n",
            "           6       0.94      1.00      0.97        32\n",
            "           7       1.00      0.97      0.99        40\n",
            "           8       1.00      0.88      0.94        42\n",
            "           9       0.97      0.97      0.97        29\n",
            "\n",
            "    accuracy                           0.96       360\n",
            "   macro avg       0.96      0.97      0.96       360\n",
            "weighted avg       0.97      0.96      0.96       360\n",
            "\n",
            "0.9638888888888889\n"
          ]
        }
      ],
      "source": [
        "#SGD Classifier 사용해 보기\n",
        "from sklearn.linear_model import SGDClassifier #선형분류기인 SGDClassifier를 사용하기 위한 import\n",
        "sgd_model = SGDClassifier() # 모델 객체 생성\n",
        "\n",
        "print(sgd_model._estimator_type) # 이 모델의 타입을 확인\n",
        "\n",
        "sgd_model.fit(X_train, y_train) # sgd모델로 훈련데이터로 훈련시킨다.\n",
        "y_pred = sgd_model.predict(X_test)# 그 모델로 test데이터를 사용해 예측\n",
        "\n",
        "print(classification_report(y_test, y_pred)) # 결과 지표를 확인\n",
        "\n",
        "from sklearn.metrics import accuracy_score\n",
        "print(accuracy_score(y_test, y_pred)) #정확도 확인"
      ]
    },
    {
      "cell_type": "code",
      "execution_count": null,
      "id": "7ee0b2fc",
      "metadata": {
        "scrolled": false,
        "id": "7ee0b2fc",
        "outputId": "26c2b9b7-6b8c-4381-d8be-08ee5fb571e7"
      },
      "outputs": [
        {
          "name": "stdout",
          "output_type": "stream",
          "text": [
            "classifier\n",
            "              precision    recall  f1-score   support\n",
            "\n",
            "           0       0.92      0.85      0.88        39\n",
            "           1       0.92      0.96      0.94        75\n",
            "\n",
            "    accuracy                           0.92       114\n",
            "   macro avg       0.92      0.90      0.91       114\n",
            "weighted avg       0.92      0.92      0.92       114\n",
            "\n",
            "0.9210526315789473\n"
          ]
        },
        {
          "name": "stderr",
          "output_type": "stream",
          "text": [
            "/opt/conda/lib/python3.9/site-packages/sklearn/linear_model/_logistic.py:814: ConvergenceWarning: lbfgs failed to converge (status=1):\n",
            "STOP: TOTAL NO. of ITERATIONS REACHED LIMIT.\n",
            "\n",
            "Increase the number of iterations (max_iter) or scale the data as shown in:\n",
            "    https://scikit-learn.org/stable/modules/preprocessing.html\n",
            "Please also refer to the documentation for alternative solver options:\n",
            "    https://scikit-learn.org/stable/modules/linear_model.html#logistic-regression\n",
            "  n_iter_i = _check_optimize_result(\n"
          ]
        }
      ],
      "source": [
        "#Logistic Regression 사용해 보기\n",
        "from sklearn.linear_model import LogisticRegression # 선형분류기인 LogisticRegression를 사용하기 위한 import\n",
        "logistic_model = LogisticRegression() # 모델 객체 생성\n",
        "\n",
        "print(logistic_model._estimator_type) # 이 모델의 타입을 확인\n",
        "\n",
        "logistic_model.fit(X_train, y_train) #LogisticRegression모델로 훈련데이터를 가지고 훈련시킨다.\n",
        "y_pred = logistic_model.predict(X_test) # 예측\n",
        "\n",
        "print(classification_report(y_test, y_pred)) # 결과 지표를 확인\n",
        "\n",
        "from sklearn.metrics import accuracy_score\n",
        "print(accuracy_score(y_test, y_pred)) #정확도 확인"
      ]
    },
    {
      "cell_type": "markdown",
      "id": "a2625ea9",
      "metadata": {
        "id": "a2625ea9"
      },
      "source": [
        "### (6) 모델을 평가해 보기"
      ]
    },
    {
      "cell_type": "markdown",
      "id": "0398a52d",
      "metadata": {
        "id": "0398a52d"
      },
      "source": [
        "손글씨 데이터는 총 1,797개, 62개의 숫자로 이루어져있다. 각 이미지가 62(8x8)개의 픽셀을 일렬로 펴놓은것이다. target 데이터는 0부터 9까지의 숫자를 나타낸다.\n",
        "\n",
        "Decision tree :0.844  \n",
        "random forest :0.975  \n",
        "svm :0.986  \n",
        "sgd classifier :0.958  \n",
        "Logistic Regression :0.978 (소수 3째자리까지 반올림으로 나타내기)"
      ]
    },
    {
      "cell_type": "markdown",
      "id": "267978ca",
      "metadata": {
        "id": "267978ca"
      },
      "source": [
        "## 회고"
      ]
    },
    {
      "cell_type": "markdown",
      "id": "82d1f36d",
      "metadata": {
        "id": "82d1f36d"
      },
      "source": [
        "### 1. 손글씨 데이터에서 모델 성능 평가 수치를 보면 눈에 띄는 것이 의사결정 트리 모델 성능이 가장 낮은 것이다. \n",
        "손글씨 데이터는 특정 숫자가 T or F 의 값 중 하나를 선택해서 결과값을 도출하는 방식이다. 마치 토너먼트 경기처럼 한번 지면 다시 기회가 없듯 한번 잘못 판단하는 데이터는 다시 기회가 없기 때문에 손실이 발생하는 것 같다.  이를 보완한 랜덤 포레스트는 데이터에게 랜덤으로 기회를 여러번 주기때문에 손실이 적게 발생하고 모델 성능이 의사결정 나무에 비해 훨씬 좋다.  \n",
        "\n",
        "랜덤 포레스트 방식을 통해 '컴퓨터적 사고'에 대해 생각해 보았다. 의사결정 트리의 단점 보완을 위해서 다른 방법을 찾기 보다는 같은 로직 안에서 [랜덤+무한반복]이라는 방식의 도구로 해결한 것이 참 좋았다. 숲에서 나오는 여러 의견을을 통합하고 합쳐서 결과값을 내니 모델의 성능이 좋아진다.  \n",
        "\n",
        "### 2. Logistic Regression 를 사용했을 때 핑크색 박스에 알 수 없는 정보가 가득했다. \n",
        "\n",
        "일단은 와인과 유방암에서도 나오는 지 비교하기 위해 그냥 두었다. \n",
        "\n",
        "### 3. 가장 성능이 좋았던 모델은 svm이다. "
      ]
    },
    {
      "cell_type": "markdown",
      "id": "e3339758",
      "metadata": {
        "id": "e3339758"
      },
      "source": [
        "---"
      ]
    },
    {
      "cell_type": "markdown",
      "id": "2a34cb3a",
      "metadata": {
        "id": "2a34cb3a"
      },
      "source": [
        "## 2) load_wine : 와인을 분류해 봅시다"
      ]
    },
    {
      "cell_type": "markdown",
      "id": "76bf80cd",
      "metadata": {
        "id": "76bf80cd"
      },
      "source": [
        "### (1) 필요한 모듈 import하기"
      ]
    },
    {
      "cell_type": "code",
      "execution_count": null,
      "id": "e7d61b4d",
      "metadata": {
        "id": "e7d61b4d"
      },
      "outputs": [],
      "source": [
        "from sklearn.datasets import load_wine\n",
        "from sklearn.model_selection import train_test_split\n",
        "from sklearn.metrics import classification_report"
      ]
    },
    {
      "cell_type": "markdown",
      "id": "6e4d2f8b",
      "metadata": {
        "id": "6e4d2f8b"
      },
      "source": [
        "### (2) 데이터 준비"
      ]
    },
    {
      "cell_type": "code",
      "execution_count": null,
      "id": "95569862",
      "metadata": {
        "id": "95569862",
        "outputId": "bd14690c-134e-4f51-ceaf-17b686ec8320",
        "colab": {
          "base_uri": "https://localhost:8080/"
        }
      },
      "outputs": [
        {
          "output_type": "stream",
          "name": "stdout",
          "text": [
            "['DESCR', 'data', 'feature_names', 'frame', 'target', 'target_names']\n",
            "(178, 13)\n"
          ]
        }
      ],
      "source": [
        "wine = load_wine()\n",
        "print(dir(wine))#Feature Data 지정하기\n",
        "\n",
        "wine_data = wine.data\n",
        "\n",
        "print(wine_data.shape)\n"
      ]
    },
    {
      "cell_type": "markdown",
      "id": "65a41263",
      "metadata": {
        "id": "65a41263"
      },
      "source": [
        "### (3) 데이터 이해하기\n"
      ]
    },
    {
      "cell_type": "code",
      "execution_count": null,
      "id": "ac36f483",
      "metadata": {
        "id": "ac36f483",
        "outputId": "bbc66b6d-b1aa-4e45-b2a2-c96c3d6811f9"
      },
      "outputs": [
        {
          "data": {
            "text/plain": [
              "array(['class_0', 'class_1', 'class_2'], dtype='<U7')"
            ]
          },
          "execution_count": 17,
          "metadata": {},
          "output_type": "execute_result"
        }
      ],
      "source": [
        "#Feature Data 지정하기\n",
        "wine_label = wine.target #Label Data 지정하기\n",
        "wine.target_names #Target Names 출력해 보기"
      ]
    },
    {
      "cell_type": "code",
      "execution_count": null,
      "id": "5e67853a",
      "metadata": {
        "id": "5e67853a",
        "outputId": "6acd0b91-05c7-43de-f43a-5331fc7bcd10"
      },
      "outputs": [
        {
          "name": "stdout",
          "output_type": "stream",
          "text": [
            ".. _wine_dataset:\n",
            "\n",
            "Wine recognition dataset\n",
            "------------------------\n",
            "\n",
            "**Data Set Characteristics:**\n",
            "\n",
            "    :Number of Instances: 178 (50 in each of three classes)\n",
            "    :Number of Attributes: 13 numeric, predictive attributes and the class\n",
            "    :Attribute Information:\n",
            " \t\t- Alcohol\n",
            " \t\t- Malic acid\n",
            " \t\t- Ash\n",
            "\t\t- Alcalinity of ash  \n",
            " \t\t- Magnesium\n",
            "\t\t- Total phenols\n",
            " \t\t- Flavanoids\n",
            " \t\t- Nonflavanoid phenols\n",
            " \t\t- Proanthocyanins\n",
            "\t\t- Color intensity\n",
            " \t\t- Hue\n",
            " \t\t- OD280/OD315 of diluted wines\n",
            " \t\t- Proline\n",
            "\n",
            "    - class:\n",
            "            - class_0\n",
            "            - class_1\n",
            "            - class_2\n",
            "\t\t\n",
            "    :Summary Statistics:\n",
            "    \n",
            "    ============================= ==== ===== ======= =====\n",
            "                                   Min   Max   Mean     SD\n",
            "    ============================= ==== ===== ======= =====\n",
            "    Alcohol:                      11.0  14.8    13.0   0.8\n",
            "    Malic Acid:                   0.74  5.80    2.34  1.12\n",
            "    Ash:                          1.36  3.23    2.36  0.27\n",
            "    Alcalinity of Ash:            10.6  30.0    19.5   3.3\n",
            "    Magnesium:                    70.0 162.0    99.7  14.3\n",
            "    Total Phenols:                0.98  3.88    2.29  0.63\n",
            "    Flavanoids:                   0.34  5.08    2.03  1.00\n",
            "    Nonflavanoid Phenols:         0.13  0.66    0.36  0.12\n",
            "    Proanthocyanins:              0.41  3.58    1.59  0.57\n",
            "    Colour Intensity:              1.3  13.0     5.1   2.3\n",
            "    Hue:                          0.48  1.71    0.96  0.23\n",
            "    OD280/OD315 of diluted wines: 1.27  4.00    2.61  0.71\n",
            "    Proline:                       278  1680     746   315\n",
            "    ============================= ==== ===== ======= =====\n",
            "\n",
            "    :Missing Attribute Values: None\n",
            "    :Class Distribution: class_0 (59), class_1 (71), class_2 (48)\n",
            "    :Creator: R.A. Fisher\n",
            "    :Donor: Michael Marshall (MARSHALL%PLU@io.arc.nasa.gov)\n",
            "    :Date: July, 1988\n",
            "\n",
            "This is a copy of UCI ML Wine recognition datasets.\n",
            "https://archive.ics.uci.edu/ml/machine-learning-databases/wine/wine.data\n",
            "\n",
            "The data is the results of a chemical analysis of wines grown in the same\n",
            "region in Italy by three different cultivators. There are thirteen different\n",
            "measurements taken for different constituents found in the three types of\n",
            "wine.\n",
            "\n",
            "Original Owners: \n",
            "\n",
            "Forina, M. et al, PARVUS - \n",
            "An Extendible Package for Data Exploration, Classification and Correlation. \n",
            "Institute of Pharmaceutical and Food Analysis and Technologies,\n",
            "Via Brigata Salerno, 16147 Genoa, Italy.\n",
            "\n",
            "Citation:\n",
            "\n",
            "Lichman, M. (2013). UCI Machine Learning Repository\n",
            "[https://archive.ics.uci.edu/ml]. Irvine, CA: University of California,\n",
            "School of Information and Computer Science. \n",
            "\n",
            ".. topic:: References\n",
            "\n",
            "  (1) S. Aeberhard, D. Coomans and O. de Vel, \n",
            "  Comparison of Classifiers in High Dimensional Settings, \n",
            "  Tech. Rep. no. 92-02, (1992), Dept. of Computer Science and Dept. of  \n",
            "  Mathematics and Statistics, James Cook University of North Queensland. \n",
            "  (Also submitted to Technometrics). \n",
            "\n",
            "  The data was used with many others for comparing various \n",
            "  classifiers. The classes are separable, though only RDA \n",
            "  has achieved 100% correct classification. \n",
            "  (RDA : 100%, QDA 99.4%, LDA 98.9%, 1NN 96.1% (z-transformed data)) \n",
            "  (All results using the leave-one-out technique) \n",
            "\n",
            "  (2) S. Aeberhard, D. Coomans and O. de Vel, \n",
            "  \"THE CLASSIFICATION PERFORMANCE OF RDA\" \n",
            "  Tech. Rep. no. 92-01, (1992), Dept. of Computer Science and Dept. of \n",
            "  Mathematics and Statistics, James Cook University of North Queensland. \n",
            "  (Also submitted to Journal of Chemometrics).\n",
            "\n"
          ]
        }
      ],
      "source": [
        "print(wine.DESCR) #데이터 Describe 해 보기"
      ]
    },
    {
      "cell_type": "markdown",
      "id": "2f57dd2e",
      "metadata": {
        "id": "2f57dd2e"
      },
      "source": [
        "### (4) train, test 데이터 분리"
      ]
    },
    {
      "cell_type": "code",
      "execution_count": null,
      "id": "08a9276c",
      "metadata": {
        "id": "08a9276c",
        "outputId": "b85895c2-ac43-452f-9ed7-20e6f836eb18"
      },
      "outputs": [
        {
          "name": "stdout",
          "output_type": "stream",
          "text": [
            "X_train 개수:  142 , X_test 개수:  36\n"
          ]
        }
      ],
      "source": [
        "from sklearn.model_selection import train_test_split\n",
        "X_train, X_test, y_train, y_test = train_test_split(wine_data,  #feature\n",
        "                                                    wine_label,  #label\n",
        "                                                    test_size=0.2,   #test dataset 크기\n",
        "                                                    random_state=7)  #데이터 분리 시 랜덤성\n",
        "\n",
        "print('X_train 개수: ', len(X_train),', X_test 개수: ', len(X_test))                                                   "
      ]
    },
    {
      "cell_type": "markdown",
      "id": "f536c319",
      "metadata": {
        "id": "f536c319"
      },
      "source": [
        "### (5) 다양한 모델로 학습시켜보기"
      ]
    },
    {
      "cell_type": "code",
      "execution_count": null,
      "id": "0a498d70",
      "metadata": {
        "id": "0a498d70",
        "outputId": "2255c14b-2723-4c6c-debd-8a5c3cb6c103"
      },
      "outputs": [
        {
          "name": "stdout",
          "output_type": "stream",
          "text": [
            "              precision    recall  f1-score   support\n",
            "\n",
            "           0       0.90      0.92      0.91        39\n",
            "           1       0.96      0.95      0.95        75\n",
            "\n",
            "    accuracy                           0.94       114\n",
            "   macro avg       0.93      0.93      0.93       114\n",
            "weighted avg       0.94      0.94      0.94       114\n",
            "\n",
            "0.9385964912280702\n"
          ]
        }
      ],
      "source": [
        "#Decision Tree 사용해 보기\n",
        "from sklearn.tree import DecisionTreeClassifier\n",
        "\n",
        "decision_tree = DecisionTreeClassifier(random_state=32)\n",
        "decision_tree.fit(X_train, y_train)\n",
        "y_pred = decision_tree.predict(X_test)\n",
        "\n",
        "print(classification_report(y_test, y_pred))\n",
        "\n",
        "from sklearn.metrics import accuracy_score\n",
        "print(accuracy_score(y_test, y_pred)) #정확도 확인"
      ]
    },
    {
      "cell_type": "code",
      "execution_count": null,
      "id": "db7b9b44",
      "metadata": {
        "id": "db7b9b44",
        "outputId": "84df039b-dd7b-40e1-b168-16c6274245a2"
      },
      "outputs": [
        {
          "name": "stdout",
          "output_type": "stream",
          "text": [
            "              precision    recall  f1-score   support\n",
            "\n",
            "           0       1.00      1.00      1.00         7\n",
            "           1       1.00      1.00      1.00        17\n",
            "           2       1.00      1.00      1.00        12\n",
            "\n",
            "    accuracy                           1.00        36\n",
            "   macro avg       1.00      1.00      1.00        36\n",
            "weighted avg       1.00      1.00      1.00        36\n",
            "\n",
            "1.0\n"
          ]
        }
      ],
      "source": [
        "#Random Forest 사용해 보기\n",
        "from sklearn.ensemble import RandomForestClassifier #랜덤포레스트라는 분류기를 사용하기 위해 import\n",
        "\n",
        "X_train, X_test, y_train, y_test = train_test_split(wine_data, # iris 데이터의 data 컬럼\n",
        "                                                    wine_label, # iris 데이터의 target 컬럼\n",
        "                                                    test_size=0.2, # test_size : train data와 test data를 몇대몇으로 나눌지 정하는 옵션\n",
        "                                                    random_state=7) # random_state : 랜덤 패턴의 값을 지정\n",
        "\n",
        "random_forest = RandomForestClassifier(random_state=32) # RandomForest분류기 객체를 생성\n",
        "random_forest.fit(X_train, y_train) # 훈련\n",
        "y_pred = random_forest.predict(X_test) # 예측\n",
        "\n",
        "print(classification_report(y_test, y_pred)) # 결과 지표를 확인\n",
        "\n",
        "from sklearn.metrics import accuracy_score\n",
        "print(accuracy_score(y_test, y_pred)) #정확도 확인"
      ]
    },
    {
      "cell_type": "code",
      "execution_count": null,
      "id": "313ccd98",
      "metadata": {
        "id": "313ccd98",
        "outputId": "0526c90e-6d26-49fb-dc27-2f314539d2e1"
      },
      "outputs": [
        {
          "name": "stdout",
          "output_type": "stream",
          "text": [
            "classifier\n",
            "              precision    recall  f1-score   support\n",
            "\n",
            "           0       0.86      0.86      0.86         7\n",
            "           1       0.58      0.88      0.70        17\n",
            "           2       0.33      0.08      0.13        12\n",
            "\n",
            "    accuracy                           0.61        36\n",
            "   macro avg       0.59      0.61      0.56        36\n",
            "weighted avg       0.55      0.61      0.54        36\n",
            "\n",
            "0.6111111111111112\n"
          ]
        }
      ],
      "source": [
        "#SVM 사용해 보기\n",
        "from sklearn import svm #Support Vector Machine을 사용하기 위해 import\n",
        "svm_model = svm.SVC() # 모델 객체를 만든다.\n",
        "\n",
        "print(svm_model._estimator_type) # 이 모델이 어떤 타입인지 확인한다.\n",
        "\n",
        "svm_model.fit(X_train, y_train) # 훈련\n",
        "y_pred = svm_model.predict(X_test) # 예측\n",
        "\n",
        "print(classification_report(y_test, y_pred)) # 결과 지표를 확인\n",
        "\n",
        "from sklearn.metrics import accuracy_score\n",
        "print(accuracy_score(y_test, y_pred)) #정확도 확인"
      ]
    },
    {
      "cell_type": "code",
      "execution_count": null,
      "id": "3d631033",
      "metadata": {
        "id": "3d631033",
        "outputId": "3ab8d398-07f8-4d92-f176-ddbb693ddcd6"
      },
      "outputs": [
        {
          "name": "stdout",
          "output_type": "stream",
          "text": [
            "classifier\n",
            "              precision    recall  f1-score   support\n",
            "\n",
            "           0       0.92      0.73      0.81        15\n",
            "           1       0.42      1.00      0.59        10\n",
            "           2       0.00      0.00      0.00        11\n",
            "\n",
            "    accuracy                           0.58        36\n",
            "   macro avg       0.44      0.58      0.47        36\n",
            "weighted avg       0.50      0.58      0.50        36\n",
            "\n",
            "0.5833333333333334\n"
          ]
        },
        {
          "name": "stderr",
          "output_type": "stream",
          "text": [
            "/opt/conda/lib/python3.9/site-packages/sklearn/metrics/_classification.py:1308: UndefinedMetricWarning: Precision and F-score are ill-defined and being set to 0.0 in labels with no predicted samples. Use `zero_division` parameter to control this behavior.\n",
            "  _warn_prf(average, modifier, msg_start, len(result))\n",
            "/opt/conda/lib/python3.9/site-packages/sklearn/metrics/_classification.py:1308: UndefinedMetricWarning: Precision and F-score are ill-defined and being set to 0.0 in labels with no predicted samples. Use `zero_division` parameter to control this behavior.\n",
            "  _warn_prf(average, modifier, msg_start, len(result))\n",
            "/opt/conda/lib/python3.9/site-packages/sklearn/metrics/_classification.py:1308: UndefinedMetricWarning: Precision and F-score are ill-defined and being set to 0.0 in labels with no predicted samples. Use `zero_division` parameter to control this behavior.\n",
            "  _warn_prf(average, modifier, msg_start, len(result))\n"
          ]
        }
      ],
      "source": [
        "#SGD Classifier 사용해 보기\n",
        "from sklearn.linear_model import SGDClassifier #선형분류기인 SGDClassifier를 사용하기 위한 import\n",
        "sgd_model = SGDClassifier() # 모델 객체 생성\n",
        "\n",
        "print(sgd_model._estimator_type) # 이 모델의 타입을 확인\n",
        "\n",
        "sgd_model.fit(X_train, y_train) # sgd모델로 훈련데이터로 훈련시킨다.\n",
        "y_pred = sgd_model.predict(X_test)# 그 모델로 test데이터를 사용해 예측\n",
        "\n",
        "print(classification_report(y_test, y_pred)) # 결과 지표를 확인\n",
        "\n",
        "from sklearn.metrics import accuracy_score\n",
        "print(accuracy_score(y_test, y_pred)) #정확도 확인"
      ]
    },
    {
      "cell_type": "code",
      "execution_count": null,
      "id": "4bdd6f52",
      "metadata": {
        "id": "4bdd6f52",
        "outputId": "e7c5eced-7e6c-42e8-92a5-ee70a0210afa"
      },
      "outputs": [
        {
          "name": "stdout",
          "output_type": "stream",
          "text": [
            "classifier\n",
            "              precision    recall  f1-score   support\n",
            "\n",
            "           0       1.00      1.00      1.00         7\n",
            "           1       0.94      1.00      0.97        17\n",
            "           2       1.00      0.92      0.96        12\n",
            "\n",
            "    accuracy                           0.97        36\n",
            "   macro avg       0.98      0.97      0.98        36\n",
            "weighted avg       0.97      0.97      0.97        36\n",
            "\n",
            "0.9722222222222222\n"
          ]
        }
      ],
      "source": [
        "#Logistic Regression 사용해 보기\n",
        "from sklearn.linear_model import LogisticRegression # 선형분류기인 LogisticRegression를 사용하기 위한 import\n",
        "logistic_model = LogisticRegression(max_iter = 4000) # 모델 객체 생성\n",
        "\n",
        "print(logistic_model._estimator_type) # 이 모델의 타입을 확인\n",
        "\n",
        "logistic_model.fit(X_train, y_train) #LogisticRegression모델로 훈련데이터를 가지고 훈련시킨다.\n",
        "y_pred = logistic_model.predict(X_test) # 예측\n",
        "\n",
        "print(classification_report(y_test, y_pred)) # 결과 지표를 확인\n",
        "\n",
        "from sklearn.metrics import accuracy_score\n",
        "print(accuracy_score(y_test, y_pred)) #정확도 확인"
      ]
    },
    {
      "cell_type": "markdown",
      "id": "291fb0da",
      "metadata": {
        "id": "291fb0da"
      },
      "source": [
        "### (6) 모델을 평가해 보기"
      ]
    },
    {
      "cell_type": "markdown",
      "id": "f0cbfab8",
      "metadata": {
        "id": "f0cbfab8"
      },
      "source": [
        "총 178개의 데이터 feature는 13개로 Alcohol, Malic acid, Color intensity 등 와인의 특성값과 label은 class 0,1,2로 세개가 있다.  \n",
        "\n",
        "Decision tree :0.944  \n",
        "random forest :1.000  \n",
        "svm :0.611  \n",
        "sgd classifier :0.583  \n",
        "Logistic Regression :0.972 (소수 3째자리까지 반올림으로 나타내기)"
      ]
    },
    {
      "cell_type": "markdown",
      "id": "fa281beb",
      "metadata": {
        "id": "fa281beb"
      },
      "source": [
        "## 회고"
      ]
    },
    {
      "cell_type": "markdown",
      "id": "6ed44be2",
      "metadata": {
        "id": "6ed44be2"
      },
      "source": [
        "### 1. 와인 데이터에서 주목할 만한 것은 svm과 sgd의 모델의 성능이 낮다는 것이다. 와인의 등급을 판정하는 것은 오차행렬을 적합하기에 스팸메일이나 유방암 판정같은 상황은 아니다. \n",
        "\n",
        "### 2.가장 성능이 좋은 모델은 랜덤 포레스트이다. 분류하는 데이터여서 의사결정 나무 방식이 성능이 좋은 것 같다. "
      ]
    },
    {
      "cell_type": "markdown",
      "id": "62f5ebea",
      "metadata": {
        "id": "62f5ebea"
      },
      "source": [
        "---"
      ]
    },
    {
      "cell_type": "markdown",
      "id": "a0e4f457",
      "metadata": {
        "id": "a0e4f457"
      },
      "source": [
        "## 3) load_breast_cancer : 유방암 여부를 진단해 봅시다"
      ]
    },
    {
      "cell_type": "markdown",
      "id": "c6317814",
      "metadata": {
        "id": "c6317814"
      },
      "source": [
        "### (1) 필요한 모듈 import하기"
      ]
    },
    {
      "cell_type": "code",
      "execution_count": null,
      "id": "52cf07b7",
      "metadata": {
        "id": "52cf07b7"
      },
      "outputs": [],
      "source": [
        "from sklearn.datasets import load_breast_cancer\n",
        "from sklearn.model_selection import train_test_split\n",
        "from sklearn.metrics import classification_report"
      ]
    },
    {
      "cell_type": "markdown",
      "id": "6a819ede",
      "metadata": {
        "id": "6a819ede"
      },
      "source": [
        "### (2) 데이터 준비"
      ]
    },
    {
      "cell_type": "code",
      "execution_count": null,
      "id": "dcb64648",
      "metadata": {
        "id": "dcb64648",
        "outputId": "600cca04-afbc-478b-9ca2-ab9f1cc3b7f8"
      },
      "outputs": [
        {
          "name": "stdout",
          "output_type": "stream",
          "text": [
            "['DESCR', 'data', 'data_module', 'feature_names', 'filename', 'frame', 'target', 'target_names']\n",
            "(569, 30)\n"
          ]
        }
      ],
      "source": [
        "breast_cancer = load_breast_cancer()\n",
        "print(dir(breast_cancer))#Feature Data 지정하기\n",
        "\n",
        "breast_cancer_data = breast_cancer.data\n",
        "\n",
        "print(breast_cancer_data.shape)\n"
      ]
    },
    {
      "cell_type": "markdown",
      "id": "39baecaf",
      "metadata": {
        "id": "39baecaf"
      },
      "source": [
        "### (3) 데이터 이해하기\n"
      ]
    },
    {
      "cell_type": "code",
      "execution_count": null,
      "id": "efdbc4bf",
      "metadata": {
        "id": "efdbc4bf",
        "outputId": "6a98c40e-30d9-4414-f81f-55ff65737d0f"
      },
      "outputs": [
        {
          "data": {
            "text/plain": [
              "array(['malignant', 'benign'], dtype='<U9')"
            ]
          },
          "execution_count": 27,
          "metadata": {},
          "output_type": "execute_result"
        }
      ],
      "source": [
        "#Feature Data 지정하기\n",
        "breast_cancer_label = breast_cancer.target #Label Data 지정하기\n",
        "breast_cancer.target_names #Target Names 출력해 보기"
      ]
    },
    {
      "cell_type": "code",
      "execution_count": null,
      "id": "d03a48fd",
      "metadata": {
        "id": "d03a48fd",
        "outputId": "ca99f87f-51d9-4495-8c5e-4fe940e72e37"
      },
      "outputs": [
        {
          "name": "stdout",
          "output_type": "stream",
          "text": [
            ".. _breast_cancer_dataset:\n",
            "\n",
            "Breast cancer wisconsin (diagnostic) dataset\n",
            "--------------------------------------------\n",
            "\n",
            "**Data Set Characteristics:**\n",
            "\n",
            "    :Number of Instances: 569\n",
            "\n",
            "    :Number of Attributes: 30 numeric, predictive attributes and the class\n",
            "\n",
            "    :Attribute Information:\n",
            "        - radius (mean of distances from center to points on the perimeter)\n",
            "        - texture (standard deviation of gray-scale values)\n",
            "        - perimeter\n",
            "        - area\n",
            "        - smoothness (local variation in radius lengths)\n",
            "        - compactness (perimeter^2 / area - 1.0)\n",
            "        - concavity (severity of concave portions of the contour)\n",
            "        - concave points (number of concave portions of the contour)\n",
            "        - symmetry\n",
            "        - fractal dimension (\"coastline approximation\" - 1)\n",
            "\n",
            "        The mean, standard error, and \"worst\" or largest (mean of the three\n",
            "        worst/largest values) of these features were computed for each image,\n",
            "        resulting in 30 features.  For instance, field 0 is Mean Radius, field\n",
            "        10 is Radius SE, field 20 is Worst Radius.\n",
            "\n",
            "        - class:\n",
            "                - WDBC-Malignant\n",
            "                - WDBC-Benign\n",
            "\n",
            "    :Summary Statistics:\n",
            "\n",
            "    ===================================== ====== ======\n",
            "                                           Min    Max\n",
            "    ===================================== ====== ======\n",
            "    radius (mean):                        6.981  28.11\n",
            "    texture (mean):                       9.71   39.28\n",
            "    perimeter (mean):                     43.79  188.5\n",
            "    area (mean):                          143.5  2501.0\n",
            "    smoothness (mean):                    0.053  0.163\n",
            "    compactness (mean):                   0.019  0.345\n",
            "    concavity (mean):                     0.0    0.427\n",
            "    concave points (mean):                0.0    0.201\n",
            "    symmetry (mean):                      0.106  0.304\n",
            "    fractal dimension (mean):             0.05   0.097\n",
            "    radius (standard error):              0.112  2.873\n",
            "    texture (standard error):             0.36   4.885\n",
            "    perimeter (standard error):           0.757  21.98\n",
            "    area (standard error):                6.802  542.2\n",
            "    smoothness (standard error):          0.002  0.031\n",
            "    compactness (standard error):         0.002  0.135\n",
            "    concavity (standard error):           0.0    0.396\n",
            "    concave points (standard error):      0.0    0.053\n",
            "    symmetry (standard error):            0.008  0.079\n",
            "    fractal dimension (standard error):   0.001  0.03\n",
            "    radius (worst):                       7.93   36.04\n",
            "    texture (worst):                      12.02  49.54\n",
            "    perimeter (worst):                    50.41  251.2\n",
            "    area (worst):                         185.2  4254.0\n",
            "    smoothness (worst):                   0.071  0.223\n",
            "    compactness (worst):                  0.027  1.058\n",
            "    concavity (worst):                    0.0    1.252\n",
            "    concave points (worst):               0.0    0.291\n",
            "    symmetry (worst):                     0.156  0.664\n",
            "    fractal dimension (worst):            0.055  0.208\n",
            "    ===================================== ====== ======\n",
            "\n",
            "    :Missing Attribute Values: None\n",
            "\n",
            "    :Class Distribution: 212 - Malignant, 357 - Benign\n",
            "\n",
            "    :Creator:  Dr. William H. Wolberg, W. Nick Street, Olvi L. Mangasarian\n",
            "\n",
            "    :Donor: Nick Street\n",
            "\n",
            "    :Date: November, 1995\n",
            "\n",
            "This is a copy of UCI ML Breast Cancer Wisconsin (Diagnostic) datasets.\n",
            "https://goo.gl/U2Uwz2\n",
            "\n",
            "Features are computed from a digitized image of a fine needle\n",
            "aspirate (FNA) of a breast mass.  They describe\n",
            "characteristics of the cell nuclei present in the image.\n",
            "\n",
            "Separating plane described above was obtained using\n",
            "Multisurface Method-Tree (MSM-T) [K. P. Bennett, \"Decision Tree\n",
            "Construction Via Linear Programming.\" Proceedings of the 4th\n",
            "Midwest Artificial Intelligence and Cognitive Science Society,\n",
            "pp. 97-101, 1992], a classification method which uses linear\n",
            "programming to construct a decision tree.  Relevant features\n",
            "were selected using an exhaustive search in the space of 1-4\n",
            "features and 1-3 separating planes.\n",
            "\n",
            "The actual linear program used to obtain the separating plane\n",
            "in the 3-dimensional space is that described in:\n",
            "[K. P. Bennett and O. L. Mangasarian: \"Robust Linear\n",
            "Programming Discrimination of Two Linearly Inseparable Sets\",\n",
            "Optimization Methods and Software 1, 1992, 23-34].\n",
            "\n",
            "This database is also available through the UW CS ftp server:\n",
            "\n",
            "ftp ftp.cs.wisc.edu\n",
            "cd math-prog/cpo-dataset/machine-learn/WDBC/\n",
            "\n",
            ".. topic:: References\n",
            "\n",
            "   - W.N. Street, W.H. Wolberg and O.L. Mangasarian. Nuclear feature extraction \n",
            "     for breast tumor diagnosis. IS&T/SPIE 1993 International Symposium on \n",
            "     Electronic Imaging: Science and Technology, volume 1905, pages 861-870,\n",
            "     San Jose, CA, 1993.\n",
            "   - O.L. Mangasarian, W.N. Street and W.H. Wolberg. Breast cancer diagnosis and \n",
            "     prognosis via linear programming. Operations Research, 43(4), pages 570-577, \n",
            "     July-August 1995.\n",
            "   - W.H. Wolberg, W.N. Street, and O.L. Mangasarian. Machine learning techniques\n",
            "     to diagnose breast cancer from fine-needle aspirates. Cancer Letters 77 (1994) \n",
            "     163-171.\n"
          ]
        }
      ],
      "source": [
        "#데이터 Describe 해 보기\n",
        "print(breast_cancer.DESCR)"
      ]
    },
    {
      "cell_type": "markdown",
      "id": "7afa16a8",
      "metadata": {
        "id": "7afa16a8"
      },
      "source": [
        "### (4) train, test 데이터 분리"
      ]
    },
    {
      "cell_type": "code",
      "execution_count": null,
      "id": "67d9aa6b",
      "metadata": {
        "id": "67d9aa6b",
        "outputId": "2ddb4d83-efc3-411a-bd1a-cfa58cdefaae"
      },
      "outputs": [
        {
          "name": "stdout",
          "output_type": "stream",
          "text": [
            "X_train 개수:  455 , X_test 개수:  114\n"
          ]
        }
      ],
      "source": [
        "#trian, test 데이터 분리\n",
        "X_train, X_test, y_train, y_test = train_test_split(breast_cancer_data,  #feature\n",
        "                                                    breast_cancer_label,  #label\n",
        "                                                    test_size=0.2,   #test dataset 크기\n",
        "                                                    random_state=7)  #데이터 분리 시 랜덤성\n",
        "\n",
        "\n",
        "print('X_train 개수: ', len(X_train),', X_test 개수: ', len(X_test))      "
      ]
    },
    {
      "cell_type": "markdown",
      "id": "979a0669",
      "metadata": {
        "id": "979a0669"
      },
      "source": [
        "### (5) 다양한 모델로 학습시켜보기"
      ]
    },
    {
      "cell_type": "code",
      "execution_count": null,
      "id": "328fb509",
      "metadata": {
        "id": "328fb509",
        "outputId": "59602eff-b6ab-4860-cd17-d9defd3d8c63"
      },
      "outputs": [
        {
          "name": "stdout",
          "output_type": "stream",
          "text": [
            "              precision    recall  f1-score   support\n",
            "\n",
            "           0       0.92      0.82      0.87        40\n",
            "           1       0.91      0.96      0.93        74\n",
            "\n",
            "    accuracy                           0.91       114\n",
            "   macro avg       0.91      0.89      0.90       114\n",
            "weighted avg       0.91      0.91      0.91       114\n",
            "\n",
            "0.9122807017543859\n"
          ]
        }
      ],
      "source": [
        "#Decision Tree 사용해 보기\n",
        "from sklearn.tree import DecisionTreeClassifier\n",
        "\n",
        "decision_tree = DecisionTreeClassifier(random_state=32)\n",
        "decision_tree.fit(X_train, y_train)\n",
        "y_pred = decision_tree.predict(X_test)\n",
        "\n",
        "print(classification_report(y_test, y_pred))\n",
        "\n",
        "from sklearn.metrics import accuracy_score\n",
        "print(accuracy_score(y_test, y_pred)) #정확도 확인"
      ]
    },
    {
      "cell_type": "code",
      "execution_count": null,
      "id": "352e9bc8",
      "metadata": {
        "id": "352e9bc8",
        "outputId": "12f13fd0-dbb7-4907-d06a-23f162c36c5e"
      },
      "outputs": [
        {
          "name": "stdout",
          "output_type": "stream",
          "text": [
            "              precision    recall  f1-score   support\n",
            "\n",
            "           0       0.97      0.95      0.96        39\n",
            "           1       0.97      0.99      0.98        75\n",
            "\n",
            "    accuracy                           0.97       114\n",
            "   macro avg       0.97      0.97      0.97       114\n",
            "weighted avg       0.97      0.97      0.97       114\n",
            "\n",
            "0.9736842105263158\n"
          ]
        }
      ],
      "source": [
        "#Random Forest 사용해 보기\n",
        "from sklearn.ensemble import RandomForestClassifier #랜덤포레스트라는 분류기를 사용하기 위해 import\n",
        "\n",
        "X_train, X_test, y_train, y_test = train_test_split(breast_cancer_data, # iris 데이터의 data 컬럼\n",
        "                                                    breast_cancer_label, # iris 데이터의 target 컬럼\n",
        "                                                    test_size=0.2, # test_size : train data와 test data를 몇대몇으로 나눌지 정하는 옵션\n",
        "                                                    random_state=21) # random_state : 랜덤 패턴의 값을 지정\n",
        "\n",
        "random_forest = RandomForestClassifier(random_state=32) # RandomForest분류기 객체를 생성\n",
        "random_forest.fit(X_train, y_train) # 훈련\n",
        "y_pred = random_forest.predict(X_test) # 예측\n",
        "\n",
        "print(classification_report(y_test, y_pred)) # 결과 지표를 확인\n",
        "\n",
        "from sklearn.metrics import accuracy_score\n",
        "print(accuracy_score(y_test, y_pred)) #정확도 확인"
      ]
    },
    {
      "cell_type": "code",
      "execution_count": null,
      "id": "887aa725",
      "metadata": {
        "id": "887aa725",
        "outputId": "515d7e8c-53af-4624-9b60-6bac82b74961"
      },
      "outputs": [
        {
          "name": "stdout",
          "output_type": "stream",
          "text": [
            "classifier\n",
            "              precision    recall  f1-score   support\n",
            "\n",
            "           0       0.93      0.72      0.81        39\n",
            "           1       0.87      0.97      0.92        75\n",
            "\n",
            "    accuracy                           0.89       114\n",
            "   macro avg       0.90      0.85      0.86       114\n",
            "weighted avg       0.89      0.89      0.88       114\n",
            "\n",
            "0.8859649122807017\n"
          ]
        }
      ],
      "source": [
        "#SVM 사용해 보기\n",
        "from sklearn import svm #Support Vector Machine을 사용하기 위해 import\n",
        "svm_model = svm.SVC() # 모델 객체를 만든다.\n",
        "\n",
        "print(svm_model._estimator_type) # 이 모델이 어떤 타입인지 확인한다.\n",
        "\n",
        "svm_model.fit(X_train, y_train) # 훈련\n",
        "y_pred = svm_model.predict(X_test) # 예측\n",
        "\n",
        "print(classification_report(y_test, y_pred)) # 결과 지표를 확인\n",
        "\n",
        "from sklearn.metrics import accuracy_score\n",
        "print(accuracy_score(y_test, y_pred)) #정확도 확인"
      ]
    },
    {
      "cell_type": "code",
      "execution_count": null,
      "id": "4ab7cf1f",
      "metadata": {
        "id": "4ab7cf1f",
        "outputId": "6f8f6537-bc7c-4e2a-baa0-b4509a0dda4f"
      },
      "outputs": [
        {
          "name": "stdout",
          "output_type": "stream",
          "text": [
            "classifier\n",
            "              precision    recall  f1-score   support\n",
            "\n",
            "           0       0.89      0.79      0.84        39\n",
            "           1       0.90      0.95      0.92        75\n",
            "\n",
            "    accuracy                           0.89       114\n",
            "   macro avg       0.89      0.87      0.88       114\n",
            "weighted avg       0.89      0.89      0.89       114\n",
            "\n",
            "0.8947368421052632\n"
          ]
        }
      ],
      "source": [
        "#SGD Classifier 사용해 보기\n",
        "from sklearn.linear_model import SGDClassifier #선형분류기인 SGDClassifier를 사용하기 위한 import\n",
        "sgd_model = SGDClassifier() # 모델 객체 생성\n",
        "\n",
        "print(sgd_model._estimator_type) # 이 모델의 타입을 확인\n",
        "\n",
        "sgd_model.fit(X_train, y_train) # sgd모델로 훈련데이터로 훈련시킨다.\n",
        "y_pred = sgd_model.predict(X_test)# 그 모델로 test데이터를 사용해 예측\n",
        "\n",
        "print(classification_report(y_test, y_pred)) # 결과 지표를 확인\n",
        "\n",
        "from sklearn.metrics import accuracy_score\n",
        "print(accuracy_score(y_test, y_pred)) #정확도 확인"
      ]
    },
    {
      "cell_type": "code",
      "execution_count": null,
      "id": "590824a8",
      "metadata": {
        "id": "590824a8",
        "outputId": "21fc7850-24b9-4568-d8a0-3ec51207e955"
      },
      "outputs": [
        {
          "name": "stdout",
          "output_type": "stream",
          "text": [
            "classifier\n",
            "              precision    recall  f1-score   support\n",
            "\n",
            "           0       0.92      0.87      0.89        39\n",
            "           1       0.94      0.96      0.95        75\n",
            "\n",
            "    accuracy                           0.93       114\n",
            "   macro avg       0.93      0.92      0.92       114\n",
            "weighted avg       0.93      0.93      0.93       114\n",
            "\n",
            "0.9298245614035088\n"
          ]
        }
      ],
      "source": [
        "#Logistic Regression 사용해 보기\n",
        "from sklearn.linear_model import LogisticRegression # 선형분류기인 LogisticRegression를 사용하기 위한 import\n",
        "logistic_model = LogisticRegression(max_iter = 4000) # 모델 객체 생성\n",
        "\n",
        "print(logistic_model._estimator_type) # 이 모델의 타입을 확인\n",
        "\n",
        "logistic_model.fit(X_train, y_train) #LogisticRegression모델로 훈련데이터를 가지고 훈련시킨다.\n",
        "y_pred = logistic_model.predict(X_test) # 예측\n",
        "\n",
        "print(classification_report(y_test, y_pred)) # 결과 지표를 확인\n",
        "\n",
        "from sklearn.metrics import accuracy_score\n",
        "print(accuracy_score(y_test, y_pred)) #정확도 확인"
      ]
    },
    {
      "cell_type": "markdown",
      "id": "7e4470a2",
      "metadata": {
        "id": "7e4470a2"
      },
      "source": [
        "### (6) 모델을 평가해 보기"
      ]
    },
    {
      "cell_type": "markdown",
      "id": "cfb96abf",
      "metadata": {
        "id": "cfb96abf"
      },
      "source": [
        "\n",
        "Decision tree :0.912  \n",
        "random forest :0.974  \n",
        "svm :0.886  \n",
        "sgd classifier :0.895  \n",
        "Logistic Regression :0.921 (소수 3째자리까지 반올림으로 나타내기)"
      ]
    },
    {
      "cell_type": "markdown",
      "id": "6b1884f9",
      "metadata": {
        "id": "6b1884f9"
      },
      "source": [
        "## 회고"
      ]
    },
    {
      "cell_type": "markdown",
      "id": "1d0378d7",
      "metadata": {
        "id": "1d0378d7"
      },
      "source": [
        "### 1. 핑크색 상자에 대한 부분은 검색을 통해 해결해 보었다. 디폴트 값 대신 (max_iter = 4000)를 넣어서 많이 학습을 시키는 방법으로 문제를 해결해 보았다. \n",
        "\n",
        "### 2.  random_state 값에 따라 결과값이 변화가 있을 듯 하다는 가설로 테스트를 해 보았다. 영향을 받는것 같다. \n",
        "\n",
        "### 3. 시작 전에는 무지 막막했지만, 코드를 다 이해하지는 못해도 반복하다보니 어렴풋이 알게 되는 것들이 있었다. \n",
        "\n",
        "### 4. 유방암 데이터는 recall 모델로 평가해야 한다. 양성인데 음성을 판단하면 안되기 때문이다. \n",
        "\n",
        "### 5. 뭐라도 짜내서 더 적고 싶지만 지금은 월요일 밤 11시 33분 이기에 마무리 한다. 데이터는 들여다 보면 볼 수록 많은 정보를 캐낼 수 있는 것 같다. "
      ]
    },
    {
      "cell_type": "markdown",
      "id": "ebdf04d1",
      "metadata": {
        "id": "ebdf04d1"
      },
      "source": [
        "#### 레퍼런스"
      ]
    },
    {
      "cell_type": "markdown",
      "id": "dbf5e17f",
      "metadata": {
        "id": "dbf5e17f"
      },
      "source": [
        "##### https://github.com/yenaryu/AI/blob/main/%5BE-02%5Dload_digits%2Cwine%2Cbreast_cancer.ipynb \n",
        "\n",
        "https://velog.io/@ja2y5ung/E2.-sklearn%EC%9D%98-Toy-Data%EB%A5%BC-%EC%97%AC%EB%9F%AC-%EC%9D%B8%EC%8B%9D-%EB%AA%A8%EB%8D%B8%EC%97%90-%EB%84%A3%EC%96%B4%EB%B3%B4%EA%B8%B0 \n",
        "\n",
        "https://velog.io/@oooops/%EB%A8%B8%EC%8B%A0%EB%9F%AC%EB%8B%9D%EC%9C%BC%EB%A1%9C-%EB%8D%B0%EC%9D%B4%ED%84%B0-%EB%B6%84%EB%A5%98%ED%95%B4%EB%B3%B4%EA%B8%B0\n"
      ]
    },
    {
      "cell_type": "code",
      "execution_count": null,
      "id": "f45e02e8",
      "metadata": {
        "id": "f45e02e8"
      },
      "outputs": [],
      "source": []
    }
  ],
  "metadata": {
    "kernelspec": {
      "display_name": "Python 3 (ipykernel)",
      "language": "python",
      "name": "python3"
    },
    "language_info": {
      "codemirror_mode": {
        "name": "ipython",
        "version": 3
      },
      "file_extension": ".py",
      "mimetype": "text/x-python",
      "name": "python",
      "nbconvert_exporter": "python",
      "pygments_lexer": "ipython3",
      "version": "3.9.7"
    },
    "colab": {
      "provenance": [],
      "include_colab_link": true
    }
  },
  "nbformat": 4,
  "nbformat_minor": 5
}