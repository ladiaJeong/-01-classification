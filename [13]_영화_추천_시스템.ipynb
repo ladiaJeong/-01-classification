{
  "cells": [
    {
      "cell_type": "markdown",
      "metadata": {
        "id": "view-in-github",
        "colab_type": "text"
      },
      "source": [
        "<a href=\"https://colab.research.google.com/github/ladiaJeong/-01-classification/blob/master/%5B13%5D_%EC%98%81%ED%99%94_%EC%B6%94%EC%B2%9C_%EC%8B%9C%EC%8A%A4%ED%85%9C.ipynb\" target=\"_parent\"><img src=\"https://colab.research.google.com/assets/colab-badge.svg\" alt=\"Open In Colab\"/></a>"
      ]
    },
    {
      "cell_type": "markdown",
      "id": "de6f2833",
      "metadata": {
        "id": "de6f2833"
      },
      "source": [
        "#### 1) 데이터 준비와 전처리"
      ]
    },
    {
      "cell_type": "code",
      "execution_count": null,
      "id": "69afaf3d",
      "metadata": {
        "id": "69afaf3d",
        "outputId": "5f0ec4bc-ed52-45a1-d17f-2479dde6cc80"
      },
      "outputs": [
        {
          "data": {
            "text/html": [
              "<div>\n",
              "<style scoped>\n",
              "    .dataframe tbody tr th:only-of-type {\n",
              "        vertical-align: middle;\n",
              "    }\n",
              "\n",
              "    .dataframe tbody tr th {\n",
              "        vertical-align: top;\n",
              "    }\n",
              "\n",
              "    .dataframe thead th {\n",
              "        text-align: right;\n",
              "    }\n",
              "</style>\n",
              "<table border=\"1\" class=\"dataframe\">\n",
              "  <thead>\n",
              "    <tr style=\"text-align: right;\">\n",
              "      <th></th>\n",
              "      <th>user_id</th>\n",
              "      <th>movie_id</th>\n",
              "      <th>ratings</th>\n",
              "      <th>timestamp</th>\n",
              "    </tr>\n",
              "  </thead>\n",
              "  <tbody>\n",
              "    <tr>\n",
              "      <th>0</th>\n",
              "      <td>1</td>\n",
              "      <td>1193</td>\n",
              "      <td>5</td>\n",
              "      <td>978300760</td>\n",
              "    </tr>\n",
              "    <tr>\n",
              "      <th>1</th>\n",
              "      <td>1</td>\n",
              "      <td>661</td>\n",
              "      <td>3</td>\n",
              "      <td>978302109</td>\n",
              "    </tr>\n",
              "    <tr>\n",
              "      <th>2</th>\n",
              "      <td>1</td>\n",
              "      <td>914</td>\n",
              "      <td>3</td>\n",
              "      <td>978301968</td>\n",
              "    </tr>\n",
              "    <tr>\n",
              "      <th>3</th>\n",
              "      <td>1</td>\n",
              "      <td>3408</td>\n",
              "      <td>4</td>\n",
              "      <td>978300275</td>\n",
              "    </tr>\n",
              "    <tr>\n",
              "      <th>4</th>\n",
              "      <td>1</td>\n",
              "      <td>2355</td>\n",
              "      <td>5</td>\n",
              "      <td>978824291</td>\n",
              "    </tr>\n",
              "    <tr>\n",
              "      <th>5</th>\n",
              "      <td>1</td>\n",
              "      <td>1197</td>\n",
              "      <td>3</td>\n",
              "      <td>978302268</td>\n",
              "    </tr>\n",
              "    <tr>\n",
              "      <th>6</th>\n",
              "      <td>1</td>\n",
              "      <td>1287</td>\n",
              "      <td>5</td>\n",
              "      <td>978302039</td>\n",
              "    </tr>\n",
              "    <tr>\n",
              "      <th>7</th>\n",
              "      <td>1</td>\n",
              "      <td>2804</td>\n",
              "      <td>5</td>\n",
              "      <td>978300719</td>\n",
              "    </tr>\n",
              "    <tr>\n",
              "      <th>8</th>\n",
              "      <td>1</td>\n",
              "      <td>594</td>\n",
              "      <td>4</td>\n",
              "      <td>978302268</td>\n",
              "    </tr>\n",
              "    <tr>\n",
              "      <th>9</th>\n",
              "      <td>1</td>\n",
              "      <td>919</td>\n",
              "      <td>4</td>\n",
              "      <td>978301368</td>\n",
              "    </tr>\n",
              "  </tbody>\n",
              "</table>\n",
              "</div>"
            ],
            "text/plain": [
              "   user_id  movie_id  ratings  timestamp\n",
              "0        1      1193        5  978300760\n",
              "1        1       661        3  978302109\n",
              "2        1       914        3  978301968\n",
              "3        1      3408        4  978300275\n",
              "4        1      2355        5  978824291\n",
              "5        1      1197        3  978302268\n",
              "6        1      1287        5  978302039\n",
              "7        1      2804        5  978300719\n",
              "8        1       594        4  978302268\n",
              "9        1       919        4  978301368"
            ]
          },
          "execution_count": 1,
          "metadata": {},
          "output_type": "execute_result"
        }
      ],
      "source": [
        "import numpy as np\n",
        "import scipy\n",
        "import implicit\n",
        "\n",
        "import os\n",
        "import pandas as pd\n",
        "rating_file_path=os.getenv('HOME') + '/aiffel/recommendata_iu/data/ml-1m/ratings.dat'\n",
        "ratings_cols = ['user_id', 'movie_id', 'ratings', 'timestamp']\n",
        "ratings = pd.read_csv(rating_file_path, sep='::', names=ratings_cols, engine='python', encoding = \"ISO-8859-1\")\n",
        "orginal_data_size = len(ratings)\n",
        "ratings.head(10)"
      ]
    },
    {
      "cell_type": "code",
      "execution_count": null,
      "id": "580d7fc6",
      "metadata": {
        "id": "580d7fc6",
        "outputId": "4f6341f2-d896-4917-c967-df366c66f360"
      },
      "outputs": [
        {
          "name": "stdout",
          "output_type": "stream",
          "text": [
            "orginal_data_size: 1000209, filtered_data_size: 836478\n",
            "Ratio of Remaining Data is 83.63%\n"
          ]
        }
      ],
      "source": [
        "ratings = ratings[ratings['ratings']>=3] #3점 미만 제외\n",
        "filtered_data_size = len(ratings)\n",
        "\n",
        "print(f'orginal_data_size: {orginal_data_size}, filtered_data_size: {filtered_data_size}')\n",
        "print(f'Ratio of Remaining Data is {filtered_data_size / orginal_data_size:.2%}')"
      ]
    },
    {
      "cell_type": "code",
      "execution_count": null,
      "id": "c91b1300",
      "metadata": {
        "id": "c91b1300"
      },
      "outputs": [],
      "source": [
        "# ratings 컬럼의 이름을 counts로 바꿉니다.\n",
        "ratings.rename(columns={'ratings':'counts'}, inplace=True)"
      ]
    },
    {
      "cell_type": "code",
      "execution_count": null,
      "id": "4b48655e",
      "metadata": {
        "id": "4b48655e",
        "outputId": "1882207d-1d7d-4659-cf02-43f2f815a4ff"
      },
      "outputs": [
        {
          "data": {
            "text/plain": [
              "count    836478.000000\n",
              "mean          3.958293\n",
              "std           0.762280\n",
              "min           3.000000\n",
              "25%           3.000000\n",
              "50%           4.000000\n",
              "75%           5.000000\n",
              "max           5.000000\n",
              "Name: counts, dtype: float64"
            ]
          },
          "execution_count": 4,
          "metadata": {},
          "output_type": "execute_result"
        }
      ],
      "source": [
        "ratings['counts'].describe()"
      ]
    },
    {
      "cell_type": "code",
      "execution_count": null,
      "id": "b372ec5f",
      "metadata": {
        "id": "b372ec5f",
        "outputId": "53d634fd-3036-40c5-a492-0bbb6ed2028b"
      },
      "outputs": [
        {
          "data": {
            "text/html": [
              "<div>\n",
              "<style scoped>\n",
              "    .dataframe tbody tr th:only-of-type {\n",
              "        vertical-align: middle;\n",
              "    }\n",
              "\n",
              "    .dataframe tbody tr th {\n",
              "        vertical-align: top;\n",
              "    }\n",
              "\n",
              "    .dataframe thead th {\n",
              "        text-align: right;\n",
              "    }\n",
              "</style>\n",
              "<table border=\"1\" class=\"dataframe\">\n",
              "  <thead>\n",
              "    <tr style=\"text-align: right;\">\n",
              "      <th></th>\n",
              "      <th>movie_id</th>\n",
              "      <th>title</th>\n",
              "      <th>genre</th>\n",
              "    </tr>\n",
              "  </thead>\n",
              "  <tbody>\n",
              "    <tr>\n",
              "      <th>0</th>\n",
              "      <td>1</td>\n",
              "      <td>Toy Story (1995)</td>\n",
              "      <td>Animation|Children's|Comedy</td>\n",
              "    </tr>\n",
              "    <tr>\n",
              "      <th>1</th>\n",
              "      <td>2</td>\n",
              "      <td>Jumanji (1995)</td>\n",
              "      <td>Adventure|Children's|Fantasy</td>\n",
              "    </tr>\n",
              "    <tr>\n",
              "      <th>2</th>\n",
              "      <td>3</td>\n",
              "      <td>Grumpier Old Men (1995)</td>\n",
              "      <td>Comedy|Romance</td>\n",
              "    </tr>\n",
              "    <tr>\n",
              "      <th>3</th>\n",
              "      <td>4</td>\n",
              "      <td>Waiting to Exhale (1995)</td>\n",
              "      <td>Comedy|Drama</td>\n",
              "    </tr>\n",
              "    <tr>\n",
              "      <th>4</th>\n",
              "      <td>5</td>\n",
              "      <td>Father of the Bride Part II (1995)</td>\n",
              "      <td>Comedy</td>\n",
              "    </tr>\n",
              "  </tbody>\n",
              "</table>\n",
              "</div>"
            ],
            "text/plain": [
              "   movie_id                               title                         genre\n",
              "0         1                    Toy Story (1995)   Animation|Children's|Comedy\n",
              "1         2                      Jumanji (1995)  Adventure|Children's|Fantasy\n",
              "2         3             Grumpier Old Men (1995)                Comedy|Romance\n",
              "3         4            Waiting to Exhale (1995)                  Comedy|Drama\n",
              "4         5  Father of the Bride Part II (1995)                        Comedy"
            ]
          },
          "execution_count": 5,
          "metadata": {},
          "output_type": "execute_result"
        }
      ],
      "source": [
        "# 영화 제목을 보기 위해 메타 데이터를 읽어옵니다.\n",
        "movie_file_path=os.getenv('HOME') + '/aiffel/recommendata_iu/data/ml-1m/movies.dat'\n",
        "cols = ['movie_id', 'title', 'genre'] \n",
        "movies = pd.read_csv(movie_file_path, sep='::', names=cols, engine='python', encoding='ISO-8859-1')\n",
        "movies.head()"
      ]
    },
    {
      "cell_type": "markdown",
      "id": "1b0e45f4",
      "metadata": {
        "id": "1b0e45f4"
      },
      "source": [
        "#### 2) 분석해 봅시다."
      ]
    },
    {
      "cell_type": "code",
      "execution_count": null,
      "id": "de5d82b9",
      "metadata": {
        "id": "de5d82b9"
      },
      "outputs": [],
      "source": [
        "using_cols = ['user_id','movie_id','counts']\n",
        "data = ratings[using_cols]"
      ]
    },
    {
      "cell_type": "code",
      "execution_count": null,
      "id": "f6c4318f",
      "metadata": {
        "scrolled": true,
        "id": "f6c4318f",
        "outputId": "77b94889-f5a8-4e03-f907-24b4cc989422"
      },
      "outputs": [
        {
          "data": {
            "text/html": [
              "<div>\n",
              "<style scoped>\n",
              "    .dataframe tbody tr th:only-of-type {\n",
              "        vertical-align: middle;\n",
              "    }\n",
              "\n",
              "    .dataframe tbody tr th {\n",
              "        vertical-align: top;\n",
              "    }\n",
              "\n",
              "    .dataframe thead th {\n",
              "        text-align: right;\n",
              "    }\n",
              "</style>\n",
              "<table border=\"1\" class=\"dataframe\">\n",
              "  <thead>\n",
              "    <tr style=\"text-align: right;\">\n",
              "      <th></th>\n",
              "      <th>user_id</th>\n",
              "      <th>movie_id</th>\n",
              "      <th>counts</th>\n",
              "    </tr>\n",
              "  </thead>\n",
              "  <tbody>\n",
              "    <tr>\n",
              "      <th>0</th>\n",
              "      <td>1</td>\n",
              "      <td>1193</td>\n",
              "      <td>5</td>\n",
              "    </tr>\n",
              "    <tr>\n",
              "      <th>1</th>\n",
              "      <td>1</td>\n",
              "      <td>661</td>\n",
              "      <td>3</td>\n",
              "    </tr>\n",
              "    <tr>\n",
              "      <th>2</th>\n",
              "      <td>1</td>\n",
              "      <td>914</td>\n",
              "      <td>3</td>\n",
              "    </tr>\n",
              "    <tr>\n",
              "      <th>3</th>\n",
              "      <td>1</td>\n",
              "      <td>3408</td>\n",
              "      <td>4</td>\n",
              "    </tr>\n",
              "    <tr>\n",
              "      <th>4</th>\n",
              "      <td>1</td>\n",
              "      <td>2355</td>\n",
              "      <td>5</td>\n",
              "    </tr>\n",
              "    <tr>\n",
              "      <th>5</th>\n",
              "      <td>1</td>\n",
              "      <td>1197</td>\n",
              "      <td>3</td>\n",
              "    </tr>\n",
              "    <tr>\n",
              "      <th>6</th>\n",
              "      <td>1</td>\n",
              "      <td>1287</td>\n",
              "      <td>5</td>\n",
              "    </tr>\n",
              "    <tr>\n",
              "      <th>7</th>\n",
              "      <td>1</td>\n",
              "      <td>2804</td>\n",
              "      <td>5</td>\n",
              "    </tr>\n",
              "    <tr>\n",
              "      <th>8</th>\n",
              "      <td>1</td>\n",
              "      <td>594</td>\n",
              "      <td>4</td>\n",
              "    </tr>\n",
              "    <tr>\n",
              "      <th>9</th>\n",
              "      <td>1</td>\n",
              "      <td>919</td>\n",
              "      <td>4</td>\n",
              "    </tr>\n",
              "  </tbody>\n",
              "</table>\n",
              "</div>"
            ],
            "text/plain": [
              "   user_id  movie_id  counts\n",
              "0        1      1193       5\n",
              "1        1       661       3\n",
              "2        1       914       3\n",
              "3        1      3408       4\n",
              "4        1      2355       5\n",
              "5        1      1197       3\n",
              "6        1      1287       5\n",
              "7        1      2804       5\n",
              "8        1       594       4\n",
              "9        1       919       4"
            ]
          },
          "execution_count": 7,
          "metadata": {},
          "output_type": "execute_result"
        }
      ],
      "source": [
        "data.head(10)"
      ]
    },
    {
      "cell_type": "code",
      "execution_count": null,
      "id": "d0d9ef8c",
      "metadata": {
        "id": "d0d9ef8c",
        "outputId": "ec03b2ee-f70c-4931-b40d-c306f26a7e2d"
      },
      "outputs": [
        {
          "data": {
            "text/plain": [
              "6039"
            ]
          },
          "execution_count": 8,
          "metadata": {},
          "output_type": "execute_result"
        }
      ],
      "source": [
        "data['user_id'].nunique()"
      ]
    },
    {
      "cell_type": "code",
      "execution_count": null,
      "id": "fc0cbb59",
      "metadata": {
        "id": "fc0cbb59",
        "outputId": "ad1b7615-9eb0-4a49-f259-be86a8bee9de"
      },
      "outputs": [
        {
          "data": {
            "text/plain": [
              "movie_id    3628\n",
              "dtype: int64"
            ]
          },
          "execution_count": 9,
          "metadata": {},
          "output_type": "execute_result"
        }
      ],
      "source": [
        "data[['movie_id']].nunique()"
      ]
    },
    {
      "cell_type": "code",
      "execution_count": null,
      "id": "320aa8f5",
      "metadata": {
        "id": "320aa8f5",
        "outputId": "13127412-3460-4843-b1b6-93f221f62dfd"
      },
      "outputs": [
        {
          "data": {
            "text/html": [
              "<div>\n",
              "<style scoped>\n",
              "    .dataframe tbody tr th:only-of-type {\n",
              "        vertical-align: middle;\n",
              "    }\n",
              "\n",
              "    .dataframe tbody tr th {\n",
              "        vertical-align: top;\n",
              "    }\n",
              "\n",
              "    .dataframe thead th {\n",
              "        text-align: right;\n",
              "    }\n",
              "</style>\n",
              "<table border=\"1\" class=\"dataframe\">\n",
              "  <thead>\n",
              "    <tr style=\"text-align: right;\">\n",
              "      <th></th>\n",
              "      <th>movie_id</th>\n",
              "      <th>counts</th>\n",
              "      <th>title</th>\n",
              "    </tr>\n",
              "  </thead>\n",
              "  <tbody>\n",
              "    <tr>\n",
              "      <th>1616</th>\n",
              "      <td>1830</td>\n",
              "      <td>5.0</td>\n",
              "      <td>Follow the Bitch (1998)</td>\n",
              "    </tr>\n",
              "    <tr>\n",
              "      <th>3296</th>\n",
              "      <td>3607</td>\n",
              "      <td>5.0</td>\n",
              "      <td>One Little Indian (1973)</td>\n",
              "    </tr>\n",
              "    <tr>\n",
              "      <th>3481</th>\n",
              "      <td>3800</td>\n",
              "      <td>5.0</td>\n",
              "      <td>Criminal Lovers (Les Amants Criminels) (1999)</td>\n",
              "    </tr>\n",
              "    <tr>\n",
              "      <th>2993</th>\n",
              "      <td>3280</td>\n",
              "      <td>5.0</td>\n",
              "      <td>Baby, The (1973)</td>\n",
              "    </tr>\n",
              "    <tr>\n",
              "      <th>904</th>\n",
              "      <td>989</td>\n",
              "      <td>5.0</td>\n",
              "      <td>Schlafes Bruder (Brother of Sleep) (1995)</td>\n",
              "    </tr>\n",
              "    <tr>\n",
              "      <th>1235</th>\n",
              "      <td>1360</td>\n",
              "      <td>5.0</td>\n",
              "      <td>Identification of a Woman (Identificazione di ...</td>\n",
              "    </tr>\n",
              "    <tr>\n",
              "      <th>3341</th>\n",
              "      <td>3656</td>\n",
              "      <td>5.0</td>\n",
              "      <td>Lured (1947)</td>\n",
              "    </tr>\n",
              "    <tr>\n",
              "      <th>646</th>\n",
              "      <td>687</td>\n",
              "      <td>5.0</td>\n",
              "      <td>Country Life (1994)</td>\n",
              "    </tr>\n",
              "    <tr>\n",
              "      <th>3559</th>\n",
              "      <td>3881</td>\n",
              "      <td>5.0</td>\n",
              "      <td>Bittersweet Motel (2000)</td>\n",
              "    </tr>\n",
              "    <tr>\n",
              "      <th>729</th>\n",
              "      <td>787</td>\n",
              "      <td>5.0</td>\n",
              "      <td>Gate of Heavenly Peace, The (1995)</td>\n",
              "    </tr>\n",
              "  </tbody>\n",
              "</table>\n",
              "</div>"
            ],
            "text/plain": [
              "      movie_id  counts                                              title\n",
              "1616      1830     5.0                            Follow the Bitch (1998)\n",
              "3296      3607     5.0                           One Little Indian (1973)\n",
              "3481      3800     5.0      Criminal Lovers (Les Amants Criminels) (1999)\n",
              "2993      3280     5.0                                   Baby, The (1973)\n",
              "904        989     5.0          Schlafes Bruder (Brother of Sleep) (1995)\n",
              "1235      1360     5.0  Identification of a Woman (Identificazione di ...\n",
              "3341      3656     5.0                                       Lured (1947)\n",
              "646        687     5.0                                Country Life (1994)\n",
              "3559      3881     5.0                           Bittersweet Motel (2000)\n",
              "729        787     5.0                 Gate of Heavenly Peace, The (1995)"
            ]
          },
          "execution_count": 10,
          "metadata": {},
          "output_type": "execute_result"
        }
      ],
      "source": [
        "movies_idx = movies[['movie_id','title']].copy() #merge를 위한 df\n",
        "movie_count = data['counts'].groupby(data['movie_id']).mean()\n",
        "movie_count = pd.merge(movie_count, movies_idx, left_on = 'movie_id', right_on = 'movie_id', how='left')\n",
        "movie_count.sort_values(by = 'counts',ascending=False).head(10)\n"
      ]
    },
    {
      "cell_type": "code",
      "execution_count": null,
      "id": "52d26736",
      "metadata": {
        "id": "52d26736"
      },
      "outputs": [],
      "source": [
        "count_movie = data['movie_id'].value_counts().to_frame()\n",
        "count_movie.rename(columns={'movie_id':'views'},inplace=True)\n",
        "count_movie.index.name= 'movie_id'\n",
        "count_movie.reset_index(inplace=True)"
      ]
    },
    {
      "cell_type": "code",
      "execution_count": null,
      "id": "1c269a4d",
      "metadata": {
        "id": "1c269a4d",
        "outputId": "85e3a27d-0b48-42d1-8570-b0a5d9257369"
      },
      "outputs": [
        {
          "data": {
            "text/html": [
              "<div>\n",
              "<style scoped>\n",
              "    .dataframe tbody tr th:only-of-type {\n",
              "        vertical-align: middle;\n",
              "    }\n",
              "\n",
              "    .dataframe tbody tr th {\n",
              "        vertical-align: top;\n",
              "    }\n",
              "\n",
              "    .dataframe thead th {\n",
              "        text-align: right;\n",
              "    }\n",
              "</style>\n",
              "<table border=\"1\" class=\"dataframe\">\n",
              "  <thead>\n",
              "    <tr style=\"text-align: right;\">\n",
              "      <th></th>\n",
              "      <th>movie_id</th>\n",
              "      <th>counts</th>\n",
              "      <th>title</th>\n",
              "      <th>views</th>\n",
              "    </tr>\n",
              "  </thead>\n",
              "  <tbody>\n",
              "    <tr>\n",
              "      <th>785</th>\n",
              "      <td>858</td>\n",
              "      <td>4.598523</td>\n",
              "      <td>Godfather, The (1972)</td>\n",
              "      <td>2167</td>\n",
              "    </tr>\n",
              "    <tr>\n",
              "      <th>305</th>\n",
              "      <td>318</td>\n",
              "      <td>4.596627</td>\n",
              "      <td>Shawshank Redemption, The (1994)</td>\n",
              "      <td>2194</td>\n",
              "    </tr>\n",
              "    <tr>\n",
              "      <th>49</th>\n",
              "      <td>50</td>\n",
              "      <td>4.577982</td>\n",
              "      <td>Usual Suspects, The (1995)</td>\n",
              "      <td>1744</td>\n",
              "    </tr>\n",
              "    <tr>\n",
              "      <th>509</th>\n",
              "      <td>527</td>\n",
              "      <td>4.571112</td>\n",
              "      <td>Schindler's List (1993)</td>\n",
              "      <td>2257</td>\n",
              "    </tr>\n",
              "    <tr>\n",
              "      <th>698</th>\n",
              "      <td>750</td>\n",
              "      <td>4.539334</td>\n",
              "      <td>Dr. Strangelove or: How I Learned to Stop Worr...</td>\n",
              "      <td>1322</td>\n",
              "    </tr>\n",
              "    <tr>\n",
              "      <th>249</th>\n",
              "      <td>260</td>\n",
              "      <td>4.528522</td>\n",
              "      <td>Star Wars: Episode IV - A New Hope (1977)</td>\n",
              "      <td>2910</td>\n",
              "    </tr>\n",
              "    <tr>\n",
              "      <th>1082</th>\n",
              "      <td>1198</td>\n",
              "      <td>4.520421</td>\n",
              "      <td>Raiders of the Lost Ark (1981)</td>\n",
              "      <td>2473</td>\n",
              "    </tr>\n",
              "    <tr>\n",
              "      <th>823</th>\n",
              "      <td>904</td>\n",
              "      <td>4.505780</td>\n",
              "      <td>Rear Window (1954)</td>\n",
              "      <td>1038</td>\n",
              "    </tr>\n",
              "    <tr>\n",
              "      <th>2600</th>\n",
              "      <td>2858</td>\n",
              "      <td>4.499844</td>\n",
              "      <td>American Beauty (1999)</td>\n",
              "      <td>3211</td>\n",
              "    </tr>\n",
              "    <tr>\n",
              "      <th>842</th>\n",
              "      <td>923</td>\n",
              "      <td>4.493010</td>\n",
              "      <td>Citizen Kane (1941)</td>\n",
              "      <td>1073</td>\n",
              "    </tr>\n",
              "    <tr>\n",
              "      <th>831</th>\n",
              "      <td>912</td>\n",
              "      <td>4.489834</td>\n",
              "      <td>Casablanca (1942)</td>\n",
              "      <td>1623</td>\n",
              "    </tr>\n",
              "    <tr>\n",
              "      <th>2507</th>\n",
              "      <td>2762</td>\n",
              "      <td>4.487631</td>\n",
              "      <td>Sixth Sense, The (1999)</td>\n",
              "      <td>2385</td>\n",
              "    </tr>\n",
              "    <tr>\n",
              "      <th>2325</th>\n",
              "      <td>2571</td>\n",
              "      <td>4.479458</td>\n",
              "      <td>Matrix, The (1999)</td>\n",
              "      <td>2434</td>\n",
              "    </tr>\n",
              "    <tr>\n",
              "      <th>2084</th>\n",
              "      <td>2324</td>\n",
              "      <td>4.477148</td>\n",
              "      <td>Life Is Beautiful (La Vita è bella) (1997)</td>\n",
              "      <td>1094</td>\n",
              "    </tr>\n",
              "    <tr>\n",
              "      <th>1105</th>\n",
              "      <td>1221</td>\n",
              "      <td>4.468596</td>\n",
              "      <td>Godfather: Part II, The (1974)</td>\n",
              "      <td>1624</td>\n",
              "    </tr>\n",
              "    <tr>\n",
              "      <th>1078</th>\n",
              "      <td>1193</td>\n",
              "      <td>4.461905</td>\n",
              "      <td>One Flew Over the Cuckoo's Nest (1975)</td>\n",
              "      <td>1680</td>\n",
              "    </tr>\n",
              "    <tr>\n",
              "      <th>283</th>\n",
              "      <td>296</td>\n",
              "      <td>4.459606</td>\n",
              "      <td>Pulp Fiction (1994)</td>\n",
              "      <td>2030</td>\n",
              "    </tr>\n",
              "    <tr>\n",
              "      <th>832</th>\n",
              "      <td>913</td>\n",
              "      <td>4.455882</td>\n",
              "      <td>Maltese Falcon, The (1941)</td>\n",
              "      <td>1020</td>\n",
              "    </tr>\n",
              "    <tr>\n",
              "      <th>1035</th>\n",
              "      <td>1136</td>\n",
              "      <td>4.451044</td>\n",
              "      <td>Monty Python and the Holy Grail (1974)</td>\n",
              "      <td>1532</td>\n",
              "    </tr>\n",
              "    <tr>\n",
              "      <th>573</th>\n",
              "      <td>593</td>\n",
              "      <td>4.441954</td>\n",
              "      <td>Silence of the Lambs, The (1991)</td>\n",
              "      <td>2498</td>\n",
              "    </tr>\n",
              "    <tr>\n",
              "      <th>1810</th>\n",
              "      <td>2028</td>\n",
              "      <td>4.431082</td>\n",
              "      <td>Saving Private Ryan (1998)</td>\n",
              "      <td>2561</td>\n",
              "    </tr>\n",
              "    <tr>\n",
              "      <th>827</th>\n",
              "      <td>908</td>\n",
              "      <td>4.419877</td>\n",
              "      <td>North by Northwest (1959)</td>\n",
              "      <td>1298</td>\n",
              "    </tr>\n",
              "    <tr>\n",
              "      <th>1134</th>\n",
              "      <td>1252</td>\n",
              "      <td>4.414422</td>\n",
              "      <td>Chinatown (1974)</td>\n",
              "      <td>1151</td>\n",
              "    </tr>\n",
              "    <tr>\n",
              "      <th>587</th>\n",
              "      <td>608</td>\n",
              "      <td>4.413749</td>\n",
              "      <td>Fargo (1996)</td>\n",
              "      <td>2371</td>\n",
              "    </tr>\n",
              "    <tr>\n",
              "      <th>1080</th>\n",
              "      <td>1196</td>\n",
              "      <td>4.384055</td>\n",
              "      <td>Star Wars: Episode V - The Empire Strikes Back...</td>\n",
              "      <td>2885</td>\n",
              "    </tr>\n",
              "    <tr>\n",
              "      <th>523</th>\n",
              "      <td>541</td>\n",
              "      <td>4.383856</td>\n",
              "      <td>Blade Runner (1982)</td>\n",
              "      <td>1722</td>\n",
              "    </tr>\n",
              "    <tr>\n",
              "      <th>1081</th>\n",
              "      <td>1197</td>\n",
              "      <td>4.380995</td>\n",
              "      <td>Princess Bride, The (1987)</td>\n",
              "      <td>2252</td>\n",
              "    </tr>\n",
              "    <tr>\n",
              "      <th>106</th>\n",
              "      <td>110</td>\n",
              "      <td>4.375540</td>\n",
              "      <td>Braveheart (1995)</td>\n",
              "      <td>2314</td>\n",
              "    </tr>\n",
              "    <tr>\n",
              "      <th>1097</th>\n",
              "      <td>1213</td>\n",
              "      <td>4.374922</td>\n",
              "      <td>GoodFellas (1990)</td>\n",
              "      <td>1595</td>\n",
              "    </tr>\n",
              "    <tr>\n",
              "      <th>1092</th>\n",
              "      <td>1208</td>\n",
              "      <td>4.371761</td>\n",
              "      <td>Apocalypse Now (1979)</td>\n",
              "      <td>1119</td>\n",
              "    </tr>\n",
              "    <tr>\n",
              "      <th>1117</th>\n",
              "      <td>1234</td>\n",
              "      <td>4.370623</td>\n",
              "      <td>Sting, The (1973)</td>\n",
              "      <td>1028</td>\n",
              "    </tr>\n",
              "    <tr>\n",
              "      <th>1170</th>\n",
              "      <td>1288</td>\n",
              "      <td>4.360845</td>\n",
              "      <td>This Is Spinal Tap (1984)</td>\n",
              "      <td>1042</td>\n",
              "    </tr>\n",
              "    <tr>\n",
              "      <th>2549</th>\n",
              "      <td>2804</td>\n",
              "      <td>4.360465</td>\n",
              "      <td>Christmas Story, A (1983)</td>\n",
              "      <td>1290</td>\n",
              "    </tr>\n",
              "    <tr>\n",
              "      <th>1160</th>\n",
              "      <td>1278</td>\n",
              "      <td>4.358392</td>\n",
              "      <td>Young Frankenstein (1974)</td>\n",
              "      <td>1144</td>\n",
              "    </tr>\n",
              "    <tr>\n",
              "      <th>1090</th>\n",
              "      <td>1206</td>\n",
              "      <td>4.356820</td>\n",
              "      <td>Clockwork Orange, A (1971)</td>\n",
              "      <td>1107</td>\n",
              "    </tr>\n",
              "    <tr>\n",
              "      <th>838</th>\n",
              "      <td>919</td>\n",
              "      <td>4.352727</td>\n",
              "      <td>Wizard of Oz, The (1939)</td>\n",
              "      <td>1650</td>\n",
              "    </tr>\n",
              "    <tr>\n",
              "      <th>2439</th>\n",
              "      <td>2692</td>\n",
              "      <td>4.347698</td>\n",
              "      <td>Run Lola Run (Lola rennt) (1998)</td>\n",
              "      <td>1021</td>\n",
              "    </tr>\n",
              "    <tr>\n",
              "      <th>2697</th>\n",
              "      <td>2959</td>\n",
              "      <td>4.343272</td>\n",
              "      <td>Fight Club (1999)</td>\n",
              "      <td>1308</td>\n",
              "    </tr>\n",
              "    <tr>\n",
              "      <th>2734</th>\n",
              "      <td>2997</td>\n",
              "      <td>4.338819</td>\n",
              "      <td>Being John Malkovich (1999)</td>\n",
              "      <td>2066</td>\n",
              "    </tr>\n",
              "    <tr>\n",
              "      <th>888</th>\n",
              "      <td>969</td>\n",
              "      <td>4.337904</td>\n",
              "      <td>African Queen, The (1951)</td>\n",
              "      <td>1021</td>\n",
              "    </tr>\n",
              "    <tr>\n",
              "      <th>2845</th>\n",
              "      <td>3114</td>\n",
              "      <td>4.336412</td>\n",
              "      <td>Toy Story 2 (1999)</td>\n",
              "      <td>1516</td>\n",
              "    </tr>\n",
              "    <tr>\n",
              "      <th>1103</th>\n",
              "      <td>1219</td>\n",
              "      <td>4.329752</td>\n",
              "      <td>Psycho (1960)</td>\n",
              "      <td>1210</td>\n",
              "    </tr>\n",
              "    <tr>\n",
              "      <th>1109</th>\n",
              "      <td>1225</td>\n",
              "      <td>4.329104</td>\n",
              "      <td>Amadeus (1984)</td>\n",
              "      <td>1340</td>\n",
              "    </tr>\n",
              "    <tr>\n",
              "      <th>1129</th>\n",
              "      <td>1247</td>\n",
              "      <td>4.322976</td>\n",
              "      <td>Graduate, The (1967)</td>\n",
              "      <td>1223</td>\n",
              "    </tr>\n",
              "    <tr>\n",
              "      <th>995</th>\n",
              "      <td>1089</td>\n",
              "      <td>4.318878</td>\n",
              "      <td>Reservoir Dogs (1992)</td>\n",
              "      <td>1176</td>\n",
              "    </tr>\n",
              "    <tr>\n",
              "      <th>1233</th>\n",
              "      <td>1358</td>\n",
              "      <td>4.317376</td>\n",
              "      <td>Sling Blade (1996)</td>\n",
              "      <td>1128</td>\n",
              "    </tr>\n",
              "    <tr>\n",
              "      <th>1113</th>\n",
              "      <td>1230</td>\n",
              "      <td>4.315705</td>\n",
              "      <td>Annie Hall (1977)</td>\n",
              "      <td>1248</td>\n",
              "    </tr>\n",
              "    <tr>\n",
              "      <th>1455</th>\n",
              "      <td>1617</td>\n",
              "      <td>4.305430</td>\n",
              "      <td>L.A. Confidential (1997)</td>\n",
              "      <td>2210</td>\n",
              "    </tr>\n",
              "    <tr>\n",
              "      <th>2877</th>\n",
              "      <td>3147</td>\n",
              "      <td>4.302346</td>\n",
              "      <td>Green Mile, The (1999)</td>\n",
              "      <td>1151</td>\n",
              "    </tr>\n",
              "    <tr>\n",
              "      <th>107</th>\n",
              "      <td>111</td>\n",
              "      <td>4.298142</td>\n",
              "      <td>Taxi Driver (1976)</td>\n",
              "      <td>1184</td>\n",
              "    </tr>\n",
              "    <tr>\n",
              "      <th>2155</th>\n",
              "      <td>2396</td>\n",
              "      <td>4.294171</td>\n",
              "      <td>Shakespeare in Love (1998)</td>\n",
              "      <td>2213</td>\n",
              "    </tr>\n",
              "    <tr>\n",
              "      <th>1098</th>\n",
              "      <td>1214</td>\n",
              "      <td>4.293750</td>\n",
              "      <td>Alien (1979)</td>\n",
              "      <td>1920</td>\n",
              "    </tr>\n",
              "    <tr>\n",
              "      <th>843</th>\n",
              "      <td>924</td>\n",
              "      <td>4.292730</td>\n",
              "      <td>2001: A Space Odyssey (1968)</td>\n",
              "      <td>1568</td>\n",
              "    </tr>\n",
              "    <tr>\n",
              "      <th>342</th>\n",
              "      <td>356</td>\n",
              "      <td>4.292285</td>\n",
              "      <td>Forrest Gump (1994)</td>\n",
              "      <td>2022</td>\n",
              "    </tr>\n",
              "    <tr>\n",
              "      <th>1186</th>\n",
              "      <td>1304</td>\n",
              "      <td>4.274170</td>\n",
              "      <td>Butch Cassidy and the Sundance Kid (1969)</td>\n",
              "      <td>1386</td>\n",
              "    </tr>\n",
              "    <tr>\n",
              "      <th>3270</th>\n",
              "      <td>3578</td>\n",
              "      <td>4.268632</td>\n",
              "      <td>Gladiator (2000)</td>\n",
              "      <td>1798</td>\n",
              "    </tr>\n",
              "    <tr>\n",
              "      <th>46</th>\n",
              "      <td>47</td>\n",
              "      <td>4.266417</td>\n",
              "      <td>Seven (Se7en) (1995)</td>\n",
              "      <td>1066</td>\n",
              "    </tr>\n",
              "    <tr>\n",
              "      <th>1084</th>\n",
              "      <td>1200</td>\n",
              "      <td>4.264535</td>\n",
              "      <td>Aliens (1986)</td>\n",
              "      <td>1720</td>\n",
              "    </tr>\n",
              "    <tr>\n",
              "      <th>1532</th>\n",
              "      <td>1704</td>\n",
              "      <td>4.258021</td>\n",
              "      <td>Good Will Hunting (1997)</td>\n",
              "      <td>1496</td>\n",
              "    </tr>\n",
              "    <tr>\n",
              "      <th>1140</th>\n",
              "      <td>1258</td>\n",
              "      <td>4.252930</td>\n",
              "      <td>Shining, The (1980)</td>\n",
              "      <td>1024</td>\n",
              "    </tr>\n",
              "  </tbody>\n",
              "</table>\n",
              "</div>"
            ],
            "text/plain": [
              "      movie_id    counts                                              title  \\\n",
              "785        858  4.598523                              Godfather, The (1972)   \n",
              "305        318  4.596627                   Shawshank Redemption, The (1994)   \n",
              "49          50  4.577982                         Usual Suspects, The (1995)   \n",
              "509        527  4.571112                            Schindler's List (1993)   \n",
              "698        750  4.539334  Dr. Strangelove or: How I Learned to Stop Worr...   \n",
              "249        260  4.528522          Star Wars: Episode IV - A New Hope (1977)   \n",
              "1082      1198  4.520421                     Raiders of the Lost Ark (1981)   \n",
              "823        904  4.505780                                 Rear Window (1954)   \n",
              "2600      2858  4.499844                             American Beauty (1999)   \n",
              "842        923  4.493010                                Citizen Kane (1941)   \n",
              "831        912  4.489834                                  Casablanca (1942)   \n",
              "2507      2762  4.487631                            Sixth Sense, The (1999)   \n",
              "2325      2571  4.479458                                 Matrix, The (1999)   \n",
              "2084      2324  4.477148         Life Is Beautiful (La Vita è bella) (1997)   \n",
              "1105      1221  4.468596                     Godfather: Part II, The (1974)   \n",
              "1078      1193  4.461905             One Flew Over the Cuckoo's Nest (1975)   \n",
              "283        296  4.459606                                Pulp Fiction (1994)   \n",
              "832        913  4.455882                         Maltese Falcon, The (1941)   \n",
              "1035      1136  4.451044             Monty Python and the Holy Grail (1974)   \n",
              "573        593  4.441954                   Silence of the Lambs, The (1991)   \n",
              "1810      2028  4.431082                         Saving Private Ryan (1998)   \n",
              "827        908  4.419877                          North by Northwest (1959)   \n",
              "1134      1252  4.414422                                   Chinatown (1974)   \n",
              "587        608  4.413749                                       Fargo (1996)   \n",
              "1080      1196  4.384055  Star Wars: Episode V - The Empire Strikes Back...   \n",
              "523        541  4.383856                                Blade Runner (1982)   \n",
              "1081      1197  4.380995                         Princess Bride, The (1987)   \n",
              "106        110  4.375540                                  Braveheart (1995)   \n",
              "1097      1213  4.374922                                  GoodFellas (1990)   \n",
              "1092      1208  4.371761                              Apocalypse Now (1979)   \n",
              "1117      1234  4.370623                                  Sting, The (1973)   \n",
              "1170      1288  4.360845                          This Is Spinal Tap (1984)   \n",
              "2549      2804  4.360465                          Christmas Story, A (1983)   \n",
              "1160      1278  4.358392                          Young Frankenstein (1974)   \n",
              "1090      1206  4.356820                         Clockwork Orange, A (1971)   \n",
              "838        919  4.352727                           Wizard of Oz, The (1939)   \n",
              "2439      2692  4.347698                   Run Lola Run (Lola rennt) (1998)   \n",
              "2697      2959  4.343272                                  Fight Club (1999)   \n",
              "2734      2997  4.338819                        Being John Malkovich (1999)   \n",
              "888        969  4.337904                          African Queen, The (1951)   \n",
              "2845      3114  4.336412                                 Toy Story 2 (1999)   \n",
              "1103      1219  4.329752                                      Psycho (1960)   \n",
              "1109      1225  4.329104                                     Amadeus (1984)   \n",
              "1129      1247  4.322976                               Graduate, The (1967)   \n",
              "995       1089  4.318878                              Reservoir Dogs (1992)   \n",
              "1233      1358  4.317376                                 Sling Blade (1996)   \n",
              "1113      1230  4.315705                                  Annie Hall (1977)   \n",
              "1455      1617  4.305430                           L.A. Confidential (1997)   \n",
              "2877      3147  4.302346                             Green Mile, The (1999)   \n",
              "107        111  4.298142                                 Taxi Driver (1976)   \n",
              "2155      2396  4.294171                         Shakespeare in Love (1998)   \n",
              "1098      1214  4.293750                                       Alien (1979)   \n",
              "843        924  4.292730                       2001: A Space Odyssey (1968)   \n",
              "342        356  4.292285                                Forrest Gump (1994)   \n",
              "1186      1304  4.274170          Butch Cassidy and the Sundance Kid (1969)   \n",
              "3270      3578  4.268632                                   Gladiator (2000)   \n",
              "46          47  4.266417                               Seven (Se7en) (1995)   \n",
              "1084      1200  4.264535                                      Aliens (1986)   \n",
              "1532      1704  4.258021                           Good Will Hunting (1997)   \n",
              "1140      1258  4.252930                                Shining, The (1980)   \n",
              "\n",
              "      views  \n",
              "785    2167  \n",
              "305    2194  \n",
              "49     1744  \n",
              "509    2257  \n",
              "698    1322  \n",
              "249    2910  \n",
              "1082   2473  \n",
              "823    1038  \n",
              "2600   3211  \n",
              "842    1073  \n",
              "831    1623  \n",
              "2507   2385  \n",
              "2325   2434  \n",
              "2084   1094  \n",
              "1105   1624  \n",
              "1078   1680  \n",
              "283    2030  \n",
              "832    1020  \n",
              "1035   1532  \n",
              "573    2498  \n",
              "1810   2561  \n",
              "827    1298  \n",
              "1134   1151  \n",
              "587    2371  \n",
              "1080   2885  \n",
              "523    1722  \n",
              "1081   2252  \n",
              "106    2314  \n",
              "1097   1595  \n",
              "1092   1119  \n",
              "1117   1028  \n",
              "1170   1042  \n",
              "2549   1290  \n",
              "1160   1144  \n",
              "1090   1107  \n",
              "838    1650  \n",
              "2439   1021  \n",
              "2697   1308  \n",
              "2734   2066  \n",
              "888    1021  \n",
              "2845   1516  \n",
              "1103   1210  \n",
              "1109   1340  \n",
              "1129   1223  \n",
              "995    1176  \n",
              "1233   1128  \n",
              "1113   1248  \n",
              "1455   2210  \n",
              "2877   1151  \n",
              "107    1184  \n",
              "2155   2213  \n",
              "1098   1920  \n",
              "843    1568  \n",
              "342    2022  \n",
              "1186   1386  \n",
              "3270   1798  \n",
              "46     1066  \n",
              "1084   1720  \n",
              "1532   1496  \n",
              "1140   1024  "
            ]
          },
          "execution_count": 12,
          "metadata": {},
          "output_type": "execute_result"
        }
      ],
      "source": [
        "count_movie = pd.merge(movie_count, count_movie, left_on = 'movie_id', right_on = 'movie_id', how='left')\n",
        "count_movie.loc[count_movie['views']  > 1000].sort_values(by = 'counts',ascending=False).head(60) #views를 추가해서 보니 더 정확한 리뷰가 될것 같습니다.\n"
      ]
    },
    {
      "cell_type": "markdown",
      "id": "558a3ed3",
      "metadata": {
        "id": "558a3ed3"
      },
      "source": [
        "#### 3) 내가 선호하는 영화를 6가지 골라서 ratings에 추가해 줍시다."
      ]
    },
    {
      "cell_type": "code",
      "execution_count": null,
      "id": "b135ea85",
      "metadata": {
        "id": "b135ea85"
      },
      "outputs": [],
      "source": [
        "my_favorite = [50,2762,2324,110,1225,356] "
      ]
    },
    {
      "cell_type": "code",
      "execution_count": null,
      "id": "0067818b",
      "metadata": {
        "id": "0067818b",
        "outputId": "6bff6880-8e63-4c28-8107-ed4b2b2b42a8"
      },
      "outputs": [
        {
          "data": {
            "text/html": [
              "<div>\n",
              "<style scoped>\n",
              "    .dataframe tbody tr th:only-of-type {\n",
              "        vertical-align: middle;\n",
              "    }\n",
              "\n",
              "    .dataframe tbody tr th {\n",
              "        vertical-align: top;\n",
              "    }\n",
              "\n",
              "    .dataframe thead th {\n",
              "        text-align: right;\n",
              "    }\n",
              "</style>\n",
              "<table border=\"1\" class=\"dataframe\">\n",
              "  <thead>\n",
              "    <tr style=\"text-align: right;\">\n",
              "      <th></th>\n",
              "      <th>user_id</th>\n",
              "      <th>movie_id</th>\n",
              "      <th>counts</th>\n",
              "    </tr>\n",
              "  </thead>\n",
              "  <tbody>\n",
              "    <tr>\n",
              "      <th>0</th>\n",
              "      <td>hyo</td>\n",
              "      <td>50</td>\n",
              "      <td>5</td>\n",
              "    </tr>\n",
              "    <tr>\n",
              "      <th>1</th>\n",
              "      <td>hyo</td>\n",
              "      <td>2762</td>\n",
              "      <td>5</td>\n",
              "    </tr>\n",
              "    <tr>\n",
              "      <th>2</th>\n",
              "      <td>hyo</td>\n",
              "      <td>2324</td>\n",
              "      <td>5</td>\n",
              "    </tr>\n",
              "    <tr>\n",
              "      <th>3</th>\n",
              "      <td>hyo</td>\n",
              "      <td>110</td>\n",
              "      <td>5</td>\n",
              "    </tr>\n",
              "    <tr>\n",
              "      <th>4</th>\n",
              "      <td>hyo</td>\n",
              "      <td>1225</td>\n",
              "      <td>5</td>\n",
              "    </tr>\n",
              "    <tr>\n",
              "      <th>5</th>\n",
              "      <td>hyo</td>\n",
              "      <td>356</td>\n",
              "      <td>5</td>\n",
              "    </tr>\n",
              "  </tbody>\n",
              "</table>\n",
              "</div>"
            ],
            "text/plain": [
              "  user_id  movie_id  counts\n",
              "0     hyo        50       5\n",
              "1     hyo      2762       5\n",
              "2     hyo      2324       5\n",
              "3     hyo       110       5\n",
              "4     hyo      1225       5\n",
              "5     hyo       356       5"
            ]
          },
          "execution_count": 14,
          "metadata": {},
          "output_type": "execute_result"
        }
      ],
      "source": [
        "my_playlist = pd.DataFrame({'user_id': ['hyo']*6, 'movie_id': my_favorite, 'counts':[5]*6})\n",
        "my_playlist"
      ]
    },
    {
      "cell_type": "code",
      "execution_count": null,
      "id": "b5cd0a19",
      "metadata": {
        "id": "b5cd0a19",
        "outputId": "e6d0b4f6-95d9-4ef0-a7b8-c187c13a0d13"
      },
      "outputs": [
        {
          "data": {
            "text/html": [
              "<div>\n",
              "<style scoped>\n",
              "    .dataframe tbody tr th:only-of-type {\n",
              "        vertical-align: middle;\n",
              "    }\n",
              "\n",
              "    .dataframe tbody tr th {\n",
              "        vertical-align: top;\n",
              "    }\n",
              "\n",
              "    .dataframe thead th {\n",
              "        text-align: right;\n",
              "    }\n",
              "</style>\n",
              "<table border=\"1\" class=\"dataframe\">\n",
              "  <thead>\n",
              "    <tr style=\"text-align: right;\">\n",
              "      <th></th>\n",
              "      <th>user_id</th>\n",
              "      <th>movie_id</th>\n",
              "      <th>counts</th>\n",
              "    </tr>\n",
              "  </thead>\n",
              "  <tbody>\n",
              "    <tr>\n",
              "      <th>1000205</th>\n",
              "      <td>6040</td>\n",
              "      <td>1094</td>\n",
              "      <td>5</td>\n",
              "    </tr>\n",
              "    <tr>\n",
              "      <th>1000206</th>\n",
              "      <td>6040</td>\n",
              "      <td>562</td>\n",
              "      <td>5</td>\n",
              "    </tr>\n",
              "    <tr>\n",
              "      <th>1000207</th>\n",
              "      <td>6040</td>\n",
              "      <td>1096</td>\n",
              "      <td>4</td>\n",
              "    </tr>\n",
              "    <tr>\n",
              "      <th>1000208</th>\n",
              "      <td>6040</td>\n",
              "      <td>1097</td>\n",
              "      <td>4</td>\n",
              "    </tr>\n",
              "    <tr>\n",
              "      <th>0</th>\n",
              "      <td>hyo</td>\n",
              "      <td>50</td>\n",
              "      <td>5</td>\n",
              "    </tr>\n",
              "    <tr>\n",
              "      <th>1</th>\n",
              "      <td>hyo</td>\n",
              "      <td>2762</td>\n",
              "      <td>5</td>\n",
              "    </tr>\n",
              "    <tr>\n",
              "      <th>2</th>\n",
              "      <td>hyo</td>\n",
              "      <td>2324</td>\n",
              "      <td>5</td>\n",
              "    </tr>\n",
              "    <tr>\n",
              "      <th>3</th>\n",
              "      <td>hyo</td>\n",
              "      <td>110</td>\n",
              "      <td>5</td>\n",
              "    </tr>\n",
              "    <tr>\n",
              "      <th>4</th>\n",
              "      <td>hyo</td>\n",
              "      <td>1225</td>\n",
              "      <td>5</td>\n",
              "    </tr>\n",
              "    <tr>\n",
              "      <th>5</th>\n",
              "      <td>hyo</td>\n",
              "      <td>356</td>\n",
              "      <td>5</td>\n",
              "    </tr>\n",
              "  </tbody>\n",
              "</table>\n",
              "</div>"
            ],
            "text/plain": [
              "        user_id  movie_id  counts\n",
              "1000205    6040      1094       5\n",
              "1000206    6040       562       5\n",
              "1000207    6040      1096       4\n",
              "1000208    6040      1097       4\n",
              "0           hyo        50       5\n",
              "1           hyo      2762       5\n",
              "2           hyo      2324       5\n",
              "3           hyo       110       5\n",
              "4           hyo      1225       5\n",
              "5           hyo       356       5"
            ]
          },
          "execution_count": 15,
          "metadata": {},
          "output_type": "execute_result"
        }
      ],
      "source": [
        "if not data.isin({'user_id':['hyo']})['user_id'].any():  # user_id에 'zimin'이라는 데이터가 없다면\n",
        "    data = data.append(my_playlist)                           # 위에 임의로 만든 my_favorite 데이터를 추가해 줍니다. \n",
        "\n",
        "data.tail(10)     "
      ]
    },
    {
      "cell_type": "code",
      "execution_count": null,
      "id": "b7f8ec52",
      "metadata": {
        "id": "b7f8ec52"
      },
      "outputs": [],
      "source": [
        "data = pd.merge(data, movies, left_on = 'movie_id',right_on = 'movie_id', how='left')\n",
        "len(data['movie_id'].unique())\n",
        "len(data['title'].unique()) # 중복된 타이틀이 있을 수 있어 위 unique 숫자와 일치\n",
        "\n",
        "data['title'] = data['title'].str.lower()"
      ]
    },
    {
      "cell_type": "code",
      "execution_count": null,
      "id": "70b8d06d",
      "metadata": {
        "id": "70b8d06d",
        "outputId": "ecb065e2-b168-4174-93bd-7010ccd853a8"
      },
      "outputs": [
        {
          "data": {
            "text/plain": [
              "['sixth sense, the (1999)',\n",
              " 'braveheart (1995)',\n",
              " 'amadeus (1984)',\n",
              " 'forrest gump (1994)',\n",
              " 'usual suspects, the (1995)',\n",
              " 'life is beautiful (la vita è bella) (1997)']"
            ]
          },
          "execution_count": 17,
          "metadata": {},
          "output_type": "execute_result"
        }
      ],
      "source": [
        "my_movies = list(data.loc[data['movie_id'].isin(my_favorite)].title.unique())\n",
        "my_movies"
      ]
    },
    {
      "cell_type": "code",
      "execution_count": null,
      "id": "0dd7a456",
      "metadata": {
        "id": "0dd7a456"
      },
      "outputs": [],
      "source": [
        "# 고유한 유저, 아티스트를 찾아내는 코드\n",
        "user_unique = data['user_id'].unique()\n",
        "movie_unique = data['title'].unique()\n",
        "\n",
        "# 유저, 아티스트 indexing 하는 코드 idx는 index의 약자입니다.\n",
        "user_to_idx = {v:k for k,v in enumerate(user_unique)}\n",
        "movie_to_idx = {v:k for k,v in enumerate(movie_unique)}"
      ]
    },
    {
      "cell_type": "code",
      "execution_count": null,
      "id": "7edf7287",
      "metadata": {
        "id": "7edf7287",
        "outputId": "be027b2f-2d42-4f35-d81e-a0c2abcfc6c6"
      },
      "outputs": [
        {
          "name": "stdout",
          "output_type": "stream",
          "text": [
            "6039\n",
            "160\n"
          ]
        }
      ],
      "source": [
        "# 인덱싱이 잘 되었는지 확인해 봅니다. \n",
        "print(user_to_idx['hyo'])    # 6040명의 유저 중 마지막으로 추가된 유저이니 6039이 나와야 합니다. \n",
        "print(movie_to_idx['forrest gump (1994)'])"
      ]
    },
    {
      "cell_type": "code",
      "execution_count": null,
      "id": "6e7fa056",
      "metadata": {
        "id": "6e7fa056"
      },
      "outputs": [],
      "source": [
        "# indexing을 통해 데이터 컬럼 내 값을 바꾸는 코드\n",
        "# dictionary 자료형의 get 함수는 https://wikidocs.net/16 을 참고하세요.\n",
        "\n",
        "# user_to_idx.get을 통해 user_id 컬럼의 모든 값을 인덱싱한 Series를 구해 봅시다. \n",
        "# 혹시 정상적으로 인덱싱되지 않은 row가 있다면 인덱스가 NaN이 될 테니 dropna()로 제거합니다. \n",
        "temp_user_data = data['user_id'].map(user_to_idx.get).dropna()"
      ]
    },
    {
      "cell_type": "code",
      "execution_count": null,
      "id": "f5c87b1c",
      "metadata": {
        "id": "f5c87b1c",
        "outputId": "16959bd9-887c-43f6-f606-f956b6d2511e"
      },
      "outputs": [
        {
          "name": "stdout",
          "output_type": "stream",
          "text": [
            "user_id column indexing Fail!!\n"
          ]
        }
      ],
      "source": [
        "if len(temp_user_data) == len(data):   # 모든 row가 정상적으로 인덱싱되었다면\n",
        "    print('user_id column indexing OK!!')\n",
        "    data['user_id'] = temp_user_data   # data['user_id']을 인덱싱된 Series로 교체해 줍니다. \n",
        "else:\n",
        "    print('user_id column indexing Fail!!')"
      ]
    },
    {
      "cell_type": "code",
      "execution_count": null,
      "id": "3b9e8416",
      "metadata": {
        "id": "3b9e8416"
      },
      "outputs": [],
      "source": [
        "# artist_to_idx을 통해 artist 컬럼도 동일한 방식으로 인덱싱해 줍니다. \n",
        "temp_movie_data = data['title'].map(movie_to_idx.get).dropna()"
      ]
    },
    {
      "cell_type": "code",
      "execution_count": null,
      "id": "0749df4f",
      "metadata": {
        "id": "0749df4f",
        "outputId": "edd86439-35dd-4768-e5e1-97c44453e9d9"
      },
      "outputs": [
        {
          "name": "stdout",
          "output_type": "stream",
          "text": [
            "movie column indexing OK!!\n"
          ]
        }
      ],
      "source": [
        "if len(temp_movie_data) == len(data):\n",
        "    print('movie column indexing OK!!')\n",
        "    data['movie_id'] = temp_movie_data\n",
        "else:\n",
        "    print('movie column indexing Fail!!')"
      ]
    },
    {
      "cell_type": "markdown",
      "id": "d93cadea",
      "metadata": {
        "id": "d93cadea"
      },
      "source": [
        "#### 4) CSR matrix를 직접 만들어 봅시다."
      ]
    },
    {
      "cell_type": "code",
      "execution_count": null,
      "id": "732a5536",
      "metadata": {
        "id": "732a5536",
        "outputId": "5f78e5f9-5352-47d2-83da-3d8362b99fe7"
      },
      "outputs": [
        {
          "data": {
            "text/plain": [
              "<6040x3628 sparse matrix of type '<class 'numpy.int64'>'\n",
              "\twith 836484 stored elements in Compressed Sparse Row format>"
            ]
          },
          "execution_count": 40,
          "metadata": {},
          "output_type": "execute_result"
        }
      ],
      "source": [
        "# 실습 위에 설명보고 이해해서 만들어보기\n",
        "from scipy.sparse import csr_matrix\n",
        "\n",
        "num_user = data['user_id'].nunique()\n",
        "num_movie = data['title'].nunique()\n",
        "\n",
        "csr_data = csr_matrix((data.counts, (data.user_id, data.movie_id)), shape= (num_user, num_movie))\n",
        "csr_data"
      ]
    },
    {
      "cell_type": "markdown",
      "id": "0776063e",
      "metadata": {
        "id": "0776063e"
      },
      "source": [
        "#### 5) als_model = AlternatingLeastSquares 모델을 직접 구성하여 훈련시켜 봅시다."
      ]
    },
    {
      "cell_type": "code",
      "execution_count": null,
      "id": "b6ae31d8",
      "metadata": {
        "id": "b6ae31d8"
      },
      "outputs": [],
      "source": [
        "from implicit.als import AlternatingLeastSquares\n",
        "import os\n",
        "import numpy as np\n",
        "\n",
        "# implicit 라이브러리에서 권장하고 있는 부분입니다. 학습 내용과는 무관합니다.\n",
        "os.environ['OPENBLAS_NUM_THREADS']='1'\n",
        "os.environ['KMP_DUPLICATE_LIB_OK']='True'\n",
        "os.environ['MKL_NUM_THREADS']='1'"
      ]
    },
    {
      "cell_type": "code",
      "execution_count": null,
      "id": "88288a9b",
      "metadata": {
        "id": "88288a9b",
        "outputId": "0518dfb8-a4f1-40e1-b444-1373eea3ca4d"
      },
      "outputs": [
        {
          "data": {
            "text/plain": [
              "<3628x6040 sparse matrix of type '<class 'numpy.int64'>'\n",
              "\twith 836484 stored elements in Compressed Sparse Column format>"
            ]
          },
          "execution_count": 42,
          "metadata": {},
          "output_type": "execute_result"
        }
      ],
      "source": [
        "# Implicit AlternatingLeastSquares 모델의 선언\n",
        "als_model = AlternatingLeastSquares(factors=100, regularization=0.01, use_gpu=False, iterations=15, dtype=np.float32)\n",
        "# als 모델은 input으로 (item X user 꼴의 matrix를 받기 때문에 Transpose해줍니다.)\n",
        "csr_data_transpose = csr_data.T\n",
        "csr_data_transpose"
      ]
    },
    {
      "cell_type": "code",
      "execution_count": null,
      "id": "85c7e30b",
      "metadata": {
        "id": "85c7e30b",
        "outputId": "f0cf55ba-ddbe-480d-ad73-f42ce4752f0b",
        "colab": {
          "referenced_widgets": [
            "273afa5ce75d4a68a37e7d7ec17ef8ca"
          ]
        }
      },
      "outputs": [
        {
          "data": {
            "application/vnd.jupyter.widget-view+json": {
              "model_id": "273afa5ce75d4a68a37e7d7ec17ef8ca",
              "version_major": 2,
              "version_minor": 0
            },
            "text/plain": [
              "  0%|          | 0/15 [00:00<?, ?it/s]"
            ]
          },
          "metadata": {},
          "output_type": "display_data"
        }
      ],
      "source": [
        "# 모델 훈련\n",
        "als_model.fit(csr_data_transpose)"
      ]
    },
    {
      "cell_type": "code",
      "execution_count": null,
      "id": "4d2cedc5",
      "metadata": {
        "id": "4d2cedc5",
        "outputId": "6a19fdb6-4202-4196-84ca-8855607185d3"
      },
      "outputs": [
        {
          "name": "stdout",
          "output_type": "stream",
          "text": [
            "슝=3\n"
          ]
        }
      ],
      "source": [
        "hyo, forrestgump = user_to_idx['hyo'], movie_to_idx['forrest gump (1994)']\n",
        "hyo_vector, forrestgump_vector = als_model.user_factors[hyo], als_model.item_factors[forrestgump]\n",
        "\n",
        "print('슝=3')"
      ]
    },
    {
      "cell_type": "code",
      "execution_count": null,
      "id": "daf22adb",
      "metadata": {
        "id": "daf22adb",
        "outputId": "ae7f08f9-f631-482a-f06a-59fda16acf3d"
      },
      "outputs": [
        {
          "data": {
            "text/plain": [
              "array([-0.3501469 ,  0.4132461 , -1.1299404 ,  0.19178091,  0.21520098,\n",
              "        0.39348274,  0.03238026, -0.21933205, -1.2977104 ,  0.05814508,\n",
              "        1.5397824 ,  0.12843435, -1.4572076 , -0.22752616, -0.05666407,\n",
              "        0.21833563, -0.44869286, -0.07639629,  0.59494346, -0.17081118,\n",
              "        1.1302427 , -0.03457879, -0.55730444,  0.06649344, -0.20409325,\n",
              "        0.21938124, -1.068419  ,  0.22793597,  0.48972377, -0.2573422 ,\n",
              "       -0.8661196 ,  0.43176305,  0.6844863 , -0.60856485,  0.75465584,\n",
              "       -0.08127493, -1.1966656 , -0.30432191, -0.15485497, -0.3621141 ,\n",
              "       -0.48333675,  0.09180984, -0.12799582, -0.09282832, -0.18076104,\n",
              "        0.14952974,  0.14968918, -0.08169127,  0.02196236,  0.8188432 ,\n",
              "       -0.64561087,  0.5022313 , -0.40755114,  0.20148496, -0.20946355,\n",
              "        0.42670035, -0.7882224 , -0.81477773,  1.6179616 , -0.618698  ,\n",
              "       -0.62493086,  0.07985348,  0.95944804,  0.01114063, -0.00254874,\n",
              "        0.25313297,  0.5726736 , -0.10950752,  0.28857937, -0.7700259 ,\n",
              "        0.40732524,  0.21778846, -0.5457486 ,  0.08755313,  0.42206842,\n",
              "       -0.28719136,  0.12138864,  0.8040266 ,  0.18690753,  0.06584606,\n",
              "       -0.4866091 , -0.1643163 , -0.49142388,  0.02204006, -0.03025077,\n",
              "        0.83747876, -0.54620224, -0.02056377, -0.0724896 , -0.22110444,\n",
              "        0.86859185,  0.41225663, -0.13806264, -0.85016614,  0.547466  ,\n",
              "        0.58308095,  0.7717785 ,  0.86499953,  0.8855699 ,  0.6838823 ],\n",
              "      dtype=float32)"
            ]
          },
          "execution_count": 54,
          "metadata": {},
          "output_type": "execute_result"
        }
      ],
      "source": [
        "hyo_vector"
      ]
    },
    {
      "cell_type": "code",
      "execution_count": null,
      "id": "4699280c",
      "metadata": {
        "scrolled": true,
        "id": "4699280c",
        "outputId": "9fc6d43c-f0b5-4479-cc17-29e850e9a7d9"
      },
      "outputs": [
        {
          "data": {
            "text/plain": [
              "array([ 1.06155565e-02, -2.01508794e-02,  2.27088016e-03, -1.97601430e-02,\n",
              "        2.28382666e-02,  9.83095728e-03, -3.41138919e-03,  2.14722641e-02,\n",
              "       -3.79212238e-02,  2.89552491e-02,  1.94706209e-02,  5.78152731e-06,\n",
              "        1.95304845e-02, -5.17141726e-03, -2.15715263e-02,  4.74553835e-03,\n",
              "        4.95541655e-03, -1.83936879e-02,  2.20593065e-02, -2.46336348e-02,\n",
              "        3.22183557e-02,  4.56100516e-02, -2.10720636e-02, -2.29106378e-03,\n",
              "       -1.38574059e-03, -1.10409195e-02,  1.57769043e-02,  3.01788617e-02,\n",
              "        3.82251255e-02, -5.77787124e-03, -4.90609463e-03,  2.53726598e-02,\n",
              "        3.14064845e-02,  7.78180268e-03,  4.35305312e-02,  1.29095633e-02,\n",
              "        4.06013988e-03,  1.36425216e-02,  5.66225592e-03,  2.88059879e-02,\n",
              "       -1.86484549e-02,  1.91010144e-02,  1.02615999e-02, -2.28179432e-02,\n",
              "       -8.09087139e-03,  4.56084982e-02,  2.13270336e-02,  1.36449318e-02,\n",
              "       -2.95675956e-02,  1.53212035e-02, -4.08911109e-02, -1.62343159e-02,\n",
              "        2.27853134e-02,  2.49018264e-03,  2.32881717e-02,  6.77653449e-03,\n",
              "       -2.21688431e-02,  2.68375548e-03,  3.56532298e-02,  4.50785272e-04,\n",
              "        9.29105468e-03,  1.29594412e-02,  1.71126649e-02,  1.63041651e-02,\n",
              "       -1.84963886e-02, -6.25713402e-03,  6.61422834e-02, -6.65915245e-03,\n",
              "       -3.37836263e-03, -3.36271226e-02,  1.63081065e-02,  3.01782670e-03,\n",
              "       -1.59604463e-03, -1.58401672e-02, -2.70521138e-02, -7.96113443e-03,\n",
              "        4.54835314e-03,  1.69640686e-02,  6.14108751e-03,  1.85760222e-02,\n",
              "        8.45589675e-03, -6.84104394e-03, -2.54895128e-02,  1.08345191e-03,\n",
              "        2.62203552e-02,  2.69628502e-02, -1.14736445e-02, -1.77234039e-02,\n",
              "        5.12634497e-03, -1.50738666e-02,  3.02089918e-02, -5.40704280e-03,\n",
              "       -5.99655882e-03, -3.60267945e-02, -1.58318840e-02,  2.93301325e-02,\n",
              "        2.07440089e-02,  4.67637032e-02,  1.48326457e-02,  7.99025595e-03],\n",
              "      dtype=float32)"
            ]
          },
          "execution_count": 55,
          "metadata": {},
          "output_type": "execute_result"
        }
      ],
      "source": [
        "forrestgump_vector"
      ]
    },
    {
      "cell_type": "code",
      "execution_count": null,
      "id": "9213e014",
      "metadata": {
        "id": "9213e014",
        "outputId": "fa6077d0-37c9-465b-8af2-c0428e1b70cb"
      },
      "outputs": [
        {
          "data": {
            "text/plain": [
              "0.53782713"
            ]
          },
          "execution_count": 56,
          "metadata": {},
          "output_type": "execute_result"
        }
      ],
      "source": [
        "np.dot(hyo_vector,forrestgump_vector)"
      ]
    },
    {
      "cell_type": "code",
      "execution_count": null,
      "id": "c7646101",
      "metadata": {
        "id": "c7646101",
        "outputId": "b67e66ea-b8fe-41d3-c32d-c4087058f6e4"
      },
      "outputs": [
        {
          "data": {
            "text/plain": [
              "0.35659668"
            ]
          },
          "execution_count": 57,
          "metadata": {},
          "output_type": "execute_result"
        }
      ],
      "source": [
        "amadeus = movie_to_idx['amadeus (1984)']\n",
        "amadeus_vector = als_model.item_factors[amadeus]\n",
        "np.dot(hyo_vector, amadeus_vector)"
      ]
    },
    {
      "cell_type": "code",
      "execution_count": null,
      "id": "3ac6c9b7",
      "metadata": {
        "id": "3ac6c9b7",
        "outputId": "7d4a2e8d-24bd-41fc-bcb9-835951ab68ec"
      },
      "outputs": [
        {
          "data": {
            "text/plain": [
              "'forrest gump (1994)'"
            ]
          },
          "execution_count": 59,
          "metadata": {},
          "output_type": "execute_result"
        }
      ],
      "source": [
        "my_movies[3]"
      ]
    },
    {
      "cell_type": "code",
      "execution_count": null,
      "id": "fae112f2",
      "metadata": {
        "id": "fae112f2",
        "outputId": "a76b49fe-94e1-49e4-9b4b-1b961d528c6a"
      },
      "outputs": [
        {
          "data": {
            "text/plain": [
              "[(160, 1.0),\n",
              " (110, 0.56265396),\n",
              " (666, 0.42141473),\n",
              " (613, 0.4212299),\n",
              " (336, 0.41003314),\n",
              " (20, 0.3994214),\n",
              " (204, 0.38595238),\n",
              " (109, 0.3810966),\n",
              " (154, 0.37912607),\n",
              " (64, 0.3728477)]"
            ]
          },
          "execution_count": 60,
          "metadata": {},
          "output_type": "execute_result"
        }
      ],
      "source": [
        "favorite_movie = my_movies[3] \n",
        "movie_id = movie_to_idx[favorite_movie]\n",
        "similar_movie = als_model.similar_items(movie_id, N=10)\n",
        "similar_movie"
      ]
    },
    {
      "cell_type": "code",
      "execution_count": null,
      "id": "a8d050d5",
      "metadata": {
        "id": "a8d050d5",
        "outputId": "073b4b2f-ff59-4e29-c3b7-416adb7f15a9"
      },
      "outputs": [
        {
          "data": {
            "text/plain": [
              "['forrest gump (1994)',\n",
              " 'groundhog day (1993)',\n",
              " 'sleepless in seattle (1993)',\n",
              " 'four weddings and a funeral (1994)',\n",
              " 'pretty woman (1990)',\n",
              " 'pleasantville (1998)',\n",
              " 'clueless (1995)',\n",
              " 'doctor zhivago (1965)',\n",
              " 'as good as it gets (1997)',\n",
              " 'star wars: episode vi - return of the jedi (1983)']"
            ]
          },
          "execution_count": 62,
          "metadata": {},
          "output_type": "execute_result"
        }
      ],
      "source": [
        "#artist_to_idx 를 뒤집어, index로부터 artist 이름을 얻는 dict를 생성합니다. \n",
        "idx_to_movies = {v:k for k,v in movie_to_idx.items()}\n",
        "[idx_to_movies[i[0]] for i in similar_movie]"
      ]
    },
    {
      "cell_type": "code",
      "execution_count": null,
      "id": "5045b336",
      "metadata": {
        "id": "5045b336",
        "outputId": "9668dc9c-d1f0-4b80-d553-31eaad634573"
      },
      "outputs": [
        {
          "name": "stdout",
          "output_type": "stream",
          "text": [
            "슝=3\n"
          ]
        }
      ],
      "source": [
        "def get_similar_artist(movie_name: str):\n",
        "    movie_id = movie_to_idx[movie_name]\n",
        "    similar_movie = als_model.similar_items(movie_id)\n",
        "    similar_movie = [idx_to_movies[i[0]] for i in similar_movie]\n",
        "    return similar_movie\n",
        "\n",
        "print(\"슝=3\")"
      ]
    },
    {
      "cell_type": "code",
      "execution_count": null,
      "id": "2d9134f2",
      "metadata": {
        "id": "2d9134f2",
        "outputId": "73f3c303-8158-4240-e5c4-8bb03009ffc7"
      },
      "outputs": [
        {
          "data": {
            "text/plain": [
              "['amadeus (1984)',\n",
              " 'gandhi (1982)',\n",
              " 'chariots of fire (1981)',\n",
              " 'right stuff, the (1983)',\n",
              " 'dangerous liaisons (1988)',\n",
              " 'dead poets society (1989)',\n",
              " 'to kill a mockingbird (1962)',\n",
              " 'driving miss daisy (1989)',\n",
              " 'raging bull (1980)',\n",
              " 'my left foot (1989)']"
            ]
          },
          "execution_count": 64,
          "metadata": {},
          "output_type": "execute_result"
        }
      ],
      "source": [
        "get_similar_artist('amadeus (1984)')"
      ]
    },
    {
      "cell_type": "code",
      "execution_count": null,
      "id": "562c3346",
      "metadata": {
        "id": "562c3346",
        "outputId": "7cf44709-bd4d-4c24-bc11-aaee4e64e19e"
      },
      "outputs": [
        {
          "data": {
            "text/plain": [
              "['usual suspects, the (1995)',\n",
              " 'reservoir dogs (1992)',\n",
              " 'l.a. confidential (1997)',\n",
              " 'pulp fiction (1994)',\n",
              " 'seven (se7en) (1995)',\n",
              " 'fargo (1996)',\n",
              " 'goodfellas (1990)',\n",
              " 'silence of the lambs, the (1991)',\n",
              " 'simple plan, a (1998)',\n",
              " 'sixth sense, the (1999)']"
            ]
          },
          "execution_count": 66,
          "metadata": {},
          "output_type": "execute_result"
        }
      ],
      "source": [
        "get_similar_artist('usual suspects, the (1995)')"
      ]
    },
    {
      "cell_type": "markdown",
      "id": "57d4e979",
      "metadata": {
        "id": "57d4e979"
      },
      "source": [
        "#### 8) 내가 가장 좋아할 만한 영화들을 추천받아 봅시다."
      ]
    },
    {
      "cell_type": "code",
      "execution_count": null,
      "id": "51f04878",
      "metadata": {
        "id": "51f04878",
        "outputId": "9c4b2aa5-2387-46c0-91a6-49edfbb504f3"
      },
      "outputs": [
        {
          "data": {
            "text/plain": [
              "[(121, 0.5357449),\n",
              " (23, 0.5167656),\n",
              " (157, 0.46951258),\n",
              " (51, 0.4438395),\n",
              " (48, 0.43482274),\n",
              " (248, 0.4058426),\n",
              " (224, 0.36947858),\n",
              " (99, 0.36717725),\n",
              " (126, 0.32531482),\n",
              " (222, 0.31867307),\n",
              " (220, 0.30961666),\n",
              " (60, 0.29672328),\n",
              " (141, 0.28840438),\n",
              " (154, 0.28230426),\n",
              " (110, 0.26459354),\n",
              " (107, 0.25542095),\n",
              " (81, 0.24814945),\n",
              " (75, 0.23293635),\n",
              " (289, 0.23215273),\n",
              " (269, 0.22860684)]"
            ]
          },
          "execution_count": 67,
          "metadata": {},
          "output_type": "execute_result"
        }
      ],
      "source": [
        "user = user_to_idx['hyo']\n",
        "# recommend에서는 user*item CSR Matrix를 받습니다.\n",
        "movie_recommended = als_model.recommend(user, csr_data, N=20, filter_already_liked_items=True)\n",
        "movie_recommended"
      ]
    },
    {
      "cell_type": "code",
      "execution_count": null,
      "id": "92318e68",
      "metadata": {
        "id": "92318e68",
        "outputId": "db6c1fe4-7db7-4825-87c8-ac849e57f758"
      },
      "outputs": [
        {
          "data": {
            "text/plain": [
              "['silence of the lambs, the (1991)',\n",
              " \"schindler's list (1993)\",\n",
              " 'shawshank redemption, the (1994)',\n",
              " 'fargo (1996)',\n",
              " 'saving private ryan (1998)',\n",
              " 'good will hunting (1997)',\n",
              " 'l.a. confidential (1997)',\n",
              " 'american beauty (1999)',\n",
              " 'shakespeare in love (1998)',\n",
              " 'pulp fiction (1994)',\n",
              " 'seven (se7en) (1995)',\n",
              " 'star wars: episode i - the phantom menace (1999)',\n",
              " 'fugitive, the (1993)',\n",
              " 'as good as it gets (1997)',\n",
              " 'groundhog day (1993)',\n",
              " 'jurassic park (1993)',\n",
              " 'green mile, the (1999)',\n",
              " 'hunt for red october, the (1990)',\n",
              " 'reservoir dogs (1992)',\n",
              " 'goodfellas (1990)']"
            ]
          },
          "execution_count": 68,
          "metadata": {},
          "output_type": "execute_result"
        }
      ],
      "source": [
        "[idx_to_movies[i[0]] for i in movie_recommended]"
      ]
    },
    {
      "cell_type": "code",
      "execution_count": null,
      "id": "31fd628b",
      "metadata": {
        "id": "31fd628b"
      },
      "outputs": [],
      "source": [
        "goodwill = movie_to_idx['good will hunting (1997)']\n",
        "explain = als_model.explain(user, csr_data, itemid=goodwill)"
      ]
    },
    {
      "cell_type": "code",
      "execution_count": null,
      "id": "ccf61c12",
      "metadata": {
        "id": "ccf61c12",
        "outputId": "a81a9575-c5ca-4651-da8a-fcb713788dcd"
      },
      "outputs": [
        {
          "data": {
            "text/plain": [
              "[('braveheart (1995)', 0.09894960678332017),\n",
              " ('sixth sense, the (1999)', 0.09053970407409861),\n",
              " ('life is beautiful (la vita è bella) (1997)', 0.07135851174256919),\n",
              " ('usual suspects, the (1995)', 0.06363741601750747),\n",
              " ('amadeus (1984)', 0.04475210488842651),\n",
              " ('forrest gump (1994)', 0.02889390522436016)]"
            ]
          },
          "execution_count": 72,
          "metadata": {},
          "output_type": "execute_result"
        }
      ],
      "source": [
        "[(idx_to_movies[i[0]], i[1]) for i in explain[1]]"
      ]
    },
    {
      "cell_type": "markdown",
      "id": "7d4f07db",
      "metadata": {
        "id": "7d4f07db"
      },
      "source": [
        "### 회고\n",
        "1. 추천 시스템을 만들어 보았다. 내가 좋아하는 영화를 기본 데이터로 비슷한 영화를 추천하는것으로 콘텐츠 기반 필터링을 해 보았다. \n",
        "2. 결과 값으로 장르와 관련이 있는 영화들을 추천하는 결과의 양상을 보이며, 영화가 개봉한 시기하고도 관련이 있는듯하다. 추천이라는 것이 상당히 많은 부분을 고려해야하는 항목이기 때문에 정확한 예측이라고 볼 수 는 없지만, 벡터값에 따라 더 비슷한 장르와 시기의 영화가 추천이 되기는 한다. 행렬의 곱의 결과 수치가 높을 수록 더 좋은 추천 결과라고 볼 수 있다. \n",
        "3. 내가 정하는 6가지 영화가 어느 정도 관련성이 있어야 보다 정확한 추천 결과를 볼 수 있을 것 같다. "
      ]
    },
    {
      "cell_type": "code",
      "execution_count": null,
      "id": "882bd689",
      "metadata": {
        "id": "882bd689"
      },
      "outputs": [],
      "source": []
    }
  ],
  "metadata": {
    "kernelspec": {
      "display_name": "Python 3 (ipykernel)",
      "language": "python",
      "name": "python3"
    },
    "language_info": {
      "codemirror_mode": {
        "name": "ipython",
        "version": 3
      },
      "file_extension": ".py",
      "mimetype": "text/x-python",
      "name": "python",
      "nbconvert_exporter": "python",
      "pygments_lexer": "ipython3",
      "version": "3.9.7"
    },
    "colab": {
      "provenance": [],
      "include_colab_link": true
    }
  },
  "nbformat": 4,
  "nbformat_minor": 5
}