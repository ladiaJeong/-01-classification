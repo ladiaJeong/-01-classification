{
  "cells": [
    {
      "cell_type": "markdown",
      "metadata": {
        "id": "view-in-github",
        "colab_type": "text"
      },
      "source": [
        "<a href=\"https://colab.research.google.com/github/ladiaJeong/-01-classification/blob/master/%5B02%5D_EXPLORATION_GN5.ipynb\" target=\"_parent\"><img src=\"https://colab.research.google.com/assets/colab-badge.svg\" alt=\"Open In Colab\"/></a>"
      ]
    },
    {
      "cell_type": "markdown",
      "id": "01d3890b",
      "metadata": {
        "id": "01d3890b"
      },
      "source": [
        " ### 당뇨병 환자 데이터와     다중 선형 회귀(Multi Regression Model)"
      ]
    },
    {
      "cell_type": "markdown",
      "id": "7319ddd8",
      "metadata": {
        "id": "7319ddd8"
      },
      "source": [
        "### (1) 데이터 가져오기"
      ]
    },
    {
      "cell_type": "code",
      "execution_count": null,
      "id": "ad040b64",
      "metadata": {
        "id": "ad040b64"
      },
      "outputs": [],
      "source": [
        "from sklearn.datasets import load_diabetes\n",
        "diabetes=load_diabetes()\n",
        "\n",
        "#sklearn.datasets의 load_diabetes에서 데이터를 가져옵니다."
      ]
    },
    {
      "cell_type": "code",
      "execution_count": null,
      "id": "e84c2acc",
      "metadata": {
        "id": "e84c2acc"
      },
      "outputs": [],
      "source": [
        "import numpy as np\n",
        "import pandas as pd\n",
        "import matplotlib.pyplot as plt"
      ]
    },
    {
      "cell_type": "code",
      "execution_count": null,
      "id": "44572fce",
      "metadata": {
        "id": "44572fce"
      },
      "outputs": [],
      "source": [
        "df_X=diabetes.data\n",
        "df_y=diabetes.target\n",
        "#diabetes의 data를 df_X에, target을 df_y에 저장합니다."
      ]
    },
    {
      "cell_type": "code",
      "execution_count": null,
      "id": "7d45ebe3",
      "metadata": {
        "id": "7d45ebe3",
        "outputId": "bc5a2a01-0ba0-478a-801d-c40087c240fc"
      },
      "outputs": [
        {
          "name": "stdout",
          "output_type": "stream",
          "text": [
            "(442, 10)\n",
            "(442,)\n"
          ]
        }
      ],
      "source": [
        "print(df_X.shape)\n",
        "print(df_y.shape)\n",
        "# 쉐이프를 확인합니다."
      ]
    },
    {
      "cell_type": "code",
      "execution_count": null,
      "id": "f5a5739f",
      "metadata": {
        "id": "f5a5739f",
        "outputId": "783055bf-3ec7-4612-faa1-b8154b8f37df"
      },
      "outputs": [
        {
          "name": "stdout",
          "output_type": "stream",
          "text": [
            "feature 1 : age\n",
            "feature 2 : sex\n",
            "feature 3 : bmi\n",
            "feature 4 : bp\n",
            "feature 5 : s1\n",
            "feature 6 : s2\n",
            "feature 7 : s3\n",
            "feature 8 : s4\n",
            "feature 9 : s5\n",
            "feature 10 : s6\n"
          ]
        }
      ],
      "source": [
        "for i,feature_name in enumerate(diabetes.feature_names):\n",
        "  print(f'feature {i+1} : {feature_name}')"
      ]
    },
    {
      "cell_type": "markdown",
      "id": "9a2ec93c",
      "metadata": {
        "id": "9a2ec93c"
      },
      "source": [
        "### (2) 모델에 입력할 데이터 X 준비하기"
      ]
    },
    {
      "cell_type": "code",
      "execution_count": null,
      "id": "97ddb2c5",
      "metadata": {
        "id": "97ddb2c5",
        "outputId": "2b567af9-204e-4c7b-8570-00dab0dc981f"
      },
      "outputs": [
        {
          "name": "stdout",
          "output_type": "stream",
          "text": [
            "굿\n"
          ]
        }
      ],
      "source": [
        "X = np.array(df_x)\n",
        "y = np.array(df_y)\n",
        "print('굿')\n",
        "#모델에 입력할 x값, 예측할 y값을 numpy array로 변환해 저장합니다.\n"
      ]
    },
    {
      "cell_type": "code",
      "execution_count": null,
      "id": "45749b31",
      "metadata": {
        "id": "45749b31",
        "outputId": "47d768ae-3c28-442a-8d83-000866d97c0b"
      },
      "outputs": [
        {
          "name": "stdout",
          "output_type": "stream",
          "text": [
            "[[ 0.03807591  0.05068012  0.06169621 ... -0.00259226  0.01990842\n",
            "  -0.01764613]\n",
            " [-0.00188202 -0.04464164 -0.05147406 ... -0.03949338 -0.06832974\n",
            "  -0.09220405]\n",
            " [ 0.08529891  0.05068012  0.04445121 ... -0.00259226  0.00286377\n",
            "  -0.02593034]\n",
            " ...\n",
            " [ 0.04170844  0.05068012 -0.01590626 ... -0.01107952 -0.04687948\n",
            "   0.01549073]\n",
            " [-0.04547248 -0.04464164  0.03906215 ...  0.02655962  0.04452837\n",
            "  -0.02593034]\n",
            " [-0.04547248 -0.04464164 -0.0730303  ... -0.03949338 -0.00421986\n",
            "   0.00306441]]\n"
          ]
        }
      ],
      "source": [
        "print(X)\n",
        "# 눈으로 확인해 보기위해 출력합니다"
      ]
    },
    {
      "cell_type": "code",
      "execution_count": null,
      "id": "500c10ea",
      "metadata": {
        "id": "500c10ea",
        "outputId": "76cfc1a0-fa39-4d51-caab-0a178ebe82bb"
      },
      "outputs": [
        {
          "name": "stdout",
          "output_type": "stream",
          "text": [
            "[151.  75. 141. 206. 135.  97. 138.  63. 110. 310. 101.  69. 179. 185.\n",
            " 118. 171. 166. 144.  97. 168.  68.  49.  68. 245. 184. 202. 137.  85.\n",
            " 131. 283. 129.  59. 341.  87.  65. 102. 265. 276. 252.  90. 100.  55.\n",
            "  61.  92. 259.  53. 190. 142.  75. 142. 155. 225.  59. 104. 182. 128.\n",
            "  52.  37. 170. 170.  61. 144.  52. 128.  71. 163. 150.  97. 160. 178.\n",
            "  48. 270. 202. 111.  85.  42. 170. 200. 252. 113. 143.  51.  52. 210.\n",
            "  65. 141.  55. 134.  42. 111.  98. 164.  48.  96.  90. 162. 150. 279.\n",
            "  92.  83. 128. 102. 302. 198.  95.  53. 134. 144. 232.  81. 104.  59.\n",
            " 246. 297. 258. 229. 275. 281. 179. 200. 200. 173. 180.  84. 121. 161.\n",
            "  99. 109. 115. 268. 274. 158. 107.  83. 103. 272.  85. 280. 336. 281.\n",
            " 118. 317. 235.  60. 174. 259. 178. 128.  96. 126. 288.  88. 292.  71.\n",
            " 197. 186.  25.  84.  96. 195.  53. 217. 172. 131. 214.  59.  70. 220.\n",
            " 268. 152.  47.  74. 295. 101. 151. 127. 237. 225.  81. 151. 107.  64.\n",
            " 138. 185. 265. 101. 137. 143. 141.  79. 292. 178.  91. 116.  86. 122.\n",
            "  72. 129. 142.  90. 158.  39. 196. 222. 277.  99. 196. 202. 155.  77.\n",
            " 191.  70.  73.  49.  65. 263. 248. 296. 214. 185.  78.  93. 252. 150.\n",
            "  77. 208.  77. 108. 160.  53. 220. 154. 259.  90. 246. 124.  67.  72.\n",
            " 257. 262. 275. 177.  71.  47. 187. 125.  78.  51. 258. 215. 303. 243.\n",
            "  91. 150. 310. 153. 346.  63.  89.  50.  39. 103. 308. 116. 145.  74.\n",
            "  45. 115. 264.  87. 202. 127. 182. 241.  66.  94. 283.  64. 102. 200.\n",
            " 265.  94. 230. 181. 156. 233.  60. 219.  80.  68. 332. 248.  84. 200.\n",
            "  55.  85.  89.  31. 129.  83. 275.  65. 198. 236. 253. 124.  44. 172.\n",
            " 114. 142. 109. 180. 144. 163. 147.  97. 220. 190. 109. 191. 122. 230.\n",
            " 242. 248. 249. 192. 131. 237.  78. 135. 244. 199. 270. 164.  72.  96.\n",
            " 306.  91. 214.  95. 216. 263. 178. 113. 200. 139. 139.  88. 148.  88.\n",
            " 243.  71.  77. 109. 272.  60.  54. 221.  90. 311. 281. 182. 321.  58.\n",
            " 262. 206. 233. 242. 123. 167.  63. 197.  71. 168. 140. 217. 121. 235.\n",
            " 245.  40.  52. 104. 132.  88.  69. 219.  72. 201. 110.  51. 277.  63.\n",
            " 118.  69. 273. 258.  43. 198. 242. 232. 175.  93. 168. 275. 293. 281.\n",
            "  72. 140. 189. 181. 209. 136. 261. 113. 131. 174. 257.  55.  84.  42.\n",
            " 146. 212. 233.  91. 111. 152. 120.  67. 310.  94. 183.  66. 173.  72.\n",
            "  49.  64.  48. 178. 104. 132. 220.  57.]\n"
          ]
        }
      ],
      "source": [
        "print(y)"
      ]
    },
    {
      "cell_type": "markdown",
      "id": "e95c4d0b",
      "metadata": {
        "id": "e95c4d0b"
      },
      "source": [
        "### (4) train 데이터와 test 데이터로 분리하기"
      ]
    },
    {
      "cell_type": "code",
      "execution_count": null,
      "id": "c37ed869",
      "metadata": {
        "id": "c37ed869",
        "outputId": "64dc80b5-295b-424d-ecdc-3223e6cfb0ff"
      },
      "outputs": [
        {
          "name": "stdout",
          "output_type": "stream",
          "text": [
            "(353, 10) (353,)\n",
            "(89, 10) (89,)\n"
          ]
        }
      ],
      "source": [
        "from sklearn.model_selection import train_test_split\n",
        "\n",
        "X_train, X_test, y_train, y_test = train_test_split(X, y, test_size=0.2, random_state=42)\n",
        "\n",
        "print(X_train.shape, y_train.shape)\n",
        "print(X_test.shape, y_test.shape)\n",
        "#X와 y 데이터를 각각 train 데이터와 test 데이터로 분리 합니다."
      ]
    },
    {
      "cell_type": "markdown",
      "id": "0aed60a3",
      "metadata": {
        "id": "0aed60a3"
      },
      "source": [
        "### (5) 모델 준비하기"
      ]
    },
    {
      "cell_type": "code",
      "execution_count": null,
      "id": "8da47cea",
      "metadata": {
        "id": "8da47cea",
        "outputId": "2beac132-c007-444a-bcc9-93846b177d33"
      },
      "outputs": [
        {
          "name": "stdout",
          "output_type": "stream",
          "text": [
            "굿!\n"
          ]
        }
      ],
      "source": [
        "import numpy as np\n",
        "W = np.random.rand(10)\n",
        "b = np.random.rand()\n",
        "print(\"굿!\")\n",
        "#입력 데이터 개수 10에 맞는 가중치 W와 b를 준비합니다.\n"
      ]
    },
    {
      "cell_type": "code",
      "execution_count": null,
      "id": "7798e725",
      "metadata": {
        "id": "7798e725",
        "outputId": "65204842-75c9-468b-cdf1-621fe7044005"
      },
      "outputs": [
        {
          "data": {
            "text/plain": [
              "array([0.71045271, 0.01486812, 0.1250667 , 0.38404472, 0.61519122,\n",
              "       0.0573839 , 0.67811147, 0.29090573, 0.04566389, 0.09261599])"
            ]
          },
          "execution_count": 25,
          "metadata": {},
          "output_type": "execute_result"
        }
      ],
      "source": [
        "W"
      ]
    },
    {
      "cell_type": "code",
      "execution_count": null,
      "id": "ab496fc9",
      "metadata": {
        "id": "ab496fc9",
        "outputId": "4ee95e43-da85-44a0-8616-532d1c11843a"
      },
      "outputs": [
        {
          "data": {
            "text/plain": [
              "0.4013288390019222"
            ]
          },
          "execution_count": 26,
          "metadata": {},
          "output_type": "execute_result"
        }
      ],
      "source": [
        "b"
      ]
    },
    {
      "cell_type": "code",
      "execution_count": null,
      "id": "c21bf90a",
      "metadata": {
        "id": "c21bf90a",
        "outputId": "97fa7654-d026-4fca-82bd-71865fea7e64"
      },
      "outputs": [
        {
          "name": "stdout",
          "output_type": "stream",
          "text": [
            "굿!\n"
          ]
        }
      ],
      "source": [
        "def model(X, W, b):\n",
        "    predictions = 0\n",
        "    for i in range(10):\n",
        "        predictions += X[:, i] * W[i]\n",
        "    predictions += b\n",
        "    return predictions\n",
        "print(\"굿!\")\n",
        "#모델 함수를 구현합니다.\n"
      ]
    },
    {
      "cell_type": "markdown",
      "id": "a83e9696",
      "metadata": {
        "id": "a83e9696"
      },
      "source": [
        "### (6) 손실함수 loss 정의하기"
      ]
    },
    {
      "cell_type": "code",
      "execution_count": null,
      "id": "825907da",
      "metadata": {
        "id": "825907da",
        "outputId": "a26ae523-26dd-4ee6-8d39-5bde5cd2de37"
      },
      "outputs": [
        {
          "name": "stdout",
          "output_type": "stream",
          "text": [
            "굿!\n"
          ]
        }
      ],
      "source": [
        "def MSE(a, b):\n",
        "    mse = ((a - b) ** 2).mean()  # 두 값의 차이의 제곱의 평균\n",
        "    return mse\n",
        "print(\"굿!\")\n",
        "#손실함수를 MSE로 구현합니다."
      ]
    },
    {
      "cell_type": "code",
      "execution_count": null,
      "id": "75ed3bb2",
      "metadata": {
        "id": "75ed3bb2",
        "outputId": "bb19ef2f-aedd-4553-ada5-04af96adc655"
      },
      "outputs": [
        {
          "name": "stdout",
          "output_type": "stream",
          "text": [
            "굿\n"
          ]
        }
      ],
      "source": [
        "def loss(X, W, b, y):\n",
        "    predictions = model(X, W, b)\n",
        "    L = MSE(predictions, y)\n",
        "    return L\n",
        "print(\"굿\")\n",
        "#손실함수 loss를 정의합니다."
      ]
    },
    {
      "cell_type": "markdown",
      "id": "2a2c7a69",
      "metadata": {
        "id": "2a2c7a69"
      },
      "source": [
        "### (7) 기울기를 구하는 gradient 함수 구현하기"
      ]
    },
    {
      "cell_type": "code",
      "execution_count": null,
      "id": "4091975f",
      "metadata": {
        "id": "4091975f",
        "outputId": "88b66c74-ebaf-47c6-d305-082c559f3f8c"
      },
      "outputs": [
        {
          "name": "stdout",
          "output_type": "stream",
          "text": [
            "굿!\n"
          ]
        }
      ],
      "source": [
        "def gradient(X, W, b, y):\n",
        "  \n",
        "    N = len(W)  # N은 가중치의 개수\n",
        "    \n",
        "   \n",
        "    y_pred = model(X, W, b) # y_pred 준비\n",
        "    \n",
        "    \n",
        "    dW = 1/N * 2 * X.T.dot(y_pred - y)# 공식에 맞게 gradient 계산\n",
        "        \n",
        "    \n",
        "    db = 2 * (y_pred - y).mean()# b의 gradient 계산\n",
        "   \n",
        "    return dW, db\n",
        "print(\"굿!\")\n",
        "#기울기를 구하는 gradient 함수를 구현합니다."
      ]
    },
    {
      "cell_type": "code",
      "execution_count": null,
      "id": "d67d7985",
      "metadata": {
        "id": "d67d7985",
        "outputId": "b873fc44-24cb-4fed-d290-d8f9757560a2"
      },
      "outputs": [
        {
          "name": "stdout",
          "output_type": "stream",
          "text": [
            "dW: [ -60.6193753   -13.91558223 -189.78577454 -142.77971673  -68.40635795\n",
            "  -56.16272079  127.88237072 -139.27083307 -183.08072972 -123.70802932]\n",
            "db: -303.464310647788\n"
          ]
        }
      ],
      "source": [
        "dW, db = gradient(X, W, b, y)\n",
        "print(\"dW:\", dW)\n",
        "print(\"db:\", db)\n",
        "#경사(기울기)를 하나 계산해 봅니다.\n"
      ]
    },
    {
      "cell_type": "markdown",
      "id": "f59db394",
      "metadata": {
        "id": "f59db394"
      },
      "source": [
        "### (8) 하이퍼 파라미터인 학습률 설정하기"
      ]
    },
    {
      "cell_type": "code",
      "execution_count": null,
      "id": "31ee5316",
      "metadata": {
        "id": "31ee5316"
      },
      "outputs": [],
      "source": [
        "LEARNING_RATE = 0.001\n",
        "#학습율을 설정해 줍니다."
      ]
    },
    {
      "cell_type": "markdown",
      "id": "4c33b647",
      "metadata": {
        "id": "4c33b647"
      },
      "source": [
        "### (9) 모델 학습하기"
      ]
    },
    {
      "cell_type": "code",
      "execution_count": null,
      "id": "eb5ade13",
      "metadata": {
        "id": "eb5ade13",
        "outputId": "9a396657-5a3e-478b-fb4c-d17cdd1f9b8b"
      },
      "outputs": [
        {
          "name": "stdout",
          "output_type": "stream",
          "text": [
            "Iteration 10 : Loss 2895.5589\n",
            "Iteration 20 : Loss 2895.5581\n",
            "Iteration 30 : Loss 2895.5572\n",
            "Iteration 40 : Loss 2895.5564\n",
            "Iteration 50 : Loss 2895.5556\n",
            "Iteration 60 : Loss 2895.5548\n",
            "Iteration 70 : Loss 2895.5540\n",
            "Iteration 80 : Loss 2895.5531\n",
            "Iteration 90 : Loss 2895.5523\n",
            "Iteration 100 : Loss 2895.5515\n",
            "Iteration 110 : Loss 2895.5507\n",
            "Iteration 120 : Loss 2895.5499\n",
            "Iteration 130 : Loss 2895.5490\n",
            "Iteration 140 : Loss 2895.5482\n",
            "Iteration 150 : Loss 2895.5474\n",
            "Iteration 160 : Loss 2895.5466\n",
            "Iteration 170 : Loss 2895.5458\n",
            "Iteration 180 : Loss 2895.5449\n",
            "Iteration 190 : Loss 2895.5441\n",
            "Iteration 200 : Loss 2895.5433\n",
            "Iteration 210 : Loss 2895.5425\n",
            "Iteration 220 : Loss 2895.5417\n",
            "Iteration 230 : Loss 2895.5409\n",
            "Iteration 240 : Loss 2895.5400\n",
            "Iteration 250 : Loss 2895.5392\n",
            "Iteration 260 : Loss 2895.5384\n",
            "Iteration 270 : Loss 2895.5376\n",
            "Iteration 280 : Loss 2895.5368\n",
            "Iteration 290 : Loss 2895.5359\n",
            "Iteration 300 : Loss 2895.5351\n",
            "Iteration 310 : Loss 2895.5343\n",
            "Iteration 320 : Loss 2895.5335\n",
            "Iteration 330 : Loss 2895.5327\n",
            "Iteration 340 : Loss 2895.5319\n",
            "Iteration 350 : Loss 2895.5310\n",
            "Iteration 360 : Loss 2895.5302\n",
            "Iteration 370 : Loss 2895.5294\n",
            "Iteration 380 : Loss 2895.5286\n",
            "Iteration 390 : Loss 2895.5278\n",
            "Iteration 400 : Loss 2895.5270\n",
            "Iteration 410 : Loss 2895.5261\n",
            "Iteration 420 : Loss 2895.5253\n",
            "Iteration 430 : Loss 2895.5245\n",
            "Iteration 440 : Loss 2895.5237\n",
            "Iteration 450 : Loss 2895.5229\n",
            "Iteration 460 : Loss 2895.5220\n",
            "Iteration 470 : Loss 2895.5212\n",
            "Iteration 480 : Loss 2895.5204\n",
            "Iteration 490 : Loss 2895.5196\n",
            "Iteration 500 : Loss 2895.5188\n",
            "Iteration 510 : Loss 2895.5180\n",
            "Iteration 520 : Loss 2895.5171\n",
            "Iteration 530 : Loss 2895.5163\n",
            "Iteration 540 : Loss 2895.5155\n",
            "Iteration 550 : Loss 2895.5147\n",
            "Iteration 560 : Loss 2895.5139\n",
            "Iteration 570 : Loss 2895.5131\n",
            "Iteration 580 : Loss 2895.5122\n",
            "Iteration 590 : Loss 2895.5114\n",
            "Iteration 600 : Loss 2895.5106\n",
            "Iteration 610 : Loss 2895.5098\n",
            "Iteration 620 : Loss 2895.5090\n",
            "Iteration 630 : Loss 2895.5082\n",
            "Iteration 640 : Loss 2895.5073\n",
            "Iteration 650 : Loss 2895.5065\n",
            "Iteration 660 : Loss 2895.5057\n",
            "Iteration 670 : Loss 2895.5049\n",
            "Iteration 680 : Loss 2895.5041\n",
            "Iteration 690 : Loss 2895.5033\n",
            "Iteration 700 : Loss 2895.5025\n",
            "Iteration 710 : Loss 2895.5016\n",
            "Iteration 720 : Loss 2895.5008\n",
            "Iteration 730 : Loss 2895.5000\n",
            "Iteration 740 : Loss 2895.4992\n",
            "Iteration 750 : Loss 2895.4984\n",
            "Iteration 760 : Loss 2895.4976\n",
            "Iteration 770 : Loss 2895.4967\n",
            "Iteration 780 : Loss 2895.4959\n",
            "Iteration 790 : Loss 2895.4951\n",
            "Iteration 800 : Loss 2895.4943\n",
            "Iteration 810 : Loss 2895.4935\n",
            "Iteration 820 : Loss 2895.4927\n",
            "Iteration 830 : Loss 2895.4919\n",
            "Iteration 840 : Loss 2895.4910\n",
            "Iteration 850 : Loss 2895.4902\n",
            "Iteration 860 : Loss 2895.4894\n",
            "Iteration 870 : Loss 2895.4886\n",
            "Iteration 880 : Loss 2895.4878\n",
            "Iteration 890 : Loss 2895.4870\n",
            "Iteration 900 : Loss 2895.4861\n",
            "Iteration 910 : Loss 2895.4853\n",
            "Iteration 920 : Loss 2895.4845\n",
            "Iteration 930 : Loss 2895.4837\n",
            "Iteration 940 : Loss 2895.4829\n",
            "Iteration 950 : Loss 2895.4821\n",
            "Iteration 960 : Loss 2895.4813\n",
            "Iteration 970 : Loss 2895.4804\n",
            "Iteration 980 : Loss 2895.4796\n",
            "Iteration 990 : Loss 2895.4788\n",
            "Iteration 1000 : Loss 2895.4780\n",
            "Iteration 1010 : Loss 2895.4772\n",
            "Iteration 1020 : Loss 2895.4764\n",
            "Iteration 1030 : Loss 2895.4756\n",
            "Iteration 1040 : Loss 2895.4747\n",
            "Iteration 1050 : Loss 2895.4739\n",
            "Iteration 1060 : Loss 2895.4731\n",
            "Iteration 1070 : Loss 2895.4723\n",
            "Iteration 1080 : Loss 2895.4715\n",
            "Iteration 1090 : Loss 2895.4707\n",
            "Iteration 1100 : Loss 2895.4699\n",
            "Iteration 1110 : Loss 2895.4691\n",
            "Iteration 1120 : Loss 2895.4682\n",
            "Iteration 1130 : Loss 2895.4674\n",
            "Iteration 1140 : Loss 2895.4666\n",
            "Iteration 1150 : Loss 2895.4658\n",
            "Iteration 1160 : Loss 2895.4650\n",
            "Iteration 1170 : Loss 2895.4642\n",
            "Iteration 1180 : Loss 2895.4634\n",
            "Iteration 1190 : Loss 2895.4625\n",
            "Iteration 1200 : Loss 2895.4617\n",
            "Iteration 1210 : Loss 2895.4609\n",
            "Iteration 1220 : Loss 2895.4601\n",
            "Iteration 1230 : Loss 2895.4593\n",
            "Iteration 1240 : Loss 2895.4585\n",
            "Iteration 1250 : Loss 2895.4577\n",
            "Iteration 1260 : Loss 2895.4569\n",
            "Iteration 1270 : Loss 2895.4560\n",
            "Iteration 1280 : Loss 2895.4552\n",
            "Iteration 1290 : Loss 2895.4544\n",
            "Iteration 1300 : Loss 2895.4536\n",
            "Iteration 1310 : Loss 2895.4528\n",
            "Iteration 1320 : Loss 2895.4520\n",
            "Iteration 1330 : Loss 2895.4512\n",
            "Iteration 1340 : Loss 2895.4504\n",
            "Iteration 1350 : Loss 2895.4495\n",
            "Iteration 1360 : Loss 2895.4487\n",
            "Iteration 1370 : Loss 2895.4479\n",
            "Iteration 1380 : Loss 2895.4471\n",
            "Iteration 1390 : Loss 2895.4463\n",
            "Iteration 1400 : Loss 2895.4455\n",
            "Iteration 1410 : Loss 2895.4447\n",
            "Iteration 1420 : Loss 2895.4439\n",
            "Iteration 1430 : Loss 2895.4430\n",
            "Iteration 1440 : Loss 2895.4422\n",
            "Iteration 1450 : Loss 2895.4414\n",
            "Iteration 1460 : Loss 2895.4406\n",
            "Iteration 1470 : Loss 2895.4398\n",
            "Iteration 1480 : Loss 2895.4390\n",
            "Iteration 1490 : Loss 2895.4382\n",
            "Iteration 1500 : Loss 2895.4374\n",
            "Iteration 1510 : Loss 2895.4365\n",
            "Iteration 1520 : Loss 2895.4357\n",
            "Iteration 1530 : Loss 2895.4349\n",
            "Iteration 1540 : Loss 2895.4341\n",
            "Iteration 1550 : Loss 2895.4333\n",
            "Iteration 1560 : Loss 2895.4325\n",
            "Iteration 1570 : Loss 2895.4317\n",
            "Iteration 1580 : Loss 2895.4309\n",
            "Iteration 1590 : Loss 2895.4301\n",
            "Iteration 1600 : Loss 2895.4292\n",
            "Iteration 1610 : Loss 2895.4284\n",
            "Iteration 1620 : Loss 2895.4276\n",
            "Iteration 1630 : Loss 2895.4268\n",
            "Iteration 1640 : Loss 2895.4260\n",
            "Iteration 1650 : Loss 2895.4252\n",
            "Iteration 1660 : Loss 2895.4244\n",
            "Iteration 1670 : Loss 2895.4236\n",
            "Iteration 1680 : Loss 2895.4228\n",
            "Iteration 1690 : Loss 2895.4219\n",
            "Iteration 1700 : Loss 2895.4211\n",
            "Iteration 1710 : Loss 2895.4203\n",
            "Iteration 1720 : Loss 2895.4195\n",
            "Iteration 1730 : Loss 2895.4187\n",
            "Iteration 1740 : Loss 2895.4179\n",
            "Iteration 1750 : Loss 2895.4171\n",
            "Iteration 1760 : Loss 2895.4163\n",
            "Iteration 1770 : Loss 2895.4155\n",
            "Iteration 1780 : Loss 2895.4147\n",
            "Iteration 1790 : Loss 2895.4138\n",
            "Iteration 1800 : Loss 2895.4130\n",
            "Iteration 1810 : Loss 2895.4122\n",
            "Iteration 1820 : Loss 2895.4114\n",
            "Iteration 1830 : Loss 2895.4106\n",
            "Iteration 1840 : Loss 2895.4098\n",
            "Iteration 1850 : Loss 2895.4090\n",
            "Iteration 1860 : Loss 2895.4082\n",
            "Iteration 1870 : Loss 2895.4074\n",
            "Iteration 1880 : Loss 2895.4066\n",
            "Iteration 1890 : Loss 2895.4057\n",
            "Iteration 1900 : Loss 2895.4049\n",
            "Iteration 1910 : Loss 2895.4041\n",
            "Iteration 1920 : Loss 2895.4033\n",
            "Iteration 1930 : Loss 2895.4025\n",
            "Iteration 1940 : Loss 2895.4017\n",
            "Iteration 1950 : Loss 2895.4009\n",
            "Iteration 1960 : Loss 2895.4001\n",
            "Iteration 1970 : Loss 2895.3993\n",
            "Iteration 1980 : Loss 2895.3985\n",
            "Iteration 1990 : Loss 2895.3976\n",
            "Iteration 2000 : Loss 2895.3968\n",
            "Iteration 2010 : Loss 2895.3960\n",
            "Iteration 2020 : Loss 2895.3952\n",
            "Iteration 2030 : Loss 2895.3944\n",
            "Iteration 2040 : Loss 2895.3936\n",
            "Iteration 2050 : Loss 2895.3928\n",
            "Iteration 2060 : Loss 2895.3920\n",
            "Iteration 2070 : Loss 2895.3912\n",
            "Iteration 2080 : Loss 2895.3904\n",
            "Iteration 2090 : Loss 2895.3896\n",
            "Iteration 2100 : Loss 2895.3888\n",
            "Iteration 2110 : Loss 2895.3879\n",
            "Iteration 2120 : Loss 2895.3871\n",
            "Iteration 2130 : Loss 2895.3863\n",
            "Iteration 2140 : Loss 2895.3855\n",
            "Iteration 2150 : Loss 2895.3847\n",
            "Iteration 2160 : Loss 2895.3839\n",
            "Iteration 2170 : Loss 2895.3831\n",
            "Iteration 2180 : Loss 2895.3823\n",
            "Iteration 2190 : Loss 2895.3815\n",
            "Iteration 2200 : Loss 2895.3807\n",
            "Iteration 2210 : Loss 2895.3799\n",
            "Iteration 2220 : Loss 2895.3790\n",
            "Iteration 2230 : Loss 2895.3782\n",
            "Iteration 2240 : Loss 2895.3774\n",
            "Iteration 2250 : Loss 2895.3766\n",
            "Iteration 2260 : Loss 2895.3758\n",
            "Iteration 2270 : Loss 2895.3750\n",
            "Iteration 2280 : Loss 2895.3742\n",
            "Iteration 2290 : Loss 2895.3734\n",
            "Iteration 2300 : Loss 2895.3726\n",
            "Iteration 2310 : Loss 2895.3718\n",
            "Iteration 2320 : Loss 2895.3710\n",
            "Iteration 2330 : Loss 2895.3702\n",
            "Iteration 2340 : Loss 2895.3694\n",
            "Iteration 2350 : Loss 2895.3685\n",
            "Iteration 2360 : Loss 2895.3677\n",
            "Iteration 2370 : Loss 2895.3669\n",
            "Iteration 2380 : Loss 2895.3661\n",
            "Iteration 2390 : Loss 2895.3653\n",
            "Iteration 2400 : Loss 2895.3645\n",
            "Iteration 2410 : Loss 2895.3637\n",
            "Iteration 2420 : Loss 2895.3629\n",
            "Iteration 2430 : Loss 2895.3621\n",
            "Iteration 2440 : Loss 2895.3613\n",
            "Iteration 2450 : Loss 2895.3605\n",
            "Iteration 2460 : Loss 2895.3597\n",
            "Iteration 2470 : Loss 2895.3589\n",
            "Iteration 2480 : Loss 2895.3581\n",
            "Iteration 2490 : Loss 2895.3572\n",
            "Iteration 2500 : Loss 2895.3564\n",
            "Iteration 2510 : Loss 2895.3556\n",
            "Iteration 2520 : Loss 2895.3548\n",
            "Iteration 2530 : Loss 2895.3540\n",
            "Iteration 2540 : Loss 2895.3532\n",
            "Iteration 2550 : Loss 2895.3524\n",
            "Iteration 2560 : Loss 2895.3516\n",
            "Iteration 2570 : Loss 2895.3508\n",
            "Iteration 2580 : Loss 2895.3500\n",
            "Iteration 2590 : Loss 2895.3492\n",
            "Iteration 2600 : Loss 2895.3484\n",
            "Iteration 2610 : Loss 2895.3476\n",
            "Iteration 2620 : Loss 2895.3468\n",
            "Iteration 2630 : Loss 2895.3460\n",
            "Iteration 2640 : Loss 2895.3451\n",
            "Iteration 2650 : Loss 2895.3443\n",
            "Iteration 2660 : Loss 2895.3435\n",
            "Iteration 2670 : Loss 2895.3427\n",
            "Iteration 2680 : Loss 2895.3419\n",
            "Iteration 2690 : Loss 2895.3411\n",
            "Iteration 2700 : Loss 2895.3403\n",
            "Iteration 2710 : Loss 2895.3395\n",
            "Iteration 2720 : Loss 2895.3387\n",
            "Iteration 2730 : Loss 2895.3379\n",
            "Iteration 2740 : Loss 2895.3371\n",
            "Iteration 2750 : Loss 2895.3363\n",
            "Iteration 2760 : Loss 2895.3355\n",
            "Iteration 2770 : Loss 2895.3347\n",
            "Iteration 2780 : Loss 2895.3339\n",
            "Iteration 2790 : Loss 2895.3331\n",
            "Iteration 2800 : Loss 2895.3322\n",
            "Iteration 2810 : Loss 2895.3314\n",
            "Iteration 2820 : Loss 2895.3306\n",
            "Iteration 2830 : Loss 2895.3298\n",
            "Iteration 2840 : Loss 2895.3290\n",
            "Iteration 2850 : Loss 2895.3282\n",
            "Iteration 2860 : Loss 2895.3274\n",
            "Iteration 2870 : Loss 2895.3266\n",
            "Iteration 2880 : Loss 2895.3258\n",
            "Iteration 2890 : Loss 2895.3250\n",
            "Iteration 2900 : Loss 2895.3242\n",
            "Iteration 2910 : Loss 2895.3234\n",
            "Iteration 2920 : Loss 2895.3226\n",
            "Iteration 2930 : Loss 2895.3218\n",
            "Iteration 2940 : Loss 2895.3210\n",
            "Iteration 2950 : Loss 2895.3202\n",
            "Iteration 2960 : Loss 2895.3194\n",
            "Iteration 2970 : Loss 2895.3186\n",
            "Iteration 2980 : Loss 2895.3178\n",
            "Iteration 2990 : Loss 2895.3170\n",
            "Iteration 3000 : Loss 2895.3161\n"
          ]
        }
      ],
      "source": [
        "losses = []\n",
        "\n",
        "for i in range(1, 3001):\n",
        "    dW, db = gradient(X_train, W, b, y_train)\n",
        "    W -= LEARNING_RATE * dW\n",
        "    b -= LEARNING_RATE * db\n",
        "    L = loss(X_train, W, b, y_train)\n",
        "    losses.append(L)\n",
        "    if i % 10 == 0:\n",
        "        print('Iteration %d : Loss %0.4f' % (i, L))\n",
        "#loss 값이 충분히 떨어질때까지 학습 시킵니다.         \n"
      ]
    },
    {
      "cell_type": "code",
      "execution_count": null,
      "id": "4647929d",
      "metadata": {
        "id": "4647929d",
        "outputId": "231ea25c-ec55-40e7-f8f3-5ff1d30eceb2"
      },
      "outputs": [
        {
          "data": {
            "image/png": "[encoded data removed]",
            "text/plain": [
              "<Figure size 432x288 with 1 Axes>"
            ]
          },
          "metadata": {
            "needs_background": "light"
          },
          "output_type": "display_data"
        }
      ],
      "source": [
        "import matplotlib.pyplot as plt\n",
        "plt.plot(losses)\n",
        "plt.show()"
      ]
    },
    {
      "cell_type": "markdown",
      "id": "9f87de0f",
      "metadata": {
        "id": "9f87de0f"
      },
      "source": [
        "### (10) test 데이터에 대한 성능 확인하기"
      ]
    },
    {
      "cell_type": "code",
      "execution_count": null,
      "id": "57954afe",
      "metadata": {
        "id": "57954afe",
        "outputId": "8dc47293-e8e5-48dd-dc07-5e7e0ce177c8"
      },
      "outputs": [
        {
          "data": {
            "text/plain": [
              "6813.839452727727"
            ]
          },
          "execution_count": 35,
          "metadata": {},
          "output_type": "execute_result"
        }
      ],
      "source": [
        "prediction = model(X_test, W, b)\n",
        "mse = loss(X_test, W, b, y_test)\n",
        "mse\n",
        "#테스트 데이터 성능 확인하기 "
      ]
    },
    {
      "cell_type": "markdown",
      "id": "1e0d1920",
      "metadata": {
        "id": "1e0d1920"
      },
      "source": [
        "### (11) 정답 데이터와 예측한 데이터 시각화하기"
      ]
    },
    {
      "cell_type": "code",
      "execution_count": null,
      "id": "bf8cb602",
      "metadata": {
        "scrolled": true,
        "id": "bf8cb602",
        "outputId": "04b9edd7-16fb-403c-e7c9-be17a8390c92"
      },
      "outputs": [
        {
          "data": {
            "image/png": "[encoded data removed]",
            "text/plain": [
              "<Figure size 432x288 with 1 Axes>"
            ]
          },
          "metadata": {
            "needs_background": "light"
          },
          "output_type": "display_data"
        }
      ],
      "source": [
        "plt.scatter(X_test[:, 0], y_test)\n",
        "plt.scatter(X_test[:, 0], prediction)\n",
        "plt.show()\n",
        "#정답 데이터와 예측한 데이터 시각화하기"
      ]
    },
    {
      "cell_type": "markdown",
      "id": "60b71c28",
      "metadata": {
        "id": "60b71c28"
      },
      "source": [
        "## 회고"
      ]
    },
    {
      "cell_type": "markdown",
      "id": "4f049939",
      "metadata": {
        "id": "4f049939"
      },
      "source": [
        "### 1. 밑시딥 퍼셉트론에서 배웠던 가중치(W)와 편향(b)을 코드로 구현해서 학습해 볼 수 있어서 흥미로웠다.  "
      ]
    },
    {
      "cell_type": "markdown",
      "id": "83af40e7",
      "metadata": {
        "id": "83af40e7"
      },
      "source": [
        "#### 레퍼런스\n"
      ]
    },
    {
      "cell_type": "code",
      "execution_count": null,
      "id": "9d795bb2",
      "metadata": {
        "id": "9d795bb2"
      },
      "outputs": [],
      "source": []
    }
  ],
  "metadata": {
    "kernelspec": {
      "display_name": "Python 3 (ipykernel)",
      "language": "python",
      "name": "python3"
    },
    "language_info": {
      "codemirror_mode": {
        "name": "ipython",
        "version": 3
      },
      "file_extension": ".py",
      "mimetype": "text/x-python",
      "name": "python",
      "nbconvert_exporter": "python",
      "pygments_lexer": "ipython3",
      "version": "3.9.7"
    },
    "colab": {
      "provenance": [],
      "include_colab_link": true
    }
  },
  "nbformat": 4,
  "nbformat_minor": 5
}