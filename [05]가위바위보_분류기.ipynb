{
  "cells": [
    {
      "cell_type": "markdown",
      "metadata": {
        "id": "view-in-github",
        "colab_type": "text"
      },
      "source": [
        "<a href=\"https://colab.research.google.com/github/ladiaJeong/-01-classification/blob/master/%5B05%5D%EA%B0%80%EC%9C%84%EB%B0%94%EC%9C%84%EB%B3%B4_%EB%B6%84%EB%A5%98%EA%B8%B0.ipynb\" target=\"_parent\"><img src=\"https://colab.research.google.com/assets/colab-badge.svg\" alt=\"Open In Colab\"/></a>"
      ]
    },
    {
      "cell_type": "markdown",
      "id": "637cdace",
      "metadata": {
        "id": "637cdace"
      },
      "source": [
        "### 가위바위보 분류기 만들기"
      ]
    },
    {
      "cell_type": "code",
      "execution_count": null,
      "id": "357f7429",
      "metadata": {
        "id": "357f7429",
        "outputId": "e8fde1c0-e9fe-42e9-aeba-ea144efdf3ca"
      },
      "outputs": [
        {
          "name": "stdout",
          "output_type": "stream",
          "text": [
            "2.6.0\n",
            "1.21.4\n"
          ]
        }
      ],
      "source": [
        "# 라이브러리 버전 확인 \n",
        "\n",
        "import tensorflow as tf\n",
        "import numpy as np\n",
        "\n",
        "print(tf.__version__)\n",
        "print(np.__version__)\n"
      ]
    },
    {
      "cell_type": "code",
      "execution_count": null,
      "id": "150f332c",
      "metadata": {
        "id": "150f332c",
        "outputId": "c5059b0a-9122-4fed-a29f-a2fae590013b"
      },
      "outputs": [
        {
          "name": "stdout",
          "output_type": "stream",
          "text": [
            "PIL 라이브러리 import 완료!\n"
          ]
        }
      ],
      "source": [
        "#데이터 불러오기\n",
        "\n",
        "from PIL import Image\n",
        "import glob\n",
        "import os\n",
        "\n",
        "print(\"PIL 라이브러리 import 완료!\")"
      ]
    },
    {
      "cell_type": "markdown",
      "id": "9e193247",
      "metadata": {
        "id": "9e193247"
      },
      "source": [
        "### resize 하기"
      ]
    },
    {
      "cell_type": "code",
      "execution_count": null,
      "id": "7bae756c",
      "metadata": {
        "id": "7bae756c"
      },
      "outputs": [],
      "source": [
        "def resize_images(img_path):\n",
        "\timages=glob.glob(img_path + \"/*.jpg\")  \n",
        "    \n",
        "\tprint(len(images), \" images to be resized.\")\n",
        "\n",
        "    # 파일마다 모두 28x28 사이즈로 바꾸어 저장합니다.\n",
        "\ttarget_size=(28,28)\n",
        "\tfor img in images:\n",
        "\t\told_img=Image.open(img)\n",
        "\t\tnew_img=old_img.resize(target_size,Image.ANTIALIAS)\n",
        "\t\tnew_img.save(img, \"JPEG\")\n",
        "    \n",
        "\tprint(len(images), \" images resized.\")\n"
      ]
    },
    {
      "cell_type": "code",
      "execution_count": null,
      "id": "8df237df",
      "metadata": {
        "id": "8df237df",
        "outputId": "3f42e266-3e6b-4277-8b9a-b540e6e8a9da"
      },
      "outputs": [
        {
          "name": "stdout",
          "output_type": "stream",
          "text": [
            "100  images to be resized.\n",
            "100  images resized.\n",
            "가위 이미지 resize 완료!\n"
          ]
        }
      ],
      "source": [
        "# 가위 이미지가 저장된 디렉토리 아래의 모든 jpg 파일을 읽어들여서\n",
        "image_dir_path = os.getenv(\"HOME\") + \"/aiffel/rock_scissor_paper/scissor\"\n",
        "resize_images(image_dir_path)\n",
        "\n",
        "print(\"가위 이미지 resize 완료!\")"
      ]
    },
    {
      "cell_type": "code",
      "execution_count": null,
      "id": "5c0aa1ad",
      "metadata": {
        "id": "5c0aa1ad",
        "outputId": "78290774-48da-481e-c911-41d8e66e4af5"
      },
      "outputs": [
        {
          "name": "stdout",
          "output_type": "stream",
          "text": [
            "100  images to be resized.\n",
            "100  images resized.\n",
            "바위 이미지 resize 완료!\n"
          ]
        }
      ],
      "source": [
        "def resize_images(img_path):\n",
        "\timages=glob.glob(img_path + \"/*.jpg\")  \n",
        "    \n",
        "\tprint(len(images), \" images to be resized.\")\n",
        "\n",
        "    # 파일마다 모두 28x28 사이즈로 바꾸어 저장합니다.\n",
        "\ttarget_size=(28,28)\n",
        "\tfor img in images:\n",
        "\t\told_img=Image.open(img)\n",
        "\t\tnew_img=old_img.resize(target_size,Image.ANTIALIAS)\n",
        "\t\tnew_img.save(img, \"JPEG\")\n",
        "    \n",
        "\tprint(len(images), \" images resized.\")\n",
        "\t\n",
        "# 가위 이미지가 저장된 디렉토리 아래의 모든 jpg 파일을 읽어들여서\n",
        "image_dir_path = os.getenv(\"HOME\") + \"/aiffel/rock_scissor_paper/rock\"\n",
        "resize_images(image_dir_path)\n",
        "\n",
        "print(\"바위 이미지 resize 완료!\")"
      ]
    },
    {
      "cell_type": "code",
      "execution_count": null,
      "id": "9f95a99f",
      "metadata": {
        "id": "9f95a99f",
        "outputId": "2eea9c3a-e92f-49eb-dfe8-5184b94bbcd6"
      },
      "outputs": [
        {
          "name": "stdout",
          "output_type": "stream",
          "text": [
            "100  images to be resized.\n",
            "100  images resized.\n",
            "보 이미지 resize 완료!\n"
          ]
        }
      ],
      "source": [
        "# 보 이미지가 저장된 디렉토리 아래의 모든 jpg 파일을 읽어들여서\n",
        "def resize_images(img_path):\n",
        "\timages=glob.glob(img_path + \"/*.jpg\")  \n",
        "    \n",
        "\tprint(len(images), \" images to be resized.\")\n",
        "\n",
        "# 파일마다 모두 28x28 사이즈로 바꾸어 저장합니다.\n",
        "\ttarget_size=(28,28)\n",
        "\tfor img in images:\n",
        "\t\told_img=Image.open(img)\n",
        "\t\tnew_img=old_img.resize(target_size,Image.ANTIALIAS)\n",
        "\t\tnew_img.save(img, \"JPEG\")\n",
        "    \n",
        "\tprint(len(images), \" images resized.\")\n",
        "\t\n",
        "# 가위 이미지가 저장된 디렉토리 아래의 모든 jpg 파일을 읽어들여서\n",
        "image_dir_path = os.getenv(\"HOME\") + \"/aiffel/rock_scissor_paper/paper\"\n",
        "resize_images(image_dir_path)\n",
        "\n",
        "print(\"보 이미지 resize 완료!\")"
      ]
    },
    {
      "cell_type": "markdown",
      "id": "e3f1d826",
      "metadata": {
        "id": "e3f1d826"
      },
      "source": [
        "### load_data 함수 만들기 "
      ]
    },
    {
      "cell_type": "code",
      "execution_count": null,
      "id": "5d27a0f0",
      "metadata": {
        "id": "5d27a0f0",
        "outputId": "c1b3955a-83ec-48a6-fa59-03d3464c19f7"
      },
      "outputs": [
        {
          "name": "stdout",
          "output_type": "stream",
          "text": [
            "학습데이터(x_train)의 이미지 개수는 300 입니다.\n",
            "x_train shape: (300, 28, 28, 3)\n",
            "y_train shape: (300,)\n"
          ]
        }
      ],
      "source": [
        "import numpy as np\n",
        "\n",
        "def load_data(img_path, number_of_data = 300):\n",
        "    img_size=28\n",
        "    color=3\n",
        "    \n",
        "    imgs=np.zeros(number_of_data*img_size*img_size*color,dtype=np.int32).reshape(number_of_data,img_size,img_size,color)\n",
        "    labels=np.zeros(number_of_data,dtype=np.int32)\n",
        "\n",
        "    idx=0\n",
        "    for file in glob.iglob(img_path+'/scissor/*.jpg'):\n",
        "        img = np.array(Image.open(file),dtype=np.int32)\n",
        "        imgs[idx,:,:,:]=img    # 데이터 영역에 이미지 행렬을 복사\n",
        "        labels[idx]=0   # 가위 : 0\n",
        "        idx=idx+1\n",
        "\n",
        "    for file in glob.iglob(img_path+'/rock/*.jpg'):\n",
        "        img = np.array(Image.open(file),dtype=np.int32)\n",
        "        imgs[idx,:,:,:]=img    # 데이터 영역에 이미지 행렬을 복사\n",
        "        labels[idx]=1   # 바위 : 1\n",
        "        idx=idx+1  \n",
        "    \n",
        "    for file in glob.iglob(img_path+'/paper/*.jpg'):\n",
        "        img = np.array(Image.open(file),dtype=np.int32)\n",
        "        imgs[idx,:,:,:]=img    # 데이터 영역에 이미지 행렬을 복사\n",
        "        labels[idx]=2   # 보 : 2\n",
        "        idx=idx+1\n",
        "        \n",
        "    print(\"학습데이터(x_train)의 이미지 개수는\", idx,\"입니다.\")\n",
        "    return imgs, labels\n",
        "\n",
        "image_dir_path = os.getenv(\"HOME\") + \"/aiffel/rock_scissor_paper\"\n",
        "(x_train, y_train)=load_data(image_dir_path)\n",
        "x_train_norm = x_train/255.0   # 입력은 0~1 사이의 값으로 정규화\n",
        "\n",
        "print(\"x_train shape: {}\".format(x_train.shape))\n",
        "print(\"y_train shape: {}\".format(y_train.shape))"
      ]
    },
    {
      "cell_type": "code",
      "execution_count": null,
      "id": "5cf9fb07",
      "metadata": {
        "id": "5cf9fb07",
        "outputId": "13cec305-db17-48d3-ad75-47ee036531f4"
      },
      "outputs": [
        {
          "name": "stdout",
          "output_type": "stream",
          "text": [
            "라벨:  0\n"
          ]
        },
        {
          "data": {
            "image/png": "[encoded data removed]",
            "text/plain": [
              "<Figure size 432x288 with 1 Axes>"
            ]
          },
          "metadata": {
            "needs_background": "light"
          },
          "output_type": "display_data"
        }
      ],
      "source": [
        "# 이미지 불러오기 \n",
        "\n",
        "import matplotlib.pyplot as plt\n",
        "\n",
        "plt.imshow(x_train[0])\n",
        "print('라벨: ', y_train[0])"
      ]
    },
    {
      "cell_type": "code",
      "execution_count": null,
      "id": "e302f200",
      "metadata": {
        "id": "e302f200",
        "outputId": "e1640068-5a07-4d6a-f583-1db95c8f3eee"
      },
      "outputs": [
        {
          "name": "stdout",
          "output_type": "stream",
          "text": [
            "라벨:  0\n"
          ]
        },
        {
          "data": {
            "image/png": "[encoded data removed]",
            "text/plain": [
              "<Figure size 432x288 with 1 Axes>"
            ]
          },
          "metadata": {
            "needs_background": "light"
          },
          "output_type": "display_data"
        }
      ],
      "source": [
        "\n",
        "import matplotlib.pyplot as plt\n",
        "\n",
        "plt.imshow(x_train[50])\n",
        "print('라벨: ', y_train[50])"
      ]
    },
    {
      "cell_type": "code",
      "execution_count": null,
      "id": "641e7f69",
      "metadata": {
        "id": "641e7f69",
        "outputId": "e37ca192-746f-4277-dd4f-54aa536ade85"
      },
      "outputs": [
        {
          "name": "stdout",
          "output_type": "stream",
          "text": [
            "(300, 28, 28, 3)\n"
          ]
        }
      ],
      "source": [
        "print(x_train.shape)"
      ]
    },
    {
      "cell_type": "markdown",
      "id": "a1dbdb04",
      "metadata": {
        "id": "a1dbdb04"
      },
      "source": [
        "### 딥러닝 네트워크 설계하기 "
      ]
    },
    {
      "cell_type": "code",
      "execution_count": null,
      "id": "39771409",
      "metadata": {
        "id": "39771409"
      },
      "outputs": [],
      "source": [
        "import tensorflow as tf\n",
        "from tensorflow import keras\n",
        "import numpy as np\n",
        "\n"
      ]
    },
    {
      "cell_type": "code",
      "execution_count": null,
      "id": "14a7d344",
      "metadata": {
        "scrolled": true,
        "id": "14a7d344",
        "outputId": "fa66645b-ea97-4de6-c7dd-5d1e7e8a0c39"
      },
      "outputs": [
        {
          "name": "stdout",
          "output_type": "stream",
          "text": [
            "Model: \"sequential\"\n",
            "_________________________________________________________________\n",
            "Layer (type)                 Output Shape              Param #   \n",
            "=================================================================\n",
            "conv2d (Conv2D)              (None, 26, 26, 8)         224       \n",
            "_________________________________________________________________\n",
            "max_pooling2d (MaxPooling2D) (None, 13, 13, 8)         0         \n",
            "_________________________________________________________________\n",
            "conv2d_1 (Conv2D)            (None, 11, 11, 16)        1168      \n",
            "_________________________________________________________________\n",
            "max_pooling2d_1 (MaxPooling2 (None, 5, 5, 16)          0         \n",
            "_________________________________________________________________\n",
            "flatten (Flatten)            (None, 400)               0         \n",
            "_________________________________________________________________\n",
            "dense (Dense)                (None, 8)                 3208      \n",
            "_________________________________________________________________\n",
            "dense_1 (Dense)              (None, 3)                 27        \n",
            "=================================================================\n",
            "Total params: 4,627\n",
            "Trainable params: 4,627\n",
            "Non-trainable params: 0\n",
            "_________________________________________________________________\n"
          ]
        }
      ],
      "source": [
        "n_channel_1=8\n",
        "n_channel_2=16\n",
        "n_dense=8\n",
        "n_train_epoch=10\n",
        "\n",
        "model=keras.models.Sequential()\n",
        "\n",
        "model.add(keras.layers.Conv2D(n_channel_1, (3,3), activation='relu', input_shape=(28,28,3)))\n",
        "model.add(keras.layers.MaxPool2D(2,2))\n",
        "model.add(keras.layers.Conv2D(n_channel_2, (3,3), activation='relu'))\n",
        "model.add(keras.layers.MaxPooling2D((2,2)))\n",
        "model.add(keras.layers.Flatten())\n",
        "model.add(keras.layers.Dense(n_dense, activation='relu'))\n",
        "model.add(keras.layers.Dense(3, activation='softmax'))\n",
        "\n",
        "\n",
        "\n",
        "model.summary()"
      ]
    },
    {
      "cell_type": "markdown",
      "id": "bd5c9a2e",
      "metadata": {
        "id": "bd5c9a2e"
      },
      "source": [
        "### 학습시키기"
      ]
    },
    {
      "cell_type": "code",
      "execution_count": null,
      "id": "73d1febe",
      "metadata": {
        "id": "73d1febe",
        "outputId": "dd57722a-8a6b-4be0-bd2b-cd33242804f1"
      },
      "outputs": [
        {
          "name": "stdout",
          "output_type": "stream",
          "text": [
            "Epoch 1/10\n",
            "10/10 [==============================] - 3s 11ms/step - loss: 4.8073 - accuracy: 0.5767\n",
            "Epoch 2/10\n",
            "10/10 [==============================] - 0s 3ms/step - loss: 1.0632 - accuracy: 0.7100\n",
            "Epoch 3/10\n",
            "10/10 [==============================] - 0s 3ms/step - loss: 0.7092 - accuracy: 0.8133\n",
            "Epoch 4/10\n",
            "10/10 [==============================] - 0s 3ms/step - loss: 0.4133 - accuracy: 0.8733\n",
            "Epoch 5/10\n",
            "10/10 [==============================] - 0s 3ms/step - loss: 0.3070 - accuracy: 0.9167\n",
            "Epoch 6/10\n",
            "10/10 [==============================] - 0s 3ms/step - loss: 0.2036 - accuracy: 0.9433\n",
            "Epoch 7/10\n",
            "10/10 [==============================] - 0s 3ms/step - loss: 0.1793 - accuracy: 0.9433\n",
            "Epoch 8/10\n",
            "10/10 [==============================] - 0s 3ms/step - loss: 0.1919 - accuracy: 0.9567\n",
            "Epoch 9/10\n",
            "10/10 [==============================] - 0s 3ms/step - loss: 0.0982 - accuracy: 0.9700\n",
            "Epoch 10/10\n",
            "10/10 [==============================] - 0s 3ms/step - loss: 0.0775 - accuracy: 0.9833\n"
          ]
        },
        {
          "data": {
            "text/plain": [
              "<keras.callbacks.History at 0x7f15a4020a90>"
            ]
          },
          "execution_count": 13,
          "metadata": {},
          "output_type": "execute_result"
        }
      ],
      "source": [
        "model.compile(optimizer='adam',\n",
        "             loss='sparse_categorical_crossentropy',\n",
        "             metrics=['accuracy'])\n",
        "\n",
        "model.fit(x_train, y_train, epochs=n_train_epoch)\n",
        "\n",
        "\n"
      ]
    },
    {
      "cell_type": "markdown",
      "id": "2b8a1715",
      "metadata": {
        "id": "2b8a1715"
      },
      "source": [
        "## 1. 얼마나 잘 만들었는지 확인하기 (train 내 데이터 test 구글드라이브)"
      ]
    },
    {
      "cell_type": "code",
      "execution_count": null,
      "id": "c3ab0493",
      "metadata": {
        "id": "c3ab0493",
        "outputId": "b55d9f1a-6caf-4071-f81a-1cf1853682bf"
      },
      "outputs": [
        {
          "name": "stdout",
          "output_type": "stream",
          "text": [
            "학습데이터(x_test)의 이미지 개수는 300 입니다.\n",
            "x_test shape: (300, 28, 28, 3)\n",
            "y_test shape: (300,)\n"
          ]
        }
      ],
      "source": [
        "#테스트 데이터 만들기 \n",
        "\n",
        "import numpy as np\n",
        "\n",
        "def load_data_2nd(img_path):\n",
        "    # 가위 : 0, 바위 : 1, 보 : 2\n",
        "    number_of_data=300   # 가위바위보 이미지 개수 총합에 주의하세요.\n",
        "    img_size=28\n",
        "    color=3\n",
        "    #이미지 데이터와 라벨(가위 : 0, 바위 : 1, 보 : 2) 데이터를 담을 행렬(matrix) 영역을 생성합니다.\n",
        "    imgs=np.zeros(number_of_data*img_size*img_size*color,dtype=np.int32).reshape(number_of_data,img_size,img_size,color)\n",
        "    labels=np.zeros(number_of_data,dtype=np.int32)\n",
        "\n",
        "    idx=0\n",
        "    for file in glob.iglob(img_path+'/scissor/*.jpg'):\n",
        "        img = np.array(Image.open(file),dtype=np.int32)\n",
        "        imgs[idx,:,:,:]=img    # 데이터 영역에 이미지 행렬을 복사\n",
        "        labels[idx]=0   # 가위 : 0\n",
        "        idx=idx+1\n",
        "\n",
        "    for file in glob.iglob(img_path+'/rock/*.jpg'):\n",
        "        img = np.array(Image.open(file),dtype=np.int32)\n",
        "        imgs[idx,:,:,:]=img    # 데이터 영역에 이미지 행렬을 복사\n",
        "        labels[idx]=1   # 바위 : 1\n",
        "        idx=idx+1       \n",
        "    \n",
        "    for file in glob.iglob(img_path+'/paper/*.jpg'):\n",
        "        img = np.array(Image.open(file),dtype=np.int32)\n",
        "        imgs[idx,:,:,:]=img    # 데이터 영역에 이미지 행렬을 복사\n",
        "        labels[idx]=2   # 보 : 2\n",
        "        idx=idx+1\n",
        "        \n",
        "    print(\"학습데이터(x_test)의 이미지 개수는\",idx,\"입니다.\")\n",
        "    return imgs, labels\n",
        "\n",
        "image_dir_path = os.getenv(\"HOME\") + \"/aiffel/rock_scissor_paper/test\"\n",
        "(x_test, y_test)=load_data_2nd(image_dir_path)\n",
        "x_test_norm = x_test/255.0   # 입력은 0~1 사이의 값으로 정규화\n",
        "\n",
        "print(\"x_test shape: {}\".format(x_test.shape))\n",
        "print(\"y_test shape: {}\".format(y_test.shape))"
      ]
    },
    {
      "cell_type": "code",
      "execution_count": null,
      "id": "1d1dc611",
      "metadata": {
        "id": "1d1dc611",
        "outputId": "968687d2-f352-4234-f7a8-41ba6f41e18e"
      },
      "outputs": [
        {
          "name": "stdout",
          "output_type": "stream",
          "text": [
            "10/10 - 0s - loss: 19.6215 - accuracy: 0.1667\n",
            "test_loss: 19.621503829956055 \n",
            "test_accuracy: 0.1666666716337204\n"
          ]
        }
      ],
      "source": [
        "# 훈련시킨 모델을 사용해서 test_accuracy 측정\n",
        "\n",
        "test_loss, test_accuracy = model.evaluate(x_test, y_test, verbose=2)\n",
        "print(\"test_loss: {} \".format(test_loss))\n",
        "print(\"test_accuracy: {}\".format(test_accuracy))"
      ]
    },
    {
      "cell_type": "code",
      "execution_count": null,
      "id": "26c983e4",
      "metadata": {
        "id": "26c983e4",
        "outputId": "6365b053-59a2-4516-d888-04328f8cd5ac"
      },
      "outputs": [
        {
          "name": "stdout",
          "output_type": "stream",
          "text": [
            "model.predict() 결과 :  [1.1879662e-27 5.9006446e-17 1.0000000e+00]\n",
            "model이 추론한 가장 가능성이 높은 결과 :  2\n",
            "실제 데이터의 라벨 :  0\n"
          ]
        }
      ],
      "source": [
        "predicted_result = model.predict(x_test)  # model이 추론한 확률값. \n",
        "predicted_labels = np.argmax(predicted_result, axis=1)\n",
        "\n",
        "idx=0  #1번째 x_test를 살펴보자. \n",
        "print('model.predict() 결과 : ', predicted_result[idx])\n",
        "print('model이 추론한 가장 가능성이 높은 결과 : ', predicted_labels[idx])\n",
        "print('실제 데이터의 라벨 : ', y_test[idx])"
      ]
    },
    {
      "cell_type": "code",
      "execution_count": null,
      "id": "a5541a70",
      "metadata": {
        "id": "a5541a70",
        "outputId": "7fb3f55e-fa73-44ad-d340-1e6b4e1be758"
      },
      "outputs": [
        {
          "data": {
            "image/png": "[encoded data removed]",
            "text/plain": [
              "<Figure size 432x288 with 1 Axes>"
            ]
          },
          "metadata": {
            "needs_background": "light"
          },
          "output_type": "display_data"
        }
      ],
      "source": [
        "plt.imshow(x_test[idx],cmap=plt.cm.binary)\n",
        "plt.show()"
      ]
    },
    {
      "cell_type": "code",
      "execution_count": null,
      "id": "847b7017",
      "metadata": {
        "id": "847b7017",
        "outputId": "6e393875-1ba4-43ff-b71d-2ee1e1d342ef"
      },
      "outputs": [
        {
          "name": "stdout",
          "output_type": "stream",
          "text": [
            "예측확률분포: [9.9987972e-01 4.6526583e-16 1.2031189e-04]\n",
            "라벨: 2, 예측결과: 0\n"
          ]
        },
        {
          "data": {
            "image/png": "[encoded data removed]",
            "text/plain": [
              "<Figure size 432x288 with 1 Axes>"
            ]
          },
          "metadata": {
            "needs_background": "light"
          },
          "output_type": "display_data"
        },
        {
          "name": "stdout",
          "output_type": "stream",
          "text": [
            "예측확률분포: [1.0000000e+00 3.6277562e-26 2.3271449e-16]\n",
            "라벨: 2, 예측결과: 0\n"
          ]
        },
        {
          "data": {
            "image/png": "[encoded data removed]",
            "text/plain": [
              "<Figure size 432x288 with 1 Axes>"
            ]
          },
          "metadata": {
            "needs_background": "light"
          },
          "output_type": "display_data"
        },
        {
          "name": "stdout",
          "output_type": "stream",
          "text": [
            "예측확률분포: [9.9995875e-01 5.8480143e-12 4.1301832e-05]\n",
            "라벨: 1, 예측결과: 0\n"
          ]
        },
        {
          "data": {
            "image/png": "[encoded data removed]",
            "text/plain": [
              "<Figure size 432x288 with 1 Axes>"
            ]
          },
          "metadata": {
            "needs_background": "light"
          },
          "output_type": "display_data"
        },
        {
          "name": "stdout",
          "output_type": "stream",
          "text": [
            "예측확률분포: [1.1984002e-24 3.3869455e-08 1.0000000e+00]\n",
            "라벨: 1, 예측결과: 2\n"
          ]
        },
        {
          "data": {
            "image/png": "[encoded data removed]",
            "text/plain": [
              "<Figure size 432x288 with 1 Axes>"
            ]
          },
          "metadata": {
            "needs_background": "light"
          },
          "output_type": "display_data"
        },
        {
          "name": "stdout",
          "output_type": "stream",
          "text": [
            "예측확률분포: [7.5747114e-01 2.4252318e-01 5.7084421e-06]\n",
            "라벨: 2, 예측결과: 0\n"
          ]
        },
        {
          "data": {
            "image/png": "[encoded data removed]",
            "text/plain": [
              "<Figure size 432x288 with 1 Axes>"
            ]
          },
          "metadata": {
            "needs_background": "light"
          },
          "output_type": "display_data"
        }
      ],
      "source": [
        "import random\n",
        "wrong_predict_list=[]\n",
        "for i, _ in enumerate(predicted_labels):\n",
        "    # i번째 test_labels과 y_test이 다른 경우만 모아 봅시다. \n",
        "    if predicted_labels[i] != y_test[i]:\n",
        "        wrong_predict_list.append(i)\n",
        "\n",
        "# wrong_predict_list 에서 랜덤하게 5개만 뽑아봅시다.\n",
        "samples = random.choices(population=wrong_predict_list, k=5)\n",
        "\n",
        "for n in samples:\n",
        "    print(\"예측확률분포: \" + str(predicted_result[n]))\n",
        "    print(\"라벨: \" + str(y_test[n]) + \", 예측결과: \" + str(predicted_labels[n]))\n",
        "    plt.imshow(x_test[n], cmap=plt.cm.binary)\n",
        "    plt.show()"
      ]
    },
    {
      "cell_type": "markdown",
      "id": "171d3c20",
      "metadata": {
        "id": "171d3c20"
      },
      "source": [
        "### n_channel_1=8 /n_channel_2=16/ n_dense=8/ n_train_epoch=10\n",
        "1. 값을 8-48까지 배수로 변화시켜 주고 에포치를 10-20까지 변화시켜 주면서 학습을 시켰다. 그중 학습율이 가장 좋은 값이다. 학습율이 좋을수록 정확도가 낮게 나오는 경향이 있었다.- 오버피팅 \n",
        "\n",
        "2. 정확도가 0.25 으로 나와서 딥러닝에게 너무 실망했다. 얼마나 엉뚱하게 예측을 하는지 찾아보았더니... 테스트 셋으로 받은 사진 하단에 베이지색으로 이미지가 찍혀 있었다. 가위바위보를 하고 있는 손 색깔과 비슷한 베이지 색이 꽤나 많이 픽셀을 차지하고 있어서 예측을 잘 못하는건 아닌가 하는 생각이 들었다. \n",
        "\n",
        "3. 테스트 셋을 건드릴 수 는 없어서 두번째 방법으로 내가 테스트 셋을 따로 만들어 보았다. "
      ]
    },
    {
      "cell_type": "markdown",
      "id": "07259073",
      "metadata": {
        "id": "07259073"
      },
      "source": [
        "## 2. 얼마나 잘 만들었는지 확인하기 \n",
        "(train: 내 데이터 1-100 test: 내가 만든 데이터 101-200 )"
      ]
    },
    {
      "cell_type": "code",
      "execution_count": null,
      "id": "3036f666",
      "metadata": {
        "id": "3036f666",
        "outputId": "04842389-b9e0-4750-8610-73abbca2e18c"
      },
      "outputs": [
        {
          "name": "stdout",
          "output_type": "stream",
          "text": [
            "100  images to be resized.\n",
            "100  images resized.\n"
          ]
        }
      ],
      "source": [
        "# 데이터 사이즈 줄이기 \n",
        "\n",
        "def resize_images(img_path):\n",
        "\timages=glob.glob(img_path + \"/*.jpg\")  \n",
        "    \n",
        "\tprint(len(images), \" images to be resized.\")\n",
        "\n",
        "\ttarget_size=(28,28)\n",
        "\tfor img in images:\n",
        "\t\told_img=Image.open(img)\n",
        "\t\tnew_img=old_img.resize(target_size,Image.ANTIALIAS)\n",
        "\t\tnew_img.save(img, \"JPEG\")\n",
        "    \n",
        "\tprint(len(images), \" images resized.\")\n",
        "    \n",
        "\n",
        "image_dir_path = os.getenv(\"HOME\") + \"/aiffel/rock_scissor_paper/scissor2\"\n",
        "\n",
        "image_dir_path = os.getenv(\"HOME\") + \"/aiffel/rock_scissor_paper/rock2\"\n",
        "\n",
        "image_dir_path = os.getenv(\"HOME\") + \"/aiffel/rock_scissor_paper/paper2\"\n",
        "resize_images(image_dir_path)\n"
      ]
    },
    {
      "cell_type": "code",
      "execution_count": null,
      "id": "13e1be10",
      "metadata": {
        "id": "13e1be10",
        "outputId": "b640cbe7-e7cc-4f8a-afe3-a0c7fb798ba0"
      },
      "outputs": [
        {
          "name": "stdout",
          "output_type": "stream",
          "text": [
            "학습데이터(x_test)의 이미지 개수는 299 입니다.\n",
            "x_test shape: (300, 28, 28, 3)\n",
            "y_test shape: (300,)\n"
          ]
        }
      ],
      "source": [
        "#테스트 데이터 만들기 \n",
        "\n",
        "import numpy as np\n",
        "\n",
        "def load_data_2nd(img_path):\n",
        "    # 가위 : 0, 바위 : 1, 보 : 2\n",
        "    number_of_data=300   # 가위바위보 이미지 개수 총합에 주의하세요.\n",
        "    img_size=28\n",
        "    color=3\n",
        "    #이미지 데이터와 라벨(가위 : 0, 바위 : 1, 보 : 2) 데이터를 담을 행렬(matrix) 영역을 생성합니다.\n",
        "    imgs=np.zeros(number_of_data*img_size*img_size*color,dtype=np.int32).reshape(number_of_data,img_size,img_size,color)\n",
        "    labels=np.zeros(number_of_data,dtype=np.int32)\n",
        "\n",
        "    idx=0\n",
        "    for file in glob.iglob(img_path+'/scissor2/*.jpg'):\n",
        "        img = np.array(Image.open(file),dtype=np.int32)\n",
        "        imgs[idx,:,:,:]=img    # 데이터 영역에 이미지 행렬을 복사\n",
        "        labels[idx]=0   # 가위 : 0\n",
        "        idx=idx+1\n",
        "\n",
        "    for file in glob.iglob(img_path+'/rock2/*.jpg'):\n",
        "        img = np.array(Image.open(file),dtype=np.int32)\n",
        "        imgs[idx,:,:,:]=img    # 데이터 영역에 이미지 행렬을 복사\n",
        "        labels[idx]=1   # 바위 : 1\n",
        "        idx=idx+1       \n",
        "    \n",
        "    for file in glob.iglob(img_path+'/paper2/*.jpg'):\n",
        "        img = np.array(Image.open(file),dtype=np.int32)\n",
        "        imgs[idx,:,:,:]=img    # 데이터 영역에 이미지 행렬을 복사\n",
        "        labels[idx]=2   # 보 : 2\n",
        "        idx=idx+1\n",
        "        \n",
        "    print(\"학습데이터(x_test)의 이미지 개수는\",idx,\"입니다.\")\n",
        "    return imgs, labels\n",
        "\n",
        "image_dir_path = os.getenv(\"HOME\") + \"/aiffel/rock_scissor_paper\"\n",
        "(x_test, y_test)=load_data_2nd(image_dir_path)\n",
        "x_test_norm = x_test/255.0   # 입력은 0~1 사이의 값으로 정규화\n",
        "\n",
        "print(\"x_test shape: {}\".format(x_test.shape))\n",
        "print(\"y_test shape: {}\".format(y_test.shape))\n"
      ]
    },
    {
      "cell_type": "code",
      "execution_count": null,
      "id": "eef15174",
      "metadata": {
        "id": "eef15174",
        "outputId": "2dce19aa-c81b-4986-de1f-cc38b3ff4fac"
      },
      "outputs": [
        {
          "name": "stdout",
          "output_type": "stream",
          "text": [
            "10/10 - 0s - loss: 14.1693 - accuracy: 0.3333\n",
            "test_loss: 14.169270515441895 \n",
            "test_accuracy: 0.3333333432674408\n"
          ]
        }
      ],
      "source": [
        "# 훈련시킨 모델을 사용해서 test_accuracy 측정\n",
        "\n",
        "test_loss, test_accuracy = model.evaluate(x_test, y_test, verbose=2)\n",
        "print(\"test_loss: {} \".format(test_loss))\n",
        "print(\"test_accuracy: {}\".format(test_accuracy))"
      ]
    },
    {
      "cell_type": "code",
      "execution_count": null,
      "id": "295e3cd1",
      "metadata": {
        "id": "295e3cd1",
        "outputId": "2aa404c2-31f5-4679-bd77-c78740d5cded"
      },
      "outputs": [
        {
          "name": "stdout",
          "output_type": "stream",
          "text": [
            "model.predict() 결과 :  [4.4982518e-20 9.9969363e-01 3.0636985e-04]\n",
            "model이 추론한 가장 가능성이 높은 결과 :  1\n",
            "실제 데이터의 라벨 :  0\n"
          ]
        }
      ],
      "source": [
        "predicted_result = model.predict(x_test)  # model이 추론한 확률값. \n",
        "predicted_labels = np.argmax(predicted_result, axis=1)\n",
        "\n",
        "idx=0  #1번째 x_test를 살펴보자. \n",
        "print('model.predict() 결과 : ', predicted_result[idx])\n",
        "print('model이 추론한 가장 가능성이 높은 결과 : ', predicted_labels[idx])\n",
        "print('실제 데이터의 라벨 : ', y_test[idx])"
      ]
    },
    {
      "cell_type": "markdown",
      "id": "ac2deacf",
      "metadata": {
        "id": "ac2deacf"
      },
      "source": [
        "#### 1. 내가 만든 테스트 셋은 같은 공간에서 사진 촬영을 했기 때문에 아무래도 배경부분의 픽셀이 비슷하게 처리되니 정확도가 2배 정도 높게 나왔다. 정확도가 낮은 원인은 학습할 데이터가 적어서 그런 것으로 좁혀 졌다. \n",
        "\n",
        "#### 2. 다른 그루들이 올린 데이터들로 데이터 양을 늘려서 다양한 데이터로 학습을 더 시켜 보기로 한다. "
      ]
    },
    {
      "cell_type": "code",
      "execution_count": null,
      "id": "a6d3a406",
      "metadata": {
        "id": "a6d3a406",
        "outputId": "7b35f1dd-2b49-4546-98dc-7cc748d257af"
      },
      "outputs": [
        {
          "data": {
            "image/png": "[encoded data removed]",
            "text/plain": [
              "<Figure size 432x288 with 1 Axes>"
            ]
          },
          "metadata": {
            "needs_background": "light"
          },
          "output_type": "display_data"
        }
      ],
      "source": [
        "plt.imshow(x_test[idx],cmap=plt.cm.binary)\n",
        "plt.show()"
      ]
    },
    {
      "cell_type": "code",
      "execution_count": null,
      "id": "53287454",
      "metadata": {
        "id": "53287454",
        "outputId": "d1f3a420-e81c-4bac-ba9e-30bbd16d9186"
      },
      "outputs": [
        {
          "name": "stdout",
          "output_type": "stream",
          "text": [
            "예측확률분포: [6.2825498e-24 9.9977165e-01 2.2839689e-04]\n",
            "라벨: 0, 예측결과: 1\n"
          ]
        },
        {
          "data": {
            "image/png": "[encoded data removed]",
            "text/plain": [
              "<Figure size 432x288 with 1 Axes>"
            ]
          },
          "metadata": {
            "needs_background": "light"
          },
          "output_type": "display_data"
        },
        {
          "name": "stdout",
          "output_type": "stream",
          "text": [
            "예측확률분포: [4.5377566e-10 3.5510404e-11 1.0000000e+00]\n",
            "라벨: 0, 예측결과: 2\n"
          ]
        },
        {
          "data": {
            "image/png": "[encoded data removed]",
            "text/plain": [
              "<Figure size 432x288 with 1 Axes>"
            ]
          },
          "metadata": {
            "needs_background": "light"
          },
          "output_type": "display_data"
        },
        {
          "name": "stdout",
          "output_type": "stream",
          "text": [
            "예측확률분포: [6.7495853e-22 9.9999976e-01 2.6694835e-07]\n",
            "라벨: 0, 예측결과: 1\n"
          ]
        },
        {
          "data": {
            "image/png": "[encoded data removed]",
            "text/plain": [
              "<Figure size 432x288 with 1 Axes>"
            ]
          },
          "metadata": {
            "needs_background": "light"
          },
          "output_type": "display_data"
        },
        {
          "name": "stdout",
          "output_type": "stream",
          "text": [
            "예측확률분포: [0.9897996  0.00679891 0.00340155]\n",
            "라벨: 2, 예측결과: 0\n"
          ]
        },
        {
          "data": {
            "image/png": "[encoded data removed]",
            "text/plain": [
              "<Figure size 432x288 with 1 Axes>"
            ]
          },
          "metadata": {
            "needs_background": "light"
          },
          "output_type": "display_data"
        },
        {
          "name": "stdout",
          "output_type": "stream",
          "text": [
            "예측확률분포: [9.9986148e-01 1.4638643e-07 1.3836946e-04]\n",
            "라벨: 2, 예측결과: 0\n"
          ]
        },
        {
          "data": {
            "image/png": "[encoded data removed]",
            "text/plain": [
              "<Figure size 432x288 with 1 Axes>"
            ]
          },
          "metadata": {
            "needs_background": "light"
          },
          "output_type": "display_data"
        }
      ],
      "source": [
        "import random\n",
        "wrong_predict_list=[]\n",
        "for i, _ in enumerate(predicted_labels):\n",
        "    # i번째 test_labels과 y_test이 다른 경우만 모아 봅시다. \n",
        "    if predicted_labels[i] != y_test[i]:\n",
        "        wrong_predict_list.append(i)\n",
        "\n",
        "# wrong_predict_list 에서 랜덤하게 5개만 뽑아봅시다.\n",
        "samples = random.choices(population=wrong_predict_list, k=5)\n",
        "\n",
        "for n in samples:\n",
        "    print(\"예측확률분포: \" + str(predicted_result[n]))\n",
        "    print(\"라벨: \" + str(y_test[n]) + \", 예측결과: \" + str(predicted_labels[n]))\n",
        "    plt.imshow(x_test[n], cmap=plt.cm.binary)\n",
        "    plt.show()"
      ]
    },
    {
      "cell_type": "markdown",
      "id": "5e8031c2",
      "metadata": {
        "id": "5e8031c2"
      },
      "source": []
    },
    {
      "cell_type": "markdown",
      "id": "140be4aa",
      "metadata": {
        "id": "140be4aa"
      },
      "source": [
        "## 3. train 데이터 양 늘리기"
      ]
    },
    {
      "cell_type": "code",
      "execution_count": null,
      "id": "088adb0d",
      "metadata": {
        "id": "088adb0d",
        "outputId": "363299ed-abfc-46cb-e11c-5231e134c519"
      },
      "outputs": [
        {
          "name": "stdout",
          "output_type": "stream",
          "text": [
            "499  images to be resized.\n",
            "499  images resized.\n",
            "가위 이미지 resize 완료!\n",
            "500  images to be resized.\n",
            "500  images resized.\n",
            "바위 이미지 resize 완료!\n",
            "500  images to be resized.\n",
            "500  images resized.\n",
            "보 이미지 resize 완료!\n"
          ]
        }
      ],
      "source": [
        "def resize_images(img_path):\n",
        "\timages=glob.glob(img_path + \"/*.jpg\")  \n",
        "    \n",
        "\tprint(len(images), \" images to be resized.\")\n",
        "\n",
        "    # 파일마다 모두 28x28 사이즈로 바꾸어 저장합니다.\n",
        "\ttarget_size=(28,28)\n",
        "\tfor img in images:\n",
        "\t\told_img=Image.open(img)\n",
        "\t\tnew_img=old_img.resize(target_size,Image.ANTIALIAS)\n",
        "\t\tnew_img.save(img, \"JPEG\")\n",
        "    \n",
        "\tprint(len(images), \" images resized.\")\n",
        "    \n",
        "# 가위 이미지가 저장된 디렉토리 아래의 모든 jpg 파일을 읽어들여서\n",
        "image_dir_path = os.getenv(\"HOME\") + \"/aiffel/rock_scissor_paper/scissor3\"\n",
        "resize_images(image_dir_path)\n",
        "\n",
        "print(\"가위 이미지 resize 완료!\")\n",
        "\n",
        "image_dir_path = os.getenv(\"HOME\") + \"/aiffel/rock_scissor_paper/rock3\"\n",
        "resize_images(image_dir_path)\n",
        "\n",
        "print(\"바위 이미지 resize 완료!\")\n",
        "\n",
        "image_dir_path = os.getenv(\"HOME\") + \"/aiffel/rock_scissor_paper/paper3\"\n",
        "resize_images(image_dir_path)\n",
        "\n",
        "print(\"보 이미지 resize 완료!\")"
      ]
    },
    {
      "cell_type": "code",
      "execution_count": null,
      "id": "a5db5460",
      "metadata": {
        "id": "a5db5460",
        "outputId": "1ffdd530-70d6-46c2-b7f7-a97ca0626994"
      },
      "outputs": [
        {
          "name": "stdout",
          "output_type": "stream",
          "text": [
            "학습데이터(x_train)의 이미지 개수는 1499 입니다.\n",
            "x_train shape: (1499, 28, 28, 3)\n",
            "y_train shape: (1499,)\n"
          ]
        }
      ],
      "source": [
        "#학습 데이터 만들기 \n",
        "import numpy as np\n",
        "\n",
        "def load_data(img_path, number_of_data = 1499):\n",
        "    img_size=28\n",
        "    color=3\n",
        "    \n",
        "    imgs=np.zeros(number_of_data*img_size*img_size*color,dtype=np.int32).reshape(number_of_data,img_size,img_size,color)\n",
        "    labels=np.zeros(number_of_data,dtype=np.int32)\n",
        "\n",
        "    idx=0\n",
        "    for file in glob.iglob(img_path+'/scissor3/*.jpg'):\n",
        "        img = np.array(Image.open(file),dtype=np.int32)\n",
        "        imgs[idx,:,:,:]=img    # 데이터 영역에 이미지 행렬을 복사\n",
        "        labels[idx]=0   # 가위 : 0\n",
        "        idx=idx+1\n",
        "\n",
        "    for file in glob.iglob(img_path+'/rock3/*.jpg'):\n",
        "        img = np.array(Image.open(file),dtype=np.int32)\n",
        "        imgs[idx,:,:,:]=img    # 데이터 영역에 이미지 행렬을 복사\n",
        "        labels[idx]=1   # 바위 : 1\n",
        "        idx=idx+1  \n",
        "    \n",
        "    for file in glob.iglob(img_path+'/paper3/*.jpg'):\n",
        "        img = np.array(Image.open(file),dtype=np.int32)\n",
        "        imgs[idx,:,:,:]=img    # 데이터 영역에 이미지 행렬을 복사\n",
        "        labels[idx]=2   # 보 : 2\n",
        "        idx=idx+1\n",
        "        \n",
        "    print(\"학습데이터(x_train)의 이미지 개수는\", idx,\"입니다.\")\n",
        "    return imgs, labels\n",
        "\n",
        "image_dir_path = os.getenv(\"HOME\") + \"/aiffel/rock_scissor_paper\"\n",
        "(x_train, y_train)=load_data(image_dir_path)\n",
        "x_train_norm = x_train/255.0   # 입력은 0~1 사이의 값으로 정규화\n",
        "\n",
        "print(\"x_train shape: {}\".format(x_train.shape))\n",
        "print(\"y_train shape: {}\".format(y_train.shape))"
      ]
    },
    {
      "cell_type": "code",
      "execution_count": null,
      "id": "14d1391e",
      "metadata": {
        "id": "14d1391e"
      },
      "outputs": [],
      "source": [
        "import tensorflow as tf\n",
        "from tensorflow import keras\n",
        "import numpy as np\n"
      ]
    },
    {
      "cell_type": "code",
      "execution_count": null,
      "id": "bcf174ed",
      "metadata": {
        "id": "bcf174ed",
        "outputId": "1d01fde8-a6ad-41a7-e3f1-ec73b71335a6"
      },
      "outputs": [
        {
          "name": "stdout",
          "output_type": "stream",
          "text": [
            "Model: \"sequential_6\"\n",
            "_________________________________________________________________\n",
            "Layer (type)                 Output Shape              Param #   \n",
            "=================================================================\n",
            "conv2d_12 (Conv2D)           (None, 26, 26, 8)         224       \n",
            "_________________________________________________________________\n",
            "max_pooling2d_12 (MaxPooling (None, 13, 13, 8)         0         \n",
            "_________________________________________________________________\n",
            "conv2d_13 (Conv2D)           (None, 11, 11, 16)        1168      \n",
            "_________________________________________________________________\n",
            "max_pooling2d_13 (MaxPooling (None, 5, 5, 16)          0         \n",
            "_________________________________________________________________\n",
            "flatten_6 (Flatten)          (None, 400)               0         \n",
            "_________________________________________________________________\n",
            "dense_12 (Dense)             (None, 32)                12832     \n",
            "_________________________________________________________________\n",
            "dense_13 (Dense)             (None, 3)                 99        \n",
            "=================================================================\n",
            "Total params: 14,323\n",
            "Trainable params: 14,323\n",
            "Non-trainable params: 0\n",
            "_________________________________________________________________\n"
          ]
        }
      ],
      "source": [
        "n_channel_1=8\n",
        "n_channel_2=16\n",
        "n_dense=32\n",
        "n_train_epoch=15\n",
        "\n",
        "model=keras.models.Sequential()\n",
        "\n",
        "model.add(keras.layers.Conv2D(n_channel_1, (3,3), activation='relu', input_shape=(28,28,3)))\n",
        "model.add(keras.layers.MaxPool2D(2,2))\n",
        "model.add(keras.layers.Conv2D(n_channel_2, (3,3), activation='relu'))\n",
        "model.add(keras.layers.MaxPooling2D((2,2)))\n",
        "model.add(keras.layers.Flatten())\n",
        "model.add(keras.layers.Dense(n_dense, activation='relu'))\n",
        "model.add(keras.layers.Dense(3, activation='softmax'))\n",
        "\n",
        "\n",
        "\n",
        "model.summary()"
      ]
    },
    {
      "cell_type": "code",
      "execution_count": null,
      "id": "e5796e7a",
      "metadata": {
        "id": "e5796e7a",
        "outputId": "d1415148-36c4-4588-ab9b-3fc183a43f47"
      },
      "outputs": [
        {
          "name": "stdout",
          "output_type": "stream",
          "text": [
            "Epoch 1/15\n",
            "47/47 [==============================] - 0s 3ms/step - loss: 5.2996 - accuracy: 0.5063\n",
            "Epoch 2/15\n",
            "47/47 [==============================] - 0s 3ms/step - loss: 1.3022 - accuracy: 0.7098\n",
            "Epoch 3/15\n",
            "47/47 [==============================] - 0s 3ms/step - loss: 0.8746 - accuracy: 0.7572\n",
            "Epoch 4/15\n",
            "47/47 [==============================] - 0s 3ms/step - loss: 0.5606 - accuracy: 0.8406\n",
            "Epoch 5/15\n",
            "47/47 [==============================] - 0s 3ms/step - loss: 0.3639 - accuracy: 0.8899\n",
            "Epoch 6/15\n",
            "47/47 [==============================] - 0s 3ms/step - loss: 0.2734 - accuracy: 0.9106\n",
            "Epoch 7/15\n",
            "47/47 [==============================] - 0s 3ms/step - loss: 0.2361 - accuracy: 0.9219\n",
            "Epoch 8/15\n",
            "47/47 [==============================] - 0s 3ms/step - loss: 0.2117 - accuracy: 0.9320\n",
            "Epoch 9/15\n",
            "47/47 [==============================] - 0s 3ms/step - loss: 0.1658 - accuracy: 0.9440\n",
            "Epoch 10/15\n",
            "47/47 [==============================] - 0s 3ms/step - loss: 0.1372 - accuracy: 0.9573\n",
            "Epoch 11/15\n",
            "47/47 [==============================] - 0s 3ms/step - loss: 0.1230 - accuracy: 0.9586\n",
            "Epoch 12/15\n",
            "47/47 [==============================] - 0s 3ms/step - loss: 0.0740 - accuracy: 0.9780\n",
            "Epoch 13/15\n",
            "47/47 [==============================] - 0s 3ms/step - loss: 0.0672 - accuracy: 0.9733\n",
            "Epoch 14/15\n",
            "47/47 [==============================] - 0s 3ms/step - loss: 0.0563 - accuracy: 0.9813\n",
            "Epoch 15/15\n",
            "47/47 [==============================] - 0s 3ms/step - loss: 0.0720 - accuracy: 0.9753\n"
          ]
        },
        {
          "data": {
            "text/plain": [
              "<keras.callbacks.History at 0x7f15af5cb700>"
            ]
          },
          "execution_count": 61,
          "metadata": {},
          "output_type": "execute_result"
        }
      ],
      "source": [
        "model.compile(optimizer='adam',\n",
        "             loss='sparse_categorical_crossentropy',\n",
        "             metrics=['accuracy'])\n",
        "\n",
        "model.fit(x_train, y_train, epochs=n_train_epoch)\n"
      ]
    },
    {
      "cell_type": "markdown",
      "id": "ebc58c0f",
      "metadata": {
        "id": "ebc58c0f"
      },
      "source": [
        "## 4. 얼마나 잘 만들었는지 확인하기 \n",
        "(train: 그루들 데이터 500 test:100 )"
      ]
    },
    {
      "cell_type": "code",
      "execution_count": null,
      "id": "2ad90787",
      "metadata": {
        "id": "2ad90787",
        "outputId": "ab140edb-7530-4567-ff72-5eaa56236deb"
      },
      "outputs": [
        {
          "name": "stdout",
          "output_type": "stream",
          "text": [
            "학습데이터(x_test)의 이미지 개수는 299 입니다.\n",
            "x_test shape: (300, 28, 28, 3)\n",
            "y_test shape: (300,)\n"
          ]
        }
      ],
      "source": [
        "import numpy as np\n",
        "\n",
        "def load_data_2nd(img_path):\n",
        "    # 가위 : 0, 바위 : 1, 보 : 2\n",
        "    number_of_data=300   # 가위바위보 이미지 개수 총합에 주의하세요.\n",
        "    img_size=28\n",
        "    color=3\n",
        "    #이미지 데이터와 라벨(가위 : 0, 바위 : 1, 보 : 2) 데이터를 담을 행렬(matrix) 영역을 생성합니다.\n",
        "    imgs=np.zeros(number_of_data*img_size*img_size*color,dtype=np.int32).reshape(number_of_data,img_size,img_size,color)\n",
        "    labels=np.zeros(number_of_data,dtype=np.int32)\n",
        "\n",
        "    idx=0\n",
        "    for file in glob.iglob(img_path+'/scissor2/*.jpg'):\n",
        "        img = np.array(Image.open(file),dtype=np.int32)\n",
        "        imgs[idx,:,:,:]=img    # 데이터 영역에 이미지 행렬을 복사\n",
        "        labels[idx]=0   # 가위 : 0\n",
        "        idx=idx+1\n",
        "\n",
        "    for file in glob.iglob(img_path+'/rock2/*.jpg'):\n",
        "        img = np.array(Image.open(file),dtype=np.int32)\n",
        "        imgs[idx,:,:,:]=img    # 데이터 영역에 이미지 행렬을 복사\n",
        "        labels[idx]=1   # 바위 : 1\n",
        "        idx=idx+1       \n",
        "    \n",
        "    for file in glob.iglob(img_path+'/paper2/*.jpg'):\n",
        "        img = np.array(Image.open(file),dtype=np.int32)\n",
        "        imgs[idx,:,:,:]=img    # 데이터 영역에 이미지 행렬을 복사\n",
        "        labels[idx]=2   # 보 : 2\n",
        "        idx=idx+1\n",
        "        \n",
        "    print(\"학습데이터(x_test)의 이미지 개수는\",idx,\"입니다.\")\n",
        "    return imgs, labels\n",
        "\n",
        "image_dir_path = os.getenv(\"HOME\") + \"/aiffel/rock_scissor_paper\"\n",
        "(x_test, y_test)=load_data_2nd(image_dir_path)\n",
        "x_test_norm = x_test/255.0   # 입력은 0~1 사이의 값으로 정규화\n",
        "\n",
        "print(\"x_test shape: {}\".format(x_test.shape))\n",
        "print(\"y_test shape: {}\".format(y_test.shape))"
      ]
    },
    {
      "cell_type": "code",
      "execution_count": null,
      "id": "c0af37a3",
      "metadata": {
        "id": "c0af37a3",
        "outputId": "225124e0-1cb7-4cc6-8115-dd2f2418b330"
      },
      "outputs": [
        {
          "name": "stdout",
          "output_type": "stream",
          "text": [
            "10/10 - 0s - loss: 0.0636 - accuracy: 0.9733\n",
            "test_loss: 0.06357637792825699 \n",
            "test_accuracy: 0.9733333587646484\n"
          ]
        }
      ],
      "source": [
        "# 훈련시킨 모델을 사용해서 test_accuracy 측정\n",
        "\n",
        "test_loss, test_accuracy = model.evaluate(x_test, y_test, verbose=2)\n",
        "print(\"test_loss: {} \".format(test_loss))\n",
        "print(\"test_accuracy: {}\".format(test_accuracy))"
      ]
    },
    {
      "cell_type": "code",
      "execution_count": null,
      "id": "2e5a78b4",
      "metadata": {
        "id": "2e5a78b4",
        "outputId": "e06f9395-62a9-4aa6-bb6d-54a538fd08cb"
      },
      "outputs": [
        {
          "name": "stdout",
          "output_type": "stream",
          "text": [
            "예측확률분포: [0.00745172 0.8231799  0.16936839]\n",
            "라벨: 0, 예측결과: 1\n"
          ]
        },
        {
          "data": {
            "image/png": "[encoded data removed]",
            "text/plain": [
              "<Figure size 432x288 with 1 Axes>"
            ]
          },
          "metadata": {
            "needs_background": "light"
          },
          "output_type": "display_data"
        },
        {
          "name": "stdout",
          "output_type": "stream",
          "text": [
            "예측확률분포: [0.         0.00631702 0.993683  ]\n",
            "라벨: 1, 예측결과: 2\n"
          ]
        },
        {
          "data": {
            "image/png": "[encoded data removed]",
            "text/plain": [
              "<Figure size 432x288 with 1 Axes>"
            ]
          },
          "metadata": {
            "needs_background": "light"
          },
          "output_type": "display_data"
        },
        {
          "name": "stdout",
          "output_type": "stream",
          "text": [
            "예측확률분포: [3.9962908e-11 1.7923242e-06 9.9999821e-01]\n",
            "라벨: 0, 예측결과: 2\n"
          ]
        },
        {
          "data": {
            "image/png": "[encoded data removed]",
            "text/plain": [
              "<Figure size 432x288 with 1 Axes>"
            ]
          },
          "metadata": {
            "needs_background": "light"
          },
          "output_type": "display_data"
        },
        {
          "name": "stdout",
          "output_type": "stream",
          "text": [
            "예측확률분포: [0.0000000e+00 9.9994397e-01 5.6082456e-05]\n",
            "라벨: 0, 예측결과: 1\n"
          ]
        },
        {
          "data": {
            "image/png": "[encoded data removed]",
            "text/plain": [
              "<Figure size 432x288 with 1 Axes>"
            ]
          },
          "metadata": {
            "needs_background": "light"
          },
          "output_type": "display_data"
        },
        {
          "name": "stdout",
          "output_type": "stream",
          "text": [
            "예측확률분포: [9.9999869e-01 1.2678596e-15 1.3000106e-06]\n",
            "라벨: 2, 예측결과: 0\n"
          ]
        },
        {
          "data": {
            "image/png": "[encoded data removed]",
            "text/plain": [
              "<Figure size 432x288 with 1 Axes>"
            ]
          },
          "metadata": {
            "needs_background": "light"
          },
          "output_type": "display_data"
        }
      ],
      "source": [
        "import random\n",
        "wrong_predict_list=[]\n",
        "for i, _ in enumerate(predicted_labels):\n",
        "    # i번째 test_labels과 y_test이 다른 경우만 모아 봅시다. \n",
        "    if predicted_labels[i] != y_test[i]:\n",
        "        wrong_predict_list.append(i)\n",
        "\n",
        "# wrong_predict_list 에서 랜덤하게 5개만 뽑아봅시다.\n",
        "samples = random.choices(population=wrong_predict_list, k=5)\n",
        "\n",
        "for n in samples:\n",
        "    print(\"예측확률분포: \" + str(predicted_result[n]))\n",
        "    print(\"라벨: \" + str(y_test[n]) + \", 예측결과: \" + str(predicted_labels[n]))\n",
        "    plt.imshow(x_test[n], cmap=plt.cm.binary)\n",
        "    plt.show()"
      ]
    },
    {
      "cell_type": "markdown",
      "id": "7abc0239",
      "metadata": {
        "id": "7abc0239"
      },
      "source": [
        "# 회고 \n",
        "\n",
        "\n",
        "1. 이미지 분류기 모델 만들기 \n",
        "\n",
        "-내가 만든 데이터 100 / 주어진 테스트 데이터 100\n",
        "-내가 만든 데이터 100 / 내가 만든 테스트 데이터 100\n",
        "-그루들이 만든 데이터 500 / 내가 만든 테스트 데이터 100\n",
        "\n",
        "\n",
        "\n",
        "\n",
        "2. 오버 피팅 극복을 위한 시도 \n",
        "\n",
        "- 하이퍼 파라미터 바꾸기(첫번째 분류기) 8~48까지 값에서 시도하였다. / 학습도 20회 이하로 제한하여 테스트 하였다. 차원의 저주의 위험성을 생각하며 세팅하였다. \n",
        "\n",
        "n_channel_1=16\n",
        "n_channel_2=32\n",
        "n_dense=32\n",
        "n_train_epoch=10\n",
        "\n",
        "test_loss: 8.746025085449219 \n",
        "test_accuracy: 0.5366666913032532\n",
        "    \n",
        "    \n",
        "n_channel_1=16\n",
        "n_channel_2=32\n",
        "n_dense=32\n",
        "n_train_epoch=10\n",
        "\n",
        "10/10 - 0s - loss: 11.7957 - accuracy: 0.2900\n",
        "test_loss: 11.795746803283691 \n",
        "test_accuracy: 0.28999999165534973\n",
        "\n",
        "\n",
        "- 데이터 셋의 다양성으로 실험하기 \n",
        "\n",
        "*내가 만든 데이터 100 / 주어진 테스트 데이터 100\n",
        "*내가 만든 데이터 100 / 내가 만든 테스트 데이터 100\n",
        "*그루들이 만든 데이터 500 / 내가 만든 테스트 데이터 100\n",
        "\n",
        "\n",
        "3. 3번째 분류기에서 90% 이상 달성 \n",
        "\n",
        "\n",
        "4. n_channel_1=8 /n_channel_2=16/ n_dense=8/ n_train_epoch=10\n",
        "값을 8-48까지 배수로 변화시켜 주고 에포치를 10-20까지 변화시켜 주면서 학습을 시켰다. 그중 학습율이 가장 좋은 값이다. 학습율이 좋을수록 정확도가 낮게 나오는 경향이 있었다.- 오버피팅이라 판단되었다.\n",
        "\n",
        "첫번째 분류기 정확도가 0.25 으로 나와서 딥러닝에게 너무 실망했다. 얼마나 엉뚱하게 예측을 하는지 찾아보았더니... 테스트 셋으로 받은 사진 하단에 베이지색으로 이미지가 찍혀 있었다. 가위바위보를 하고 있는 손 색깔과 비슷한 베이지 색이 꽤나 많이 픽셀을 차지하고 있어서 예측을 잘 못하는건 아닌가 하는 생각이 들었다.\n",
        "\n",
        "테스트 셋을 건드릴 수 는 없어서 두번째 방법으로 내가 테스트 셋을 따로 만들어 보았다. - 배경이 같은 조건이라 같은 조건에서는 정확도가 높을 수 있지만, 다른 데이터 셋에 사용하기에 부적합할 것으로 판단되었다- 오버피팅이라 판단됨.\n",
        "\n",
        "5. 학습은 다양성을 바탕으로 시키는 것이 오버피팅도 막고, 하이퍼파라미터를 잘 맞추어서 학습 시켜 놓았을때 정확도에 의미가 있다 판단된다.픽셀 한칸한칸이 의미가 있다보니 배경색이나 주변 환경이 이미지에 담기면 그것도 큰 변수로 작용한다. 이를 막는 것은 어려우니 보다 다양한 데이터, 데이터 양을 늘려 학습시켜야 쓸만한 모델이 된다는 것을 배웠다.  \n",
        "\n",
        "6.가장 정확도가 높았던 모델은 그루들의 이미지를 모은 트레인과 내가 만든 테스트 셋이었다. "
      ]
    },
    {
      "cell_type": "code",
      "execution_count": null,
      "id": "b0391a2a",
      "metadata": {
        "id": "b0391a2a"
      },
      "outputs": [],
      "source": []
    }
  ],
  "metadata": {
    "kernelspec": {
      "display_name": "Python 3 (ipykernel)",
      "language": "python",
      "name": "python3"
    },
    "language_info": {
      "codemirror_mode": {
        "name": "ipython",
        "version": 3
      },
      "file_extension": ".py",
      "mimetype": "text/x-python",
      "name": "python",
      "nbconvert_exporter": "python",
      "pygments_lexer": "ipython3",
      "version": "3.9.7"
    },
    "colab": {
      "provenance": [],
      "include_colab_link": true
    }
  },
  "nbformat": 4,
  "nbformat_minor": 5
}